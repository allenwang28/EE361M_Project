{
 "cells": [
  {
   "cell_type": "code",
   "execution_count": 2,
   "metadata": {
    "collapsed": false
   },
   "outputs": [],
   "source": [
    "import pandas as pd\n",
    "import numpy as np\n",
    "\n",
    "# read the entire file into a python array\n",
    "with open('recipeitems-latest.json', 'rb') as f:\n",
    "    data = f.readlines()\n",
    "\n",
    "# remove the trailing \"\\n\" from each line\n",
    "data = map(lambda x: x.rstrip(), data)\n",
    "\n",
    "# each element of 'data' is an individual JSON object.\n",
    "# i want to convert it into an *array* of JSON objects\n",
    "# which, in and of itself, is one large JSON object\n",
    "# basically... add square brackets to the beginning\n",
    "# and end, and have all the individual business JSON objects\n",
    "# separated by a comma\n",
    "data_json_str = \"[\" + ','.join(data) + \"]\"\n",
    "\n",
    "# now, load it into pandas\n",
    "df = pd.read_json(data_json_str)\n"
   ]
  },
  {
   "cell_type": "code",
   "execution_count": 23,
   "metadata": {
    "collapsed": false
   },
   "outputs": [
    {
     "name": "stdout",
     "output_type": "stream",
     "text": [
      "The shape of the data is: (386, 4)\n"
     ]
    },
    {
     "data": {
      "text/html": [
       "<div>\n",
       "<table border=\"1\" class=\"dataframe\">\n",
       "  <thead>\n",
       "    <tr style=\"text-align: right;\">\n",
       "      <th></th>\n",
       "      <th>ingredients</th>\n",
       "      <th>name</th>\n",
       "      <th>recipeCategory</th>\n",
       "      <th>recipeYield</th>\n",
       "    </tr>\n",
       "  </thead>\n",
       "  <tbody>\n",
       "    <tr>\n",
       "      <th>6</th>\n",
       "      <td>3-4 handfuls spinach\\n½ cup kamut, uncooked\\n¼...</td>\n",
       "      <td>Spinach and Kamut Salad with Chili-Orange Dres...</td>\n",
       "      <td>Salad</td>\n",
       "      <td>2</td>\n",
       "    </tr>\n",
       "    <tr>\n",
       "      <th>9</th>\n",
       "      <td>1½ cups whole wheat pastry flour\\n1¾ cup roast...</td>\n",
       "      <td>Pistachio Chocolate Chip Muffins</td>\n",
       "      <td>Snack</td>\n",
       "      <td>12</td>\n",
       "    </tr>\n",
       "    <tr>\n",
       "      <th>31</th>\n",
       "      <td>½ lb asparagus\\n5-6 green onions\\n1 tablespoon...</td>\n",
       "      <td>Roasted Asparagus, Green Onion, and Blue Chees...</td>\n",
       "      <td>Breakfast</td>\n",
       "      <td>2-4</td>\n",
       "    </tr>\n",
       "    <tr>\n",
       "      <th>2116</th>\n",
       "      <td>5 Jalapeño peppers\\n1 small clove of garlic\\n4...</td>\n",
       "      <td>(Twice-Baked) Jalapeño Poppers</td>\n",
       "      <td>Appetizer</td>\n",
       "      <td>3-4</td>\n",
       "    </tr>\n",
       "    <tr>\n",
       "      <th>2124</th>\n",
       "      <td>8 rice papers\\n3-4 oz of brown rice noodles\\n1...</td>\n",
       "      <td>{Sweet Chili} Roasted Sweet Potato Spring Rolls</td>\n",
       "      <td>vegetarian main course</td>\n",
       "      <td>2-4</td>\n",
       "    </tr>\n",
       "  </tbody>\n",
       "</table>\n",
       "</div>"
      ],
      "text/plain": [
       "                                            ingredients  \\\n",
       "6     3-4 handfuls spinach\\n½ cup kamut, uncooked\\n¼...   \n",
       "9     1½ cups whole wheat pastry flour\\n1¾ cup roast...   \n",
       "31    ½ lb asparagus\\n5-6 green onions\\n1 tablespoon...   \n",
       "2116  5 Jalapeño peppers\\n1 small clove of garlic\\n4...   \n",
       "2124  8 rice papers\\n3-4 oz of brown rice noodles\\n1...   \n",
       "\n",
       "                                                   name  \\\n",
       "6     Spinach and Kamut Salad with Chili-Orange Dres...   \n",
       "9                      Pistachio Chocolate Chip Muffins   \n",
       "31    Roasted Asparagus, Green Onion, and Blue Chees...   \n",
       "2116                     (Twice-Baked) Jalapeño Poppers   \n",
       "2124    {Sweet Chili} Roasted Sweet Potato Spring Rolls   \n",
       "\n",
       "              recipeCategory recipeYield  \n",
       "6                      Salad           2  \n",
       "9                      Snack          12  \n",
       "31                 Breakfast         2-4  \n",
       "2116               Appetizer         3-4  \n",
       "2124  vegetarian main course         2-4  "
      ]
     },
     "execution_count": 23,
     "metadata": {},
     "output_type": "execute_result"
    }
   ],
   "source": [
    "keep = [\"ingredients\", \"name\", \"recipeCategory\", \"recipeYield\"]\n",
    "df = df[keep]\n",
    "print \"The shape of the data is: {}\".format(df.shape)\n",
    "df.head()"
   ]
  },
  {
   "cell_type": "code",
   "execution_count": 38,
   "metadata": {
    "collapsed": false
   },
   "outputs": [
    {
     "name": "stdout",
     "output_type": "stream",
     "text": [
      "3-4 handfuls spinach\n",
      "½ cup kamut, uncooked\n",
      "¼ cup sunflower seeds\n",
      "2 ounces feta\n",
      "½ cup fresh squeezed orange juice (app. 2 oranges)\n",
      "¼ cup walnut oil\n",
      "2 tablespoons honey\n",
      "¼-1/2 teaspoon red chili flakes\n"
     ]
    }
   ],
   "source": [
    "# df = df.dropna(axis=0, subset=['ingredients'])\n",
    "df = df.dropna()\n",
    "df.shape\n",
    "\n",
    "print df['ingredients'].iloc[0]"
   ]
  },
  {
   "cell_type": "code",
   "execution_count": null,
   "metadata": {
    "collapsed": true
   },
   "outputs": [],
   "source": []
  }
 ],
 "metadata": {
  "kernelspec": {
   "display_name": "Python [Root]",
   "language": "python",
   "name": "Python [Root]"
  },
  "language_info": {
   "codemirror_mode": {
    "name": "ipython",
    "version": 2
   },
   "file_extension": ".py",
   "mimetype": "text/x-python",
   "name": "python",
   "nbconvert_exporter": "python",
   "pygments_lexer": "ipython2",
   "version": "2.7.12"
  }
 },
 "nbformat": 4,
 "nbformat_minor": 0
}
