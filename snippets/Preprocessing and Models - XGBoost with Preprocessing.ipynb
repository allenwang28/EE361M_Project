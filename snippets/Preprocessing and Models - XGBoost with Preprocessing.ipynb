{
 "cells": [
  {
   "cell_type": "code",
   "execution_count": 1,
   "metadata": {
    "collapsed": false
   },
   "outputs": [
    {
     "name": "stdout",
     "output_type": "stream",
     "text": [
      "(25697, 25)\n",
      "Index([u'action_type', u'combined_shot_type', u'game_event_id', u'game_id',\n",
      "       u'lat', u'loc_x', u'loc_y', u'lon', u'minutes_remaining', u'period',\n",
      "       u'playoffs', u'season', u'seconds_remaining', u'shot_distance',\n",
      "       u'shot_made_flag', u'shot_type', u'shot_zone_area', u'shot_zone_basic',\n",
      "       u'shot_zone_range', u'team_id', u'team_name', u'game_date', u'matchup',\n",
      "       u'opponent', u'shot_id'],\n",
      "      dtype='object')\n"
     ]
    }
   ],
   "source": [
    "import pandas as pd\n",
    "import numpy as np\n",
    "from sklearn.model_selection import train_test_split\n",
    "\n",
    "df = pd.read_csv('../data/data.csv').dropna()\n",
    "\n",
    "print(df.shape)\n",
    "print(df.columns)"
   ]
  },
  {
   "cell_type": "code",
   "execution_count": 2,
   "metadata": {
    "collapsed": false
   },
   "outputs": [
    {
     "data": {
      "text/html": [
       "<div>\n",
       "<table border=\"1\" class=\"dataframe\">\n",
       "  <thead>\n",
       "    <tr style=\"text-align: right;\">\n",
       "      <th></th>\n",
       "      <th>action_type</th>\n",
       "      <th>combined_shot_type</th>\n",
       "      <th>game_event_id</th>\n",
       "      <th>game_id</th>\n",
       "      <th>lat</th>\n",
       "      <th>loc_x</th>\n",
       "      <th>loc_y</th>\n",
       "      <th>lon</th>\n",
       "      <th>minutes_remaining</th>\n",
       "      <th>period</th>\n",
       "      <th>...</th>\n",
       "      <th>shot_type</th>\n",
       "      <th>shot_zone_area</th>\n",
       "      <th>shot_zone_basic</th>\n",
       "      <th>shot_zone_range</th>\n",
       "      <th>team_id</th>\n",
       "      <th>team_name</th>\n",
       "      <th>game_date</th>\n",
       "      <th>matchup</th>\n",
       "      <th>opponent</th>\n",
       "      <th>shot_id</th>\n",
       "    </tr>\n",
       "  </thead>\n",
       "  <tbody>\n",
       "    <tr>\n",
       "      <th>1</th>\n",
       "      <td>Jump Shot</td>\n",
       "      <td>Jump Shot</td>\n",
       "      <td>12</td>\n",
       "      <td>20000012</td>\n",
       "      <td>34.0443</td>\n",
       "      <td>-157</td>\n",
       "      <td>0</td>\n",
       "      <td>-118.4268</td>\n",
       "      <td>10</td>\n",
       "      <td>1</td>\n",
       "      <td>...</td>\n",
       "      <td>2PT Field Goal</td>\n",
       "      <td>Left Side(L)</td>\n",
       "      <td>Mid-Range</td>\n",
       "      <td>8-16 ft.</td>\n",
       "      <td>1610612747</td>\n",
       "      <td>Los Angeles Lakers</td>\n",
       "      <td>2000-10-31</td>\n",
       "      <td>LAL @ POR</td>\n",
       "      <td>POR</td>\n",
       "      <td>2</td>\n",
       "    </tr>\n",
       "    <tr>\n",
       "      <th>2</th>\n",
       "      <td>Jump Shot</td>\n",
       "      <td>Jump Shot</td>\n",
       "      <td>35</td>\n",
       "      <td>20000012</td>\n",
       "      <td>33.9093</td>\n",
       "      <td>-101</td>\n",
       "      <td>135</td>\n",
       "      <td>-118.3708</td>\n",
       "      <td>7</td>\n",
       "      <td>1</td>\n",
       "      <td>...</td>\n",
       "      <td>2PT Field Goal</td>\n",
       "      <td>Left Side Center(LC)</td>\n",
       "      <td>Mid-Range</td>\n",
       "      <td>16-24 ft.</td>\n",
       "      <td>1610612747</td>\n",
       "      <td>Los Angeles Lakers</td>\n",
       "      <td>2000-10-31</td>\n",
       "      <td>LAL @ POR</td>\n",
       "      <td>POR</td>\n",
       "      <td>3</td>\n",
       "    </tr>\n",
       "    <tr>\n",
       "      <th>3</th>\n",
       "      <td>Jump Shot</td>\n",
       "      <td>Jump Shot</td>\n",
       "      <td>43</td>\n",
       "      <td>20000012</td>\n",
       "      <td>33.8693</td>\n",
       "      <td>138</td>\n",
       "      <td>175</td>\n",
       "      <td>-118.1318</td>\n",
       "      <td>6</td>\n",
       "      <td>1</td>\n",
       "      <td>...</td>\n",
       "      <td>2PT Field Goal</td>\n",
       "      <td>Right Side Center(RC)</td>\n",
       "      <td>Mid-Range</td>\n",
       "      <td>16-24 ft.</td>\n",
       "      <td>1610612747</td>\n",
       "      <td>Los Angeles Lakers</td>\n",
       "      <td>2000-10-31</td>\n",
       "      <td>LAL @ POR</td>\n",
       "      <td>POR</td>\n",
       "      <td>4</td>\n",
       "    </tr>\n",
       "    <tr>\n",
       "      <th>4</th>\n",
       "      <td>Driving Dunk Shot</td>\n",
       "      <td>Dunk</td>\n",
       "      <td>155</td>\n",
       "      <td>20000012</td>\n",
       "      <td>34.0443</td>\n",
       "      <td>0</td>\n",
       "      <td>0</td>\n",
       "      <td>-118.2698</td>\n",
       "      <td>6</td>\n",
       "      <td>2</td>\n",
       "      <td>...</td>\n",
       "      <td>2PT Field Goal</td>\n",
       "      <td>Center(C)</td>\n",
       "      <td>Restricted Area</td>\n",
       "      <td>Less Than 8 ft.</td>\n",
       "      <td>1610612747</td>\n",
       "      <td>Los Angeles Lakers</td>\n",
       "      <td>2000-10-31</td>\n",
       "      <td>LAL @ POR</td>\n",
       "      <td>POR</td>\n",
       "      <td>5</td>\n",
       "    </tr>\n",
       "    <tr>\n",
       "      <th>5</th>\n",
       "      <td>Jump Shot</td>\n",
       "      <td>Jump Shot</td>\n",
       "      <td>244</td>\n",
       "      <td>20000012</td>\n",
       "      <td>34.0553</td>\n",
       "      <td>-145</td>\n",
       "      <td>-11</td>\n",
       "      <td>-118.4148</td>\n",
       "      <td>9</td>\n",
       "      <td>3</td>\n",
       "      <td>...</td>\n",
       "      <td>2PT Field Goal</td>\n",
       "      <td>Left Side(L)</td>\n",
       "      <td>Mid-Range</td>\n",
       "      <td>8-16 ft.</td>\n",
       "      <td>1610612747</td>\n",
       "      <td>Los Angeles Lakers</td>\n",
       "      <td>2000-10-31</td>\n",
       "      <td>LAL @ POR</td>\n",
       "      <td>POR</td>\n",
       "      <td>6</td>\n",
       "    </tr>\n",
       "  </tbody>\n",
       "</table>\n",
       "<p>5 rows × 25 columns</p>\n",
       "</div>"
      ],
      "text/plain": [
       "         action_type combined_shot_type  game_event_id   game_id      lat  \\\n",
       "1          Jump Shot          Jump Shot             12  20000012  34.0443   \n",
       "2          Jump Shot          Jump Shot             35  20000012  33.9093   \n",
       "3          Jump Shot          Jump Shot             43  20000012  33.8693   \n",
       "4  Driving Dunk Shot               Dunk            155  20000012  34.0443   \n",
       "5          Jump Shot          Jump Shot            244  20000012  34.0553   \n",
       "\n",
       "   loc_x  loc_y       lon  minutes_remaining  period   ...          shot_type  \\\n",
       "1   -157      0 -118.4268                 10       1   ...     2PT Field Goal   \n",
       "2   -101    135 -118.3708                  7       1   ...     2PT Field Goal   \n",
       "3    138    175 -118.1318                  6       1   ...     2PT Field Goal   \n",
       "4      0      0 -118.2698                  6       2   ...     2PT Field Goal   \n",
       "5   -145    -11 -118.4148                  9       3   ...     2PT Field Goal   \n",
       "\n",
       "          shot_zone_area  shot_zone_basic  shot_zone_range     team_id  \\\n",
       "1           Left Side(L)        Mid-Range         8-16 ft.  1610612747   \n",
       "2   Left Side Center(LC)        Mid-Range        16-24 ft.  1610612747   \n",
       "3  Right Side Center(RC)        Mid-Range        16-24 ft.  1610612747   \n",
       "4              Center(C)  Restricted Area  Less Than 8 ft.  1610612747   \n",
       "5           Left Side(L)        Mid-Range         8-16 ft.  1610612747   \n",
       "\n",
       "            team_name   game_date    matchup opponent  shot_id  \n",
       "1  Los Angeles Lakers  2000-10-31  LAL @ POR      POR        2  \n",
       "2  Los Angeles Lakers  2000-10-31  LAL @ POR      POR        3  \n",
       "3  Los Angeles Lakers  2000-10-31  LAL @ POR      POR        4  \n",
       "4  Los Angeles Lakers  2000-10-31  LAL @ POR      POR        5  \n",
       "5  Los Angeles Lakers  2000-10-31  LAL @ POR      POR        6  \n",
       "\n",
       "[5 rows x 25 columns]"
      ]
     },
     "execution_count": 2,
     "metadata": {},
     "output_type": "execute_result"
    }
   ],
   "source": [
    "df.head()"
   ]
  },
  {
   "cell_type": "markdown",
   "metadata": {},
   "source": [
    "## Information about the data\n",
    "As we can see, there are 25,697 labelled shots and 25 columns (one column is what we're trying to predict, which is whether or not he made the shot). Here are brief descriptions of what each column means:\n",
    "\n",
    "- action_type:\n",
    "\n",
    "Values: Jump Shot, Driving Dunk, Layup Shot, Running Jump Shot, etc.\n",
    "\n",
    "This basically means the type of shot taken\n",
    "\n",
    "\n",
    "- combined_shot_type\n",
    "\n",
    "Values: Jump Shot, Dunk, Layup\n",
    "\n",
    "Same thing as action_type but more generalized. action_type will say \"Running Jump Shot\" while combined_shot_type will say \"Jump Shot,\" so action_type is more descriptive.\n",
    "\n",
    "- game_event_id, game_id, shot_id\n",
    "\n",
    "Identifiers\n",
    "\n",
    "- loc_x, loc_y\n",
    "\n",
    "(x,y) location of the position where the shot was taken. (0,0) refers to the location of the basket\n",
    "\n",
    "- lat, lon\n",
    "\n",
    "GPS coordinates of the stadium where the game was played\n",
    "\n",
    "- minutes_remaining\n",
    "\n",
    "Minutes remaining in the quarter\n",
    "\n",
    "- period\n",
    "\n",
    "The quarter\n",
    "\n",
    "- playoffs\n",
    "\n",
    "Flag for whether or not this was a playoff game\n",
    "\n",
    "- season\n",
    "\n",
    "The year of the game\n",
    "\n",
    "- seconds_remaining\n",
    "\n",
    "Seconds remaining in the minute\n",
    "\n",
    "- shot_distance\n",
    "\n",
    "Euclidean distance from the basket in feet\n",
    "\n",
    "- shot_type\n",
    "\n",
    "2 PT or 3 PT shot (this can also be determined by shot distance)\n",
    "\n",
    "- shot_zone_area\n",
    "\n",
    "Side of the court\n",
    "\n",
    "- shot_zone_basic\n",
    "\n",
    "Descriptive locations of where the shots are taken (Restricted, In the paint, Mid-Range, \n",
    "\n",
    "- shot_zone_range\n",
    "\n",
    "Range of where the shot was taken\n",
    "\n",
    "- team_id, team_name\n",
    "\n",
    "ID, name of the team (Kobe's team)\n",
    "\n",
    "- game_date\n",
    "\n",
    "Date of the game\n",
    "\n",
    "- matchup\n",
    "\n",
    "The away vs home team\n",
    "\n",
    "- opponent\n",
    "\n",
    "The name of the opponent team\n",
    "\n",
    "- shot_made_flag\n",
    "\n",
    "Flag for if the shot is made or not"
   ]
  },
  {
   "cell_type": "markdown",
   "metadata": {},
   "source": [
    "## Pre Processing"
   ]
  },
  {
   "cell_type": "code",
   "execution_count": 3,
   "metadata": {
    "collapsed": false,
    "scrolled": true
   },
   "outputs": [],
   "source": [
    "from sklearn import preprocessing\n",
    "\n",
    "# TODO - Compare performance between using combined_shot_type and action_type\n",
    "used_columns = ['action_type', 'loc_x', 'loc_y', 'minutes_remaining', 'playoffs', 'season', 'seconds_remaining',\n",
    "                'home', 'shot_made_flag']\n",
    "\n",
    "# Whether or not this was a home game\n",
    "def home_game(matchup):\n",
    "    if '@' in matchup:\n",
    "        return 0\n",
    "    else:\n",
    "        return 1\n",
    "\n",
    "# Next 2 functions are used to get the season # where 1 is his first year\n",
    "def extract_season(dt):\n",
    "        start_year = 1996\n",
    "        # Kobe's rookie season was 1996-1997\n",
    "        # Seasons start in October, end by July of the next year\n",
    "        if dt.month < 8:\n",
    "            return dt.year - start_year\n",
    "        else:\n",
    "            return dt.year - start_year + 1\n",
    "\n",
    "def process_season_number(df):\n",
    "    df['game_date'] = pd.to_datetime(df['game_date'])\n",
    "    df = df.sort_values(['game_date'])\n",
    "    df['year'] = df['game_date'].dt.year\n",
    "    df['month'] = df['game_date'].dt.month\n",
    "    df['day'] = df['game_date'].dt.day\n",
    "    # Next, let's extract the season number \n",
    "    df['season'] = df['game_date'].apply(extract_season)\n",
    "    return df.drop(['game_date', 'year', 'month', 'day'], axis=1)\n",
    "\n",
    "# This function is used for determine how much time is left in the game (in minutes)\n",
    "def process_minutes_left(df):\n",
    "    df['minutes_remaining'] = (4 - df['period'])*12 + df['minutes_remaining']\n",
    "    return df.drop(['period'], axis=1)\n",
    "\n",
    "# All pre-processing\n",
    "def process_data(df):\n",
    "    # Convert the action types\n",
    "    le_action = preprocessing.LabelEncoder()\n",
    "    le_opp = preprocessing.LabelEncoder()\n",
    "    df['action_type'] = le_action.fit_transform(df['action_type'].values)\n",
    "    df['opponent'] = le_opp.fit_transform(df['opponent'].values)\n",
    "    df['home'] = df['matchup'].apply(home_game)\n",
    "    df = process_season_number(df)\n",
    "    df = process_minutes_left(df)\n",
    "    return df[used_columns]\n",
    "    \n",
    "df_p = process_data(df)\n",
    "\n",
    "y = df_p['shot_made_flag']\n",
    "X = df_p.drop('shot_made_flag', axis=1)\n",
    "\n",
    "X_train, X_test, y_train, y_test = train_test_split(X, y, test_size=0.33, random_state=42)"
   ]
  },
  {
   "cell_type": "markdown",
   "metadata": {},
   "source": [
    "## Using XGBoost on just the location"
   ]
  },
  {
   "cell_type": "code",
   "execution_count": 4,
   "metadata": {
    "collapsed": false
   },
   "outputs": [
    {
     "name": "stdout",
     "output_type": "stream",
     "text": [
      "Done\n"
     ]
    }
   ],
   "source": [
    "import xgboost as xgb\n",
    "from sklearn.model_selection import GridSearchCV\n",
    "\n",
    "X_train_simple = X_train[['loc_x', 'loc_y']]\n",
    "X_test_simple = X_test[['loc_x', 'loc_y']]\n",
    "\n",
    "# Try using XGBoost\n",
    "cv_params = {'max_depth': [3,5,7], 'min_child_weight': [1,3,5]}\n",
    "ind_params = {'learning_rate': 0.1, 'n_estimators': 1000, 'seed':0, 'subsample': 0.8, 'colsample_bytree': 0.8, \n",
    "             'objective': 'binary:logistic'}\n",
    "\n",
    "clf_simple = GridSearchCV(\n",
    "    xgb.XGBClassifier(**ind_params),\n",
    "    cv_params,\n",
    "    scoring = 'accuracy', cv=3, n_jobs=-1\n",
    ")\n",
    "\n",
    "\n",
    "clf_simple.fit(X_train_simple, y_train)\n",
    "\n",
    "predictions_simple = clf_simple.predict(X_test_simple)\n",
    "\n",
    "print \"Done\" # Takes awhile to run..."
   ]
  },
  {
   "cell_type": "code",
   "execution_count": 5,
   "metadata": {
    "collapsed": false
   },
   "outputs": [
    {
     "name": "stdout",
     "output_type": "stream",
     "text": [
      "{'std_train_score': array([ 0.00177799,  0.00238675,  0.0008566 ,  0.00102363,  0.00216999,\n",
      "        0.00222967,  0.00173744,  0.00182278,  0.00102514]), 'rank_test_score': array([3, 1, 2, 6, 5, 4, 9, 7, 8]), 'mean_score_time': array([ 0.09500003,  0.08533343,  0.091     ,  0.17466664,  0.16900007,\n",
      "        0.17500011,  0.45233337,  0.284     ,  0.30766662]), 'param_max_depth': masked_array(data = [3 3 3 5 5 5 7 7 7],\n",
      "             mask = [False False False False False False False False False],\n",
      "       fill_value = ?)\n",
      ", 'std_test_score': array([ 0.00184634,  0.00254865,  0.00169736,  0.00278978,  0.00262126,\n",
      "        0.00257684,  0.0026889 ,  0.0042178 ,  0.00106429]), 'split1_train_score': array([ 0.63347273,  0.62946506,  0.63303711,  0.64253354,  0.64323053,\n",
      "        0.64140094,  0.64436313,  0.64323053,  0.64279491]), 'split0_test_score': array([ 0.58902439,  0.58972125,  0.58850174,  0.57909408,  0.58101045,\n",
      "        0.58205575,  0.57404181,  0.57926829,  0.57630662]), 'mean_test_score': array([ 0.58643123,  0.58660548,  0.58648931,  0.57696329,  0.57777649,\n",
      "        0.57951905,  0.57260688,  0.57516264,  0.57510455]), 'split2_train_score': array([ 0.63643492,  0.63530232,  0.63094616,  0.64392751,  0.64357902,\n",
      "        0.64113957,  0.64532148,  0.64488587,  0.64244642]), 'split0_train_score': array([ 0.63218892,  0.63210178,  0.63184036,  0.64142558,  0.63881143,\n",
      "        0.63654583,  0.64125131,  0.64046706,  0.64046706]), 'params': ({'max_depth': 3, 'min_child_weight': 1}, {'max_depth': 3, 'min_child_weight': 3}, {'max_depth': 3, 'min_child_weight': 5}, {'max_depth': 5, 'min_child_weight': 1}, {'max_depth': 5, 'min_child_weight': 3}, {'max_depth': 5, 'min_child_weight': 5}, {'max_depth': 7, 'min_child_weight': 1}, {'max_depth': 7, 'min_child_weight': 3}, {'max_depth': 7, 'min_child_weight': 5}), 'std_fit_time': array([ 1.21151585,  0.47149013,  0.69749273,  0.17641425,  2.98379682,\n",
      "        1.70368899,  0.80978857,  2.00663213,  4.26492805]), 'std_score_time': array([ 0.010198  ,  0.00543656,  0.0077888 ,  0.04870551,  0.00355906,\n",
      "        0.02688248,  0.09297428,  0.09046915,  0.08704145]), 'split2_test_score': array([ 0.58539561,  0.58347856,  0.58661555,  0.57302196,  0.57459045,\n",
      "        0.57598466,  0.56883932,  0.56936215,  0.57371907]), 'mean_train_score': array([ 0.63403219,  0.63228972,  0.63194121,  0.64262888,  0.64187366,\n",
      "        0.63969545,  0.64364531,  0.64286115,  0.6419028 ]), 'mean_fit_time': array([  5.44833334,   9.11333323,   8.56333335,   8.90700006,\n",
      "        13.69133329,  14.89333328,  20.0783333 ,  33.34566665,  30.04233336]), 'param_min_child_weight': masked_array(data = [1 3 5 1 3 5 1 3 5],\n",
      "             mask = [False False False False False False False False False],\n",
      "       fill_value = ?)\n",
      ", 'split1_test_score': array([ 0.58487278,  0.58661555,  0.58434995,  0.57877309,  0.57772743,\n",
      "        0.58051586,  0.574939  ,  0.57685605,  0.57528756])}\n"
     ]
    }
   ],
   "source": [
    "# print clf_simple.cv_results_\n",
    "print clf_simple.cv_results_"
   ]
  },
  {
   "cell_type": "code",
   "execution_count": 7,
   "metadata": {
    "collapsed": false,
    "scrolled": false
   },
   "outputs": [
    {
     "name": "stdout",
     "output_type": "stream",
     "text": [
      "0.600047164249\n"
     ]
    }
   ],
   "source": [
    "print clf_simple.score(X_test_simple, y_test)"
   ]
  },
  {
   "cell_type": "markdown",
   "metadata": {},
   "source": [
    "## Using all features"
   ]
  },
  {
   "cell_type": "code",
   "execution_count": null,
   "metadata": {
    "collapsed": false
   },
   "outputs": [],
   "source": [
    "import xgboost as xgb\n",
    "from sklearn.model_selection import GridSearchCV\n",
    "\n",
    "cv_params = {'max_depth': [3,5,7], 'min_child_weight': [1,3,5]}\n",
    "ind_params = {'learning_rate': 0.1, 'n_estimators': 1000, 'seed':0, 'subsample': 0.8, 'colsample_bytree': 0.8, \n",
    "             'objective': 'binary:logistic'}\n",
    "\n",
    "clf = GridSearchCV(\n",
    "    xgb.XGBClassifier(**ind_params),\n",
    "    cv_params,\n",
    "    scoring = 'accuracy', cv=3, n_jobs=-1\n",
    ")\n",
    "\n",
    "\n",
    "clf.fit(X_train, y_train)\n",
    "\n",
    "print \"Done\" # Takes awhile to run..."
   ]
  },
  {
   "cell_type": "code",
   "execution_count": null,
   "metadata": {
    "collapsed": false,
    "scrolled": false
   },
   "outputs": [],
   "source": [
    "print clf.cv_results_"
   ]
  },
  {
   "cell_type": "code",
   "execution_count": null,
   "metadata": {
    "collapsed": false
   },
   "outputs": [],
   "source": [
    "print clf.score(X_test, y_test)"
   ]
  },
  {
   "cell_type": "code",
   "execution_count": null,
   "metadata": {
    "collapsed": false
   },
   "outputs": [],
   "source": [
    "misses_simple = np.where(y_test != predictions_simple)\n",
    "print len(misses_simple[0])\n",
    "print len(y_test)"
   ]
  },
  {
   "cell_type": "code",
   "execution_count": null,
   "metadata": {
    "collapsed": true
   },
   "outputs": [],
   "source": []
  }
 ],
 "metadata": {
  "anaconda-cloud": {},
  "kernelspec": {
   "display_name": "Python [Root]",
   "language": "python",
   "name": "Python [Root]"
  },
  "language_info": {
   "codemirror_mode": {
    "name": "ipython",
    "version": 2
   },
   "file_extension": ".py",
   "mimetype": "text/x-python",
   "name": "python",
   "nbconvert_exporter": "python",
   "pygments_lexer": "ipython2",
   "version": "2.7.12"
  }
 },
 "nbformat": 4,
 "nbformat_minor": 1
}
