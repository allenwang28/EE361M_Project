{
 "cells": [
  {
   "cell_type": "code",
   "execution_count": 155,
   "metadata": {
    "collapsed": false
   },
   "outputs": [
    {
     "name": "stdout",
     "output_type": "stream",
     "text": [
      "(30697, 25)\n",
      "Index([u'action_type', u'combined_shot_type', u'game_event_id', u'game_id',\n",
      "       u'lat', u'loc_x', u'loc_y', u'lon', u'minutes_remaining', u'period',\n",
      "       u'playoffs', u'season', u'seconds_remaining', u'shot_distance',\n",
      "       u'shot_made_flag', u'shot_type', u'shot_zone_area', u'shot_zone_basic',\n",
      "       u'shot_zone_range', u'team_id', u'team_name', u'game_date', u'matchup',\n",
      "       u'opponent', u'shot_id'],\n",
      "      dtype='object')\n"
     ]
    }
   ],
   "source": [
    "import pandas as pd\n",
    "import numpy as np\n",
    "import pickle\n",
    "from sklearn.model_selection import train_test_split\n",
    "\n",
    "df = pd.read_csv('../data/data.csv')\n",
    "\n",
    "defensive_stats = []\n",
    "with open('../data/defensive_ratings_adjusted.pkl' ,'rb') as pkl_file:\n",
    "    defensive_stats = pickle.load(pkl_file)\n",
    "    \n",
    "print(df.shape)\n",
    "print(df.columns)"
   ]
  },
  {
   "cell_type": "code",
   "execution_count": 156,
   "metadata": {
    "collapsed": false
   },
   "outputs": [
    {
     "data": {
      "text/html": [
       "<div>\n",
       "<table border=\"1\" class=\"dataframe\">\n",
       "  <thead>\n",
       "    <tr style=\"text-align: right;\">\n",
       "      <th></th>\n",
       "      <th>action_type</th>\n",
       "      <th>combined_shot_type</th>\n",
       "      <th>game_event_id</th>\n",
       "      <th>game_id</th>\n",
       "      <th>lat</th>\n",
       "      <th>loc_x</th>\n",
       "      <th>loc_y</th>\n",
       "      <th>lon</th>\n",
       "      <th>minutes_remaining</th>\n",
       "      <th>period</th>\n",
       "      <th>...</th>\n",
       "      <th>shot_type</th>\n",
       "      <th>shot_zone_area</th>\n",
       "      <th>shot_zone_basic</th>\n",
       "      <th>shot_zone_range</th>\n",
       "      <th>team_id</th>\n",
       "      <th>team_name</th>\n",
       "      <th>game_date</th>\n",
       "      <th>matchup</th>\n",
       "      <th>opponent</th>\n",
       "      <th>shot_id</th>\n",
       "    </tr>\n",
       "  </thead>\n",
       "  <tbody>\n",
       "    <tr>\n",
       "      <th>0</th>\n",
       "      <td>Jump Shot</td>\n",
       "      <td>Jump Shot</td>\n",
       "      <td>10</td>\n",
       "      <td>20000012</td>\n",
       "      <td>33.9723</td>\n",
       "      <td>167</td>\n",
       "      <td>72</td>\n",
       "      <td>-118.1028</td>\n",
       "      <td>10</td>\n",
       "      <td>1</td>\n",
       "      <td>...</td>\n",
       "      <td>2PT Field Goal</td>\n",
       "      <td>Right Side(R)</td>\n",
       "      <td>Mid-Range</td>\n",
       "      <td>16-24 ft.</td>\n",
       "      <td>1610612747</td>\n",
       "      <td>Los Angeles Lakers</td>\n",
       "      <td>2000-10-31</td>\n",
       "      <td>LAL @ POR</td>\n",
       "      <td>POR</td>\n",
       "      <td>1</td>\n",
       "    </tr>\n",
       "    <tr>\n",
       "      <th>1</th>\n",
       "      <td>Jump Shot</td>\n",
       "      <td>Jump Shot</td>\n",
       "      <td>12</td>\n",
       "      <td>20000012</td>\n",
       "      <td>34.0443</td>\n",
       "      <td>-157</td>\n",
       "      <td>0</td>\n",
       "      <td>-118.4268</td>\n",
       "      <td>10</td>\n",
       "      <td>1</td>\n",
       "      <td>...</td>\n",
       "      <td>2PT Field Goal</td>\n",
       "      <td>Left Side(L)</td>\n",
       "      <td>Mid-Range</td>\n",
       "      <td>8-16 ft.</td>\n",
       "      <td>1610612747</td>\n",
       "      <td>Los Angeles Lakers</td>\n",
       "      <td>2000-10-31</td>\n",
       "      <td>LAL @ POR</td>\n",
       "      <td>POR</td>\n",
       "      <td>2</td>\n",
       "    </tr>\n",
       "    <tr>\n",
       "      <th>2</th>\n",
       "      <td>Jump Shot</td>\n",
       "      <td>Jump Shot</td>\n",
       "      <td>35</td>\n",
       "      <td>20000012</td>\n",
       "      <td>33.9093</td>\n",
       "      <td>-101</td>\n",
       "      <td>135</td>\n",
       "      <td>-118.3708</td>\n",
       "      <td>7</td>\n",
       "      <td>1</td>\n",
       "      <td>...</td>\n",
       "      <td>2PT Field Goal</td>\n",
       "      <td>Left Side Center(LC)</td>\n",
       "      <td>Mid-Range</td>\n",
       "      <td>16-24 ft.</td>\n",
       "      <td>1610612747</td>\n",
       "      <td>Los Angeles Lakers</td>\n",
       "      <td>2000-10-31</td>\n",
       "      <td>LAL @ POR</td>\n",
       "      <td>POR</td>\n",
       "      <td>3</td>\n",
       "    </tr>\n",
       "    <tr>\n",
       "      <th>3</th>\n",
       "      <td>Jump Shot</td>\n",
       "      <td>Jump Shot</td>\n",
       "      <td>43</td>\n",
       "      <td>20000012</td>\n",
       "      <td>33.8693</td>\n",
       "      <td>138</td>\n",
       "      <td>175</td>\n",
       "      <td>-118.1318</td>\n",
       "      <td>6</td>\n",
       "      <td>1</td>\n",
       "      <td>...</td>\n",
       "      <td>2PT Field Goal</td>\n",
       "      <td>Right Side Center(RC)</td>\n",
       "      <td>Mid-Range</td>\n",
       "      <td>16-24 ft.</td>\n",
       "      <td>1610612747</td>\n",
       "      <td>Los Angeles Lakers</td>\n",
       "      <td>2000-10-31</td>\n",
       "      <td>LAL @ POR</td>\n",
       "      <td>POR</td>\n",
       "      <td>4</td>\n",
       "    </tr>\n",
       "    <tr>\n",
       "      <th>4</th>\n",
       "      <td>Driving Dunk Shot</td>\n",
       "      <td>Dunk</td>\n",
       "      <td>155</td>\n",
       "      <td>20000012</td>\n",
       "      <td>34.0443</td>\n",
       "      <td>0</td>\n",
       "      <td>0</td>\n",
       "      <td>-118.2698</td>\n",
       "      <td>6</td>\n",
       "      <td>2</td>\n",
       "      <td>...</td>\n",
       "      <td>2PT Field Goal</td>\n",
       "      <td>Center(C)</td>\n",
       "      <td>Restricted Area</td>\n",
       "      <td>Less Than 8 ft.</td>\n",
       "      <td>1610612747</td>\n",
       "      <td>Los Angeles Lakers</td>\n",
       "      <td>2000-10-31</td>\n",
       "      <td>LAL @ POR</td>\n",
       "      <td>POR</td>\n",
       "      <td>5</td>\n",
       "    </tr>\n",
       "  </tbody>\n",
       "</table>\n",
       "<p>5 rows × 25 columns</p>\n",
       "</div>"
      ],
      "text/plain": [
       "         action_type combined_shot_type  game_event_id   game_id      lat  \\\n",
       "0          Jump Shot          Jump Shot             10  20000012  33.9723   \n",
       "1          Jump Shot          Jump Shot             12  20000012  34.0443   \n",
       "2          Jump Shot          Jump Shot             35  20000012  33.9093   \n",
       "3          Jump Shot          Jump Shot             43  20000012  33.8693   \n",
       "4  Driving Dunk Shot               Dunk            155  20000012  34.0443   \n",
       "\n",
       "   loc_x  loc_y       lon  minutes_remaining  period   ...          shot_type  \\\n",
       "0    167     72 -118.1028                 10       1   ...     2PT Field Goal   \n",
       "1   -157      0 -118.4268                 10       1   ...     2PT Field Goal   \n",
       "2   -101    135 -118.3708                  7       1   ...     2PT Field Goal   \n",
       "3    138    175 -118.1318                  6       1   ...     2PT Field Goal   \n",
       "4      0      0 -118.2698                  6       2   ...     2PT Field Goal   \n",
       "\n",
       "          shot_zone_area  shot_zone_basic  shot_zone_range     team_id  \\\n",
       "0          Right Side(R)        Mid-Range        16-24 ft.  1610612747   \n",
       "1           Left Side(L)        Mid-Range         8-16 ft.  1610612747   \n",
       "2   Left Side Center(LC)        Mid-Range        16-24 ft.  1610612747   \n",
       "3  Right Side Center(RC)        Mid-Range        16-24 ft.  1610612747   \n",
       "4              Center(C)  Restricted Area  Less Than 8 ft.  1610612747   \n",
       "\n",
       "            team_name   game_date    matchup opponent  shot_id  \n",
       "0  Los Angeles Lakers  2000-10-31  LAL @ POR      POR        1  \n",
       "1  Los Angeles Lakers  2000-10-31  LAL @ POR      POR        2  \n",
       "2  Los Angeles Lakers  2000-10-31  LAL @ POR      POR        3  \n",
       "3  Los Angeles Lakers  2000-10-31  LAL @ POR      POR        4  \n",
       "4  Los Angeles Lakers  2000-10-31  LAL @ POR      POR        5  \n",
       "\n",
       "[5 rows x 25 columns]"
      ]
     },
     "execution_count": 156,
     "metadata": {},
     "output_type": "execute_result"
    }
   ],
   "source": [
    "df.head()"
   ]
  },
  {
   "cell_type": "markdown",
   "metadata": {},
   "source": [
    "## Extract the season number"
   ]
  },
  {
   "cell_type": "code",
   "execution_count": 157,
   "metadata": {
    "collapsed": false
   },
   "outputs": [],
   "source": [
    "def get_season_number(dt):\n",
    "        start_year = 1996\n",
    "        # Kobe's rookie season was 1996-1997\n",
    "        # Seasons start in October, end by July of the next year\n",
    "        if dt.month < 8:\n",
    "            return dt.year - start_year\n",
    "        else:\n",
    "            return dt.year - start_year + 1\n",
    "\n",
    "def extract_season_info(df):\n",
    "    df['game_date'] = pd.to_datetime(df['game_date'])\n",
    "    df = df.sort_values(['game_date'])\n",
    "    df['year'] = df['game_date'].dt.year\n",
    "    df['month'] = df['game_date'].dt.month\n",
    "    df['day'] = df['game_date'].dt.day\n",
    "    # Next, let's extract the season number \n",
    "    df['season'] = df['game_date'].apply(get_season_number)\n",
    "    return df\n",
    "\n",
    "# Note that a lot of things after this will require the season number so I'm doing it here\n",
    "df = extract_season_info(df)"
   ]
  },
  {
   "cell_type": "markdown",
   "metadata": {},
   "source": [
    "## Get an Adjusted Defensive Rating column (DRtg/A)\n",
    "I created a webscraper to get all of the defensive ratings of NBA teams over the years that Kobe played. Note that this isn't in just the data from Kaggle so we probably shouldn't use it for Kaggle."
   ]
  },
  {
   "cell_type": "code",
   "execution_count": 158,
   "metadata": {
    "collapsed": false,
    "scrolled": false
   },
   "outputs": [],
   "source": [
    "def get_defensive_rating(x):\n",
    "    try:\n",
    "        return defensive_stats[x[0]-1][x[1]]\n",
    "    except:\n",
    "        return defensive_stats[x[0]-1]['NOH'] # This is really hacky but New Orleans was having an identity crisis... \n",
    "    \n",
    "def extract_defensive_ratings(df):\n",
    "    df['Opponent DRtg/A'] = df[['season', 'opponent']].apply(get_defensive_rating, axis=1)\n",
    "    return df"
   ]
  },
  {
   "cell_type": "markdown",
   "metadata": {},
   "source": [
    "## Extract Shot Information\n",
    "Here we'll get the Euclidean distance of the shot as well as the side of the court he shot from"
   ]
  },
  {
   "cell_type": "code",
   "execution_count": 159,
   "metadata": {
    "collapsed": false
   },
   "outputs": [],
   "source": [
    "def extract_shot_distance(df):\n",
    "    df['shot_distance'] = df[['loc_x', 'loc_y']].apply(lambda x: np.linalg.norm(x[1]-x[0]), axis=1)\n",
    "    return df\n",
    "\n",
    "def extract_shot_side(df):\n",
    "    df['left_side'] = np.where(df['loc_x'] >= 80, 1, 0)\n",
    "    df['right_side'] = np.where(df['loc_x'] <= -80, 1, 0)\n",
    "    df['middle'] = np.where(np.logical_and(df['loc_x'] > -80, df['loc_x'] < 80), 1, 0)\n",
    "    return df"
   ]
  },
  {
   "cell_type": "code",
   "execution_count": 160,
   "metadata": {
    "collapsed": true
   },
   "outputs": [],
   "source": [
    "def get_shot_moving(action_type):\n",
    "    if 'Driving' in action_type:\n",
    "        return 1\n",
    "    if 'Running' in action_type:\n",
    "        return 1\n",
    "    return 0\n",
    "\n",
    "def extract_shot_moving(df):\n",
    "    df['moving'] = df['action_type'].apply(get_shot_moving)\n",
    "    return df"
   ]
  },
  {
   "cell_type": "code",
   "execution_count": 161,
   "metadata": {
    "collapsed": true
   },
   "outputs": [],
   "source": [
    "def get_dunk_layup(combined_shot_type):\n",
    "    if 'Dunk' in combined_shot_type:\n",
    "        return 1\n",
    "    if 'Layup' in combined_shot_type:\n",
    "        return 1\n",
    "    return 0\n",
    "\n",
    "def extract_dunk_layup(df):\n",
    "    df['Dunk or Layup'] = df['combined_shot_type'].apply(get_dunk_layup)\n",
    "    return df"
   ]
  },
  {
   "cell_type": "code",
   "execution_count": 162,
   "metadata": {
    "collapsed": true
   },
   "outputs": [],
   "source": [
    "# Use this one to extract all shot information\n",
    "def extract_shot_info(df):\n",
    "    df = extract_shot_distance(df)\n",
    "    df = extract_shot_side(df)\n",
    "    df = extract_shot_moving(df)\n",
    "    df = extract_dunk_layup(df)\n",
    "    return df"
   ]
  },
  {
   "cell_type": "markdown",
   "metadata": {},
   "source": [
    "## Extract Home/Away and if this is the second game of a back to back"
   ]
  },
  {
   "cell_type": "code",
   "execution_count": 163,
   "metadata": {
    "collapsed": false
   },
   "outputs": [],
   "source": [
    "# Whether or not this was a home game\n",
    "def home_game(matchup):\n",
    "    if '@' in matchup:\n",
    "        return 0\n",
    "    else:\n",
    "        return 1\n",
    "\n",
    "def extract_home_games(df):\n",
    "    df['home'] = df['matchup'].apply(home_game)\n",
    "    return df"
   ]
  },
  {
   "cell_type": "code",
   "execution_count": 164,
   "metadata": {
    "collapsed": true
   },
   "outputs": [],
   "source": [
    "def get_segababa(game_date, all_game_dates):\n",
    "    this_game_index = all_game_dates.index(game_date)\n",
    "    if this_game_index == 0: # First game of the season\n",
    "        return 0\n",
    "    previous_game_date = all_game_dates[this_game_index - 1]\n",
    "    delta = game_date - previous_game_date\n",
    "    if delta.days == 1:\n",
    "        return 1\n",
    "    else:\n",
    "        return 0\n",
    "\n",
    "def extract_segababa(df):\n",
    "    all_game_dates = sorted(list(set(df['game_date'])))\n",
    "    df['segababa'] = df['game_date'].apply(get_segababa, args=(all_game_dates,))\n",
    "    return df"
   ]
  },
  {
   "cell_type": "markdown",
   "metadata": {},
   "source": [
    "## Extract the amount of time left in the game\n",
    "Do this in seconds"
   ]
  },
  {
   "cell_type": "code",
   "execution_count": 165,
   "metadata": {
    "collapsed": true
   },
   "outputs": [],
   "source": [
    "# This function is used for determine how much time is left in the game (in minutes)\n",
    "def extract_seconds_remaining(df):\n",
    "    df['minutes_remaining'] = (4 - df['period'])*12 + df['minutes_remaining']\n",
    "    df['total_seconds_remaining'] = df['minutes_remaining'] * 60 + df['seconds_remaining']\n",
    "    return df\n"
   ]
  },
  {
   "cell_type": "markdown",
   "metadata": {},
   "source": [
    "## Combine all of our extractions"
   ]
  },
  {
   "cell_type": "code",
   "execution_count": 166,
   "metadata": {
    "collapsed": false
   },
   "outputs": [],
   "source": [
    "keep_columns = ['season', 'Opponent DRtg/A', 'shot_distance', 'left_side', 'middle', 'right_side', \n",
    "                'moving', 'playoffs', 'home', 'segababa', 'Dunk or Layup', 'shot_made_flag', 'total_seconds_remaining']\n",
    "def process_data(df):\n",
    "    # df = extract_season_info(df) - DON'T INCLUDE THIS, IT SHOULD ALREADY BE DONE\n",
    "    df = extract_defensive_ratings(df)\n",
    "    df = extract_shot_info(df)\n",
    "    df = extract_home_games(df)\n",
    "    df = extract_segababa(df)\n",
    "    df = extract_seconds_remaining(df)\n",
    "    return df[keep_columns]\n",
    "    \n",
    "df_processed = process_data(df)"
   ]
  },
  {
   "cell_type": "code",
   "execution_count": 167,
   "metadata": {
    "collapsed": false,
    "scrolled": true
   },
   "outputs": [
    {
     "data": {
      "text/html": [
       "<div>\n",
       "<table border=\"1\" class=\"dataframe\">\n",
       "  <thead>\n",
       "    <tr style=\"text-align: right;\">\n",
       "      <th></th>\n",
       "      <th>season</th>\n",
       "      <th>Opponent DRtg/A</th>\n",
       "      <th>shot_distance</th>\n",
       "      <th>left_side</th>\n",
       "      <th>middle</th>\n",
       "      <th>right_side</th>\n",
       "      <th>moving</th>\n",
       "      <th>playoffs</th>\n",
       "      <th>home</th>\n",
       "      <th>segababa</th>\n",
       "      <th>Dunk or Layup</th>\n",
       "      <th>shot_made_flag</th>\n",
       "      <th>total_seconds_remaining</th>\n",
       "    </tr>\n",
       "  </thead>\n",
       "  <tbody>\n",
       "    <tr>\n",
       "      <th>22901</th>\n",
       "      <td>1</td>\n",
       "      <td>108.06</td>\n",
       "      <td>256.0</td>\n",
       "      <td>0</td>\n",
       "      <td>0</td>\n",
       "      <td>1</td>\n",
       "      <td>0</td>\n",
       "      <td>0</td>\n",
       "      <td>1</td>\n",
       "      <td>0</td>\n",
       "      <td>0</td>\n",
       "      <td>0.0</td>\n",
       "      <td>2202</td>\n",
       "    </tr>\n",
       "    <tr>\n",
       "      <th>22902</th>\n",
       "      <td>1</td>\n",
       "      <td>101.68</td>\n",
       "      <td>228.0</td>\n",
       "      <td>0</td>\n",
       "      <td>0</td>\n",
       "      <td>1</td>\n",
       "      <td>0</td>\n",
       "      <td>0</td>\n",
       "      <td>0</td>\n",
       "      <td>0</td>\n",
       "      <td>0</td>\n",
       "      <td>0.0</td>\n",
       "      <td>2048</td>\n",
       "    </tr>\n",
       "    <tr>\n",
       "      <th>22903</th>\n",
       "      <td>1</td>\n",
       "      <td>109.65</td>\n",
       "      <td>323.0</td>\n",
       "      <td>0</td>\n",
       "      <td>0</td>\n",
       "      <td>1</td>\n",
       "      <td>0</td>\n",
       "      <td>0</td>\n",
       "      <td>0</td>\n",
       "      <td>1</td>\n",
       "      <td>0</td>\n",
       "      <td>1.0</td>\n",
       "      <td>1957</td>\n",
       "    </tr>\n",
       "    <tr>\n",
       "      <th>22904</th>\n",
       "      <td>1</td>\n",
       "      <td>109.65</td>\n",
       "      <td>0.0</td>\n",
       "      <td>0</td>\n",
       "      <td>1</td>\n",
       "      <td>0</td>\n",
       "      <td>0</td>\n",
       "      <td>0</td>\n",
       "      <td>0</td>\n",
       "      <td>1</td>\n",
       "      <td>0</td>\n",
       "      <td>0.0</td>\n",
       "      <td>1834</td>\n",
       "    </tr>\n",
       "    <tr>\n",
       "      <th>22905</th>\n",
       "      <td>1</td>\n",
       "      <td>109.65</td>\n",
       "      <td>148.0</td>\n",
       "      <td>0</td>\n",
       "      <td>1</td>\n",
       "      <td>0</td>\n",
       "      <td>0</td>\n",
       "      <td>0</td>\n",
       "      <td>0</td>\n",
       "      <td>1</td>\n",
       "      <td>0</td>\n",
       "      <td>1.0</td>\n",
       "      <td>1767</td>\n",
       "    </tr>\n",
       "  </tbody>\n",
       "</table>\n",
       "</div>"
      ],
      "text/plain": [
       "       season  Opponent DRtg/A  shot_distance  left_side  middle  right_side  \\\n",
       "22901       1           108.06          256.0          0       0           1   \n",
       "22902       1           101.68          228.0          0       0           1   \n",
       "22903       1           109.65          323.0          0       0           1   \n",
       "22904       1           109.65            0.0          0       1           0   \n",
       "22905       1           109.65          148.0          0       1           0   \n",
       "\n",
       "       moving  playoffs  home  segababa  Dunk or Layup  shot_made_flag  \\\n",
       "22901       0         0     1         0              0             0.0   \n",
       "22902       0         0     0         0              0             0.0   \n",
       "22903       0         0     0         1              0             1.0   \n",
       "22904       0         0     0         1              0             0.0   \n",
       "22905       0         0     0         1              0             1.0   \n",
       "\n",
       "       total_seconds_remaining  \n",
       "22901                     2202  \n",
       "22902                     2048  \n",
       "22903                     1957  \n",
       "22904                     1834  \n",
       "22905                     1767  "
      ]
     },
     "execution_count": 167,
     "metadata": {},
     "output_type": "execute_result"
    }
   ],
   "source": [
    "df_processed.head()"
   ]
  },
  {
   "cell_type": "code",
   "execution_count": 168,
   "metadata": {
    "collapsed": true
   },
   "outputs": [],
   "source": [
    "# Save to a new CSV\n",
    "df_processed.to_csv('../data/processed_data.csv')"
   ]
  },
  {
   "cell_type": "markdown",
   "metadata": {},
   "source": [
    "## Importance of the features\n",
    "All of these features from above were extracted using domain knowledge. Let's see how important each of these features actually are.\n",
    "\n",
    "Random Forests and Extremely Randomized Trees (ExtraTrees) both use bagging and random subspaces for the features. We'll train an ExtraTrees classifier to determine which features are most important."
   ]
  },
  {
   "cell_type": "code",
   "execution_count": 137,
   "metadata": {
    "collapsed": false
   },
   "outputs": [
    {
     "data": {
      "text/plain": [
       "ExtraTreesClassifier(bootstrap=False, class_weight=None, criterion='gini',\n",
       "           max_depth=None, max_features='auto', max_leaf_nodes=None,\n",
       "           min_impurity_split=1e-07, min_samples_leaf=1,\n",
       "           min_samples_split=2, min_weight_fraction_leaf=0.0,\n",
       "           n_estimators=10, n_jobs=1, oob_score=False, random_state=None,\n",
       "           verbose=0, warm_start=False)"
      ]
     },
     "execution_count": 137,
     "metadata": {},
     "output_type": "execute_result"
    }
   ],
   "source": [
    "from sklearn.feature_selection import RFE\n",
    "from sklearn.ensemble import ExtraTreesClassifier\n",
    "\n",
    "X = df_processed.drop('shot_made_flag', axis=1)\n",
    "y = df_processed['shot_made_flag']\n",
    "\n",
    "clf = ExtraTreesClassifier()\n",
    "clf.fit(X,y)"
   ]
  },
  {
   "cell_type": "code",
   "execution_count": 138,
   "metadata": {
    "collapsed": false
   },
   "outputs": [
    {
     "data": {
      "text/plain": [
       "<matplotlib.text.Text at 0x17c79f28>"
      ]
     },
     "execution_count": 138,
     "metadata": {},
     "output_type": "execute_result"
    },
    {
     "data": {
      "image/png": "[encoded data removed]",
      "text/plain": [
       "<matplotlib.figure.Figure at 0x17c0abe0>"
      ]
     },
     "metadata": {},
     "output_type": "display_data"
    }
   ],
   "source": [
    "import matplotlib.pyplot as plt\n",
    "% matplotlib inline\n",
    "ind = np.arange(len(clf.feature_importances_))\n",
    "width = 0.35 # Width of bars\n",
    "\n",
    "fig, ax = plt.subplots()\n",
    "\n",
    "ax.bar(ind, clf.feature_importances_, color=\"blue\")\n",
    "ax.set_xticks(ind + width)\n",
    "ax.set_xticklabels((X.columns.values), rotation='vertical')\n",
    "ax.set_title('Importance of features')"
   ]
  },
  {
   "cell_type": "code",
   "execution_count": 139,
   "metadata": {
    "collapsed": false
   },
   "outputs": [
    {
     "name": "stdout",
     "output_type": "stream",
     "text": [
      "Ranking the importances:\n",
      "- total_seconds_remaining: 0.309657633722\n",
      "- shot_distance: 0.235420812714\n",
      "- Opponent DRtg/A: 0.220428331893\n",
      "- season: 0.133954291785\n",
      "- moving: 0.0468970528072\n",
      "- Dunk or Layup: 0.0167222217404\n",
      "- home: 0.0110089025428\n",
      "- segababa: 0.00937584141525\n",
      "- playoffs: 0.00735528498837\n",
      "- middle: 0.00475330835333\n",
      "- right_side: 0.00232131974789\n",
      "- left_side: 0.00210499829033\n"
     ]
    }
   ],
   "source": [
    "import operator\n",
    "feature_map = dict(zip(X.columns.values, clf.feature_importances_))\n",
    "sorted_feature_map = sorted(feature_map.items(), key=operator.itemgetter(1), reverse=True)\n",
    "print \"Ranking the importances:\"\n",
    "for t in sorted_feature_map:\n",
    "    print \"- {}: {}\".format(t[0], t[1])"
   ]
  },
  {
   "cell_type": "markdown",
   "metadata": {},
   "source": [
    "## Results\n",
    "Surprisingly, the total amount of seconds remaining had the most influence over whether or not the shot was made. TODO - Graph time remaining vs shooting % later and interpret.\n",
    "\n",
    "As we can see, the shot distance and opponent's defensive rating had the most significance which makes sense. The further away you are from a basket and the quality of the defense are physically the most influential parts of making a shot. \n",
    "\n",
    "Next, the season had a significant impact as well. This makes sense because as Kobe got older, his playstyle changed to accommodate his for his increasing/decreasing athleticism.\n",
    "\n",
    "We also saw impact from whether or not the shot was a dunk or a jump shot and if the shot was taken while he was still moving.\n",
    "\n",
    "Interestingly, most of the mental aspects have very little impact.\n",
    "\n",
    "Home games: This was the most influential out of all of the mental aspects. This makes sense - away games are on the road (meaning travel time), away from home crowds and away from the location where Kobe practiced most. I think it would be interesting if there was some sort of exploration for the effect of a crowd on a game. Is this narrative media-manufactured or is it actually true?\n",
    "\n",
    "Playoffs: This was surprising to me. I assumed that a playoff game would have a significant impact on a shot made, so does this mean that the effect of playoff defense is overstated?\n",
    "\n",
    "Side of the court: I thought this would have a more significant impact in that Kobe would rather shoot from the spots he's most comfortable with. If the side is changed, then I would have assumed that he was forced to that spot by the defense, and thus be shooting a shot he's less comfortable. However, Kobe was a monster in basketball, so he probably is comfortable taking any shot.\n",
    "\n",
    "SEGABABA: I assumed that the fatigue of having to play two games in two nights would heavily affect shooting performance. However, this does not seem to be the case as it is one of the least impactful features."
   ]
  },
  {
   "cell_type": "code",
   "execution_count": null,
   "metadata": {
    "collapsed": true
   },
   "outputs": [],
   "source": []
  }
 ],
 "metadata": {
  "anaconda-cloud": {},
  "kernelspec": {
   "display_name": "Python [conda root]",
   "language": "python",
   "name": "conda-root-py"
  },
  "language_info": {
   "codemirror_mode": {
    "name": "ipython",
    "version": 2
   },
   "file_extension": ".py",
   "mimetype": "text/x-python",
   "name": "python",
   "nbconvert_exporter": "python",
   "pygments_lexer": "ipython2",
   "version": "2.7.12"
  }
 },
 "nbformat": 4,
 "nbformat_minor": 1
}
