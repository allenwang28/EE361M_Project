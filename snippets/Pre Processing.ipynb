{
 "cells": [
  {
   "cell_type": "code",
   "execution_count": 110,
   "metadata": {
    "collapsed": false,
    "scrolled": true
   },
   "outputs": [
    {
     "name": "stdout",
     "output_type": "stream",
     "text": [
      "(30697, 25)\n",
      "Index([u'action_type', u'combined_shot_type', u'game_event_id', u'game_id',\n",
      "       u'lat', u'loc_x', u'loc_y', u'lon', u'minutes_remaining', u'period',\n",
      "       u'playoffs', u'season', u'seconds_remaining', u'shot_distance',\n",
      "       u'shot_made_flag', u'shot_type', u'shot_zone_area', u'shot_zone_basic',\n",
      "       u'shot_zone_range', u'team_id', u'team_name', u'game_date', u'matchup',\n",
      "       u'opponent', u'shot_id'],\n",
      "      dtype='object')\n"
     ]
    }
   ],
   "source": [
    "import pandas as pd\n",
    "import numpy as np\n",
    "import pickle\n",
    "from sklearn.model_selection import train_test_split\n",
    "\n",
    "df = pd.read_csv('../data/data.csv')\n",
    "\n",
    "defensive_stats = []\n",
    "with open('../data/defensive_ratings_adjusted.pkl' ,'rb') as pkl_file:\n",
    "    defensive_stats = pickle.load(pkl_file)\n",
    "\n",
    "print(df.shape)\n",
    "print(df.columns)"
   ]
  },
  {
   "cell_type": "code",
   "execution_count": 111,
   "metadata": {
    "collapsed": false,
    "scrolled": true
   },
   "outputs": [
    {
     "data": {
      "text/html": [
       "<div>\n",
       "<table border=\"1\" class=\"dataframe\">\n",
       "  <thead>\n",
       "    <tr style=\"text-align: right;\">\n",
       "      <th></th>\n",
       "      <th>action_type</th>\n",
       "      <th>combined_shot_type</th>\n",
       "      <th>game_event_id</th>\n",
       "      <th>game_id</th>\n",
       "      <th>lat</th>\n",
       "      <th>loc_x</th>\n",
       "      <th>loc_y</th>\n",
       "      <th>lon</th>\n",
       "      <th>minutes_remaining</th>\n",
       "      <th>period</th>\n",
       "      <th>...</th>\n",
       "      <th>shot_type</th>\n",
       "      <th>shot_zone_area</th>\n",
       "      <th>shot_zone_basic</th>\n",
       "      <th>shot_zone_range</th>\n",
       "      <th>team_id</th>\n",
       "      <th>team_name</th>\n",
       "      <th>game_date</th>\n",
       "      <th>matchup</th>\n",
       "      <th>opponent</th>\n",
       "      <th>shot_id</th>\n",
       "    </tr>\n",
       "  </thead>\n",
       "  <tbody>\n",
       "    <tr>\n",
       "      <th>0</th>\n",
       "      <td>Jump Shot</td>\n",
       "      <td>Jump Shot</td>\n",
       "      <td>10</td>\n",
       "      <td>20000012</td>\n",
       "      <td>33.9723</td>\n",
       "      <td>167</td>\n",
       "      <td>72</td>\n",
       "      <td>-118.1028</td>\n",
       "      <td>10</td>\n",
       "      <td>1</td>\n",
       "      <td>...</td>\n",
       "      <td>2PT Field Goal</td>\n",
       "      <td>Right Side(R)</td>\n",
       "      <td>Mid-Range</td>\n",
       "      <td>16-24 ft.</td>\n",
       "      <td>1610612747</td>\n",
       "      <td>Los Angeles Lakers</td>\n",
       "      <td>2000-10-31</td>\n",
       "      <td>LAL @ POR</td>\n",
       "      <td>POR</td>\n",
       "      <td>1</td>\n",
       "    </tr>\n",
       "    <tr>\n",
       "      <th>1</th>\n",
       "      <td>Jump Shot</td>\n",
       "      <td>Jump Shot</td>\n",
       "      <td>12</td>\n",
       "      <td>20000012</td>\n",
       "      <td>34.0443</td>\n",
       "      <td>-157</td>\n",
       "      <td>0</td>\n",
       "      <td>-118.4268</td>\n",
       "      <td>10</td>\n",
       "      <td>1</td>\n",
       "      <td>...</td>\n",
       "      <td>2PT Field Goal</td>\n",
       "      <td>Left Side(L)</td>\n",
       "      <td>Mid-Range</td>\n",
       "      <td>8-16 ft.</td>\n",
       "      <td>1610612747</td>\n",
       "      <td>Los Angeles Lakers</td>\n",
       "      <td>2000-10-31</td>\n",
       "      <td>LAL @ POR</td>\n",
       "      <td>POR</td>\n",
       "      <td>2</td>\n",
       "    </tr>\n",
       "    <tr>\n",
       "      <th>2</th>\n",
       "      <td>Jump Shot</td>\n",
       "      <td>Jump Shot</td>\n",
       "      <td>35</td>\n",
       "      <td>20000012</td>\n",
       "      <td>33.9093</td>\n",
       "      <td>-101</td>\n",
       "      <td>135</td>\n",
       "      <td>-118.3708</td>\n",
       "      <td>7</td>\n",
       "      <td>1</td>\n",
       "      <td>...</td>\n",
       "      <td>2PT Field Goal</td>\n",
       "      <td>Left Side Center(LC)</td>\n",
       "      <td>Mid-Range</td>\n",
       "      <td>16-24 ft.</td>\n",
       "      <td>1610612747</td>\n",
       "      <td>Los Angeles Lakers</td>\n",
       "      <td>2000-10-31</td>\n",
       "      <td>LAL @ POR</td>\n",
       "      <td>POR</td>\n",
       "      <td>3</td>\n",
       "    </tr>\n",
       "    <tr>\n",
       "      <th>3</th>\n",
       "      <td>Jump Shot</td>\n",
       "      <td>Jump Shot</td>\n",
       "      <td>43</td>\n",
       "      <td>20000012</td>\n",
       "      <td>33.8693</td>\n",
       "      <td>138</td>\n",
       "      <td>175</td>\n",
       "      <td>-118.1318</td>\n",
       "      <td>6</td>\n",
       "      <td>1</td>\n",
       "      <td>...</td>\n",
       "      <td>2PT Field Goal</td>\n",
       "      <td>Right Side Center(RC)</td>\n",
       "      <td>Mid-Range</td>\n",
       "      <td>16-24 ft.</td>\n",
       "      <td>1610612747</td>\n",
       "      <td>Los Angeles Lakers</td>\n",
       "      <td>2000-10-31</td>\n",
       "      <td>LAL @ POR</td>\n",
       "      <td>POR</td>\n",
       "      <td>4</td>\n",
       "    </tr>\n",
       "    <tr>\n",
       "      <th>4</th>\n",
       "      <td>Driving Dunk Shot</td>\n",
       "      <td>Dunk</td>\n",
       "      <td>155</td>\n",
       "      <td>20000012</td>\n",
       "      <td>34.0443</td>\n",
       "      <td>0</td>\n",
       "      <td>0</td>\n",
       "      <td>-118.2698</td>\n",
       "      <td>6</td>\n",
       "      <td>2</td>\n",
       "      <td>...</td>\n",
       "      <td>2PT Field Goal</td>\n",
       "      <td>Center(C)</td>\n",
       "      <td>Restricted Area</td>\n",
       "      <td>Less Than 8 ft.</td>\n",
       "      <td>1610612747</td>\n",
       "      <td>Los Angeles Lakers</td>\n",
       "      <td>2000-10-31</td>\n",
       "      <td>LAL @ POR</td>\n",
       "      <td>POR</td>\n",
       "      <td>5</td>\n",
       "    </tr>\n",
       "  </tbody>\n",
       "</table>\n",
       "<p>5 rows × 25 columns</p>\n",
       "</div>"
      ],
      "text/plain": [
       "         action_type combined_shot_type  game_event_id   game_id      lat  \\\n",
       "0          Jump Shot          Jump Shot             10  20000012  33.9723   \n",
       "1          Jump Shot          Jump Shot             12  20000012  34.0443   \n",
       "2          Jump Shot          Jump Shot             35  20000012  33.9093   \n",
       "3          Jump Shot          Jump Shot             43  20000012  33.8693   \n",
       "4  Driving Dunk Shot               Dunk            155  20000012  34.0443   \n",
       "\n",
       "   loc_x  loc_y       lon  minutes_remaining  period   ...          shot_type  \\\n",
       "0    167     72 -118.1028                 10       1   ...     2PT Field Goal   \n",
       "1   -157      0 -118.4268                 10       1   ...     2PT Field Goal   \n",
       "2   -101    135 -118.3708                  7       1   ...     2PT Field Goal   \n",
       "3    138    175 -118.1318                  6       1   ...     2PT Field Goal   \n",
       "4      0      0 -118.2698                  6       2   ...     2PT Field Goal   \n",
       "\n",
       "          shot_zone_area  shot_zone_basic  shot_zone_range     team_id  \\\n",
       "0          Right Side(R)        Mid-Range        16-24 ft.  1610612747   \n",
       "1           Left Side(L)        Mid-Range         8-16 ft.  1610612747   \n",
       "2   Left Side Center(LC)        Mid-Range        16-24 ft.  1610612747   \n",
       "3  Right Side Center(RC)        Mid-Range        16-24 ft.  1610612747   \n",
       "4              Center(C)  Restricted Area  Less Than 8 ft.  1610612747   \n",
       "\n",
       "            team_name   game_date    matchup opponent  shot_id  \n",
       "0  Los Angeles Lakers  2000-10-31  LAL @ POR      POR        1  \n",
       "1  Los Angeles Lakers  2000-10-31  LAL @ POR      POR        2  \n",
       "2  Los Angeles Lakers  2000-10-31  LAL @ POR      POR        3  \n",
       "3  Los Angeles Lakers  2000-10-31  LAL @ POR      POR        4  \n",
       "4  Los Angeles Lakers  2000-10-31  LAL @ POR      POR        5  \n",
       "\n",
       "[5 rows x 25 columns]"
      ]
     },
     "execution_count": 111,
     "metadata": {},
     "output_type": "execute_result"
    }
   ],
   "source": [
    "df.head()"
   ]
  },
  {
   "cell_type": "markdown",
   "metadata": {},
   "source": [
    "## Extract the season number"
   ]
  },
  {
   "cell_type": "code",
   "execution_count": 112,
   "metadata": {
    "collapsed": false
   },
   "outputs": [],
   "source": [
    "def get_season_number(dt):\n",
    "        start_year = 1996\n",
    "        # Kobe's rookie season was 1996-1997\n",
    "        # Seasons start in October, end by July of the next year\n",
    "        if dt.month < 8:\n",
    "            return dt.year - start_year\n",
    "        else:\n",
    "            return dt.year - start_year + 1\n",
    "\n",
    "def extract_season_info(df):\n",
    "    df['game_date'] = pd.to_datetime(df['game_date'])\n",
    "    df = df.sort_values(['game_date'])\n",
    "    df['year'] = df['game_date'].dt.year\n",
    "    df['month'] = df['game_date'].dt.month\n",
    "    df['day'] = df['game_date'].dt.day\n",
    "    # Next, let's extract the season number \n",
    "    df['season'] = df['game_date'].apply(get_season_number)\n",
    "    return df\n",
    "\n",
    "# Note that a lot of things after this will require the season number so I'm doing it here\n",
    "df = extract_season_info(df)"
   ]
  },
  {
   "cell_type": "markdown",
   "metadata": {},
   "source": [
    "## Get an Adjusted Defensive Rating column (DRtg/A)\n",
    "I created a webscraper to get all of the defensive ratings of NBA teams over the years that Kobe played. Note that this isn't in just the data from Kaggle so we probably shouldn't use it for Kaggle."
   ]
  },
  {
   "cell_type": "code",
   "execution_count": 113,
   "metadata": {
    "collapsed": false,
    "scrolled": false
   },
   "outputs": [],
   "source": [
    "def get_defensive_rating(x):\n",
    "    try:\n",
    "        return defensive_stats[x[0]-1][x[1]]\n",
    "    except:\n",
    "        return defensive_stats[x[0]-1]['NOH'] # This is really hacky but New Orleans was having an identity crisis... \n",
    "    \n",
    "def extract_defensive_ratings(df):\n",
    "    df['Opponent DRtg/A'] = df[['season', 'opponent']].apply(get_defensive_rating, axis=1)\n",
    "    return df"
   ]
  },
  {
   "cell_type": "markdown",
   "metadata": {},
   "source": [
    "## Extract Shot Information\n",
    "Here we'll get the Euclidean distance of the shot as well as the side of the court he shot from"
   ]
  },
  {
   "cell_type": "code",
   "execution_count": 114,
   "metadata": {
    "collapsed": false
   },
   "outputs": [],
   "source": [
    "def extract_shot_distance(df):\n",
    "    df['shot_distance'] = df[['loc_x', 'loc_y']].apply(lambda x: np.linalg.norm(x[1]-x[0]), axis=1)\n",
    "    return df\n",
    "\n",
    "def extract_shot_side(df):\n",
    "    df['left_side'] = np.where(df['loc_x'] >= 80, 1, 0)\n",
    "    df['right_side'] = np.where(df['loc_x'] <= -80, 1, 0)\n",
    "    df['middle'] = np.where(np.logical_and(df['loc_x'] > -80, df['loc_x'] < 80), 1, 0)\n",
    "    return df"
   ]
  },
  {
   "cell_type": "code",
   "execution_count": 115,
   "metadata": {
    "collapsed": true
   },
   "outputs": [],
   "source": [
    "def get_shot_moving(action_type):\n",
    "    if 'Driving' in action_type:\n",
    "        return 1\n",
    "    if 'Running' in action_type:\n",
    "        return 1\n",
    "    return 0\n",
    "\n",
    "def extract_shot_moving(df):\n",
    "    df['moving'] = df['action_type'].apply(get_shot_moving)\n",
    "    return df"
   ]
  },
  {
   "cell_type": "code",
   "execution_count": 116,
   "metadata": {
    "collapsed": true
   },
   "outputs": [],
   "source": [
    "def get_dunk_layup(combined_shot_type):\n",
    "    if 'Dunk' in combined_shot_type:\n",
    "        return 1\n",
    "    if 'Layup' in combined_shot_type:\n",
    "        return 1\n",
    "    return 0\n",
    "\n",
    "def extract_dunk_layup(df):\n",
    "    df['Dunk or Layup'] = df['combined_shot_type'].apply(get_dunk_layup)\n",
    "    return df"
   ]
  },
  {
   "cell_type": "code",
   "execution_count": 117,
   "metadata": {
    "collapsed": true
   },
   "outputs": [],
   "source": [
    "# Use this one to extract all shot information\n",
    "def extract_shot_info(df):\n",
    "    df = extract_shot_distance(df)\n",
    "    df = extract_shot_side(df)\n",
    "    df = extract_shot_moving(df)\n",
    "    df = extract_dunk_layup(df)\n",
    "    return df"
   ]
  },
  {
   "cell_type": "markdown",
   "metadata": {},
   "source": [
    "## Extract Home/Away and if this is the second game of a back to back"
   ]
  },
  {
   "cell_type": "code",
   "execution_count": 118,
   "metadata": {
    "collapsed": false
   },
   "outputs": [],
   "source": [
    "# Whether or not this was a home game\n",
    "def home_game(matchup):\n",
    "    if '@' in matchup:\n",
    "        return 0\n",
    "    else:\n",
    "        return 1\n",
    "\n",
    "def extract_home_games(df):\n",
    "    df['home'] = df['matchup'].apply(home_game)\n",
    "    return df"
   ]
  },
  {
   "cell_type": "code",
   "execution_count": 119,
   "metadata": {
    "collapsed": true
   },
   "outputs": [],
   "source": [
    "def get_segababa(game_date, all_game_dates):\n",
    "    this_game_index = all_game_dates.index(game_date)\n",
    "    if this_game_index == 0: # First game of the season\n",
    "        return 0\n",
    "    previous_game_date = all_game_dates[this_game_index - 1]\n",
    "    delta = game_date - previous_game_date\n",
    "    if delta.days == 1:\n",
    "        return 1\n",
    "    else:\n",
    "        return 0\n",
    "\n",
    "def extract_segababa(df):\n",
    "    all_game_dates = sorted(list(set(df['game_date'])))\n",
    "    df['segababa'] = df['game_date'].apply(get_segababa, args=(all_game_dates,))\n",
    "    return df"
   ]
  },
  {
   "cell_type": "markdown",
   "metadata": {},
   "source": [
    "## Extract the amount of time left in the game\n",
    "Do this in seconds"
   ]
  },
  {
   "cell_type": "code",
   "execution_count": 120,
   "metadata": {
    "collapsed": true
   },
   "outputs": [],
   "source": [
    "# This function is used for determine how much time is left in the game (in minutes)\n",
    "def extract_seconds_remaining(df):\n",
    "    df['minutes_remaining'] = (4 - df['period'])*12 + df['minutes_remaining']\n",
    "    df['total_seconds_remaining'] = df['minutes_remaining'] * 60 + df['seconds_remaining']\n",
    "    return df"
   ]
  },
  {
   "cell_type": "markdown",
   "metadata": {},
   "source": [
    "## Combine all of our extractions"
   ]
  },
  {
   "cell_type": "code",
   "execution_count": 121,
   "metadata": {
    "collapsed": false
   },
   "outputs": [],
   "source": [
    "keep_columns = ['shot_id', 'season', 'Opponent DRtg/A', 'shot_distance', 'left_side', 'middle', 'right_side', \n",
    "                'moving', 'playoffs', 'home', 'segababa', 'Dunk or Layup', 'shot_made_flag', 'total_seconds_remaining']\n",
    "\n",
    "# Keep the shot_id for the test stuff\n",
    "\n",
    "def process_data(df):\n",
    "    # df = extract_season_info(df) - DON'T INCLUDE THIS, IT SHOULD ALREADY BE DONE\n",
    "    df = extract_defensive_ratings(df)\n",
    "    df = extract_shot_info(df)\n",
    "    df = extract_home_games(df)\n",
    "    df = extract_segababa(df)\n",
    "    df = extract_seconds_remaining(df)\n",
    "    return df[keep_columns]\n",
    "    \n",
    "df_processed = process_data(df)"
   ]
  },
  {
   "cell_type": "code",
   "execution_count": 122,
   "metadata": {
    "collapsed": false,
    "scrolled": true
   },
   "outputs": [
    {
     "data": {
      "text/html": [
       "<div>\n",
       "<table border=\"1\" class=\"dataframe\">\n",
       "  <thead>\n",
       "    <tr style=\"text-align: right;\">\n",
       "      <th></th>\n",
       "      <th>shot_id</th>\n",
       "      <th>season</th>\n",
       "      <th>Opponent DRtg/A</th>\n",
       "      <th>shot_distance</th>\n",
       "      <th>left_side</th>\n",
       "      <th>middle</th>\n",
       "      <th>right_side</th>\n",
       "      <th>moving</th>\n",
       "      <th>playoffs</th>\n",
       "      <th>home</th>\n",
       "      <th>segababa</th>\n",
       "      <th>Dunk or Layup</th>\n",
       "      <th>shot_made_flag</th>\n",
       "      <th>total_seconds_remaining</th>\n",
       "    </tr>\n",
       "  </thead>\n",
       "  <tbody>\n",
       "    <tr>\n",
       "      <th>22901</th>\n",
       "      <td>22902</td>\n",
       "      <td>1</td>\n",
       "      <td>108.06</td>\n",
       "      <td>256.0</td>\n",
       "      <td>0</td>\n",
       "      <td>0</td>\n",
       "      <td>1</td>\n",
       "      <td>0</td>\n",
       "      <td>0</td>\n",
       "      <td>1</td>\n",
       "      <td>0</td>\n",
       "      <td>0</td>\n",
       "      <td>0.0</td>\n",
       "      <td>2202</td>\n",
       "    </tr>\n",
       "    <tr>\n",
       "      <th>22902</th>\n",
       "      <td>22903</td>\n",
       "      <td>1</td>\n",
       "      <td>101.68</td>\n",
       "      <td>228.0</td>\n",
       "      <td>0</td>\n",
       "      <td>0</td>\n",
       "      <td>1</td>\n",
       "      <td>0</td>\n",
       "      <td>0</td>\n",
       "      <td>0</td>\n",
       "      <td>0</td>\n",
       "      <td>0</td>\n",
       "      <td>0.0</td>\n",
       "      <td>2048</td>\n",
       "    </tr>\n",
       "    <tr>\n",
       "      <th>22903</th>\n",
       "      <td>22904</td>\n",
       "      <td>1</td>\n",
       "      <td>109.65</td>\n",
       "      <td>323.0</td>\n",
       "      <td>0</td>\n",
       "      <td>0</td>\n",
       "      <td>1</td>\n",
       "      <td>0</td>\n",
       "      <td>0</td>\n",
       "      <td>0</td>\n",
       "      <td>1</td>\n",
       "      <td>0</td>\n",
       "      <td>1.0</td>\n",
       "      <td>1957</td>\n",
       "    </tr>\n",
       "    <tr>\n",
       "      <th>22904</th>\n",
       "      <td>22905</td>\n",
       "      <td>1</td>\n",
       "      <td>109.65</td>\n",
       "      <td>0.0</td>\n",
       "      <td>0</td>\n",
       "      <td>1</td>\n",
       "      <td>0</td>\n",
       "      <td>0</td>\n",
       "      <td>0</td>\n",
       "      <td>0</td>\n",
       "      <td>1</td>\n",
       "      <td>0</td>\n",
       "      <td>0.0</td>\n",
       "      <td>1834</td>\n",
       "    </tr>\n",
       "    <tr>\n",
       "      <th>22905</th>\n",
       "      <td>22906</td>\n",
       "      <td>1</td>\n",
       "      <td>109.65</td>\n",
       "      <td>148.0</td>\n",
       "      <td>0</td>\n",
       "      <td>1</td>\n",
       "      <td>0</td>\n",
       "      <td>0</td>\n",
       "      <td>0</td>\n",
       "      <td>0</td>\n",
       "      <td>1</td>\n",
       "      <td>0</td>\n",
       "      <td>1.0</td>\n",
       "      <td>1767</td>\n",
       "    </tr>\n",
       "  </tbody>\n",
       "</table>\n",
       "</div>"
      ],
      "text/plain": [
       "       shot_id  season  Opponent DRtg/A  shot_distance  left_side  middle  \\\n",
       "22901    22902       1           108.06          256.0          0       0   \n",
       "22902    22903       1           101.68          228.0          0       0   \n",
       "22903    22904       1           109.65          323.0          0       0   \n",
       "22904    22905       1           109.65            0.0          0       1   \n",
       "22905    22906       1           109.65          148.0          0       1   \n",
       "\n",
       "       right_side  moving  playoffs  home  segababa  Dunk or Layup  \\\n",
       "22901           1       0         0     1         0              0   \n",
       "22902           1       0         0     0         0              0   \n",
       "22903           1       0         0     0         1              0   \n",
       "22904           0       0         0     0         1              0   \n",
       "22905           0       0         0     0         1              0   \n",
       "\n",
       "       shot_made_flag  total_seconds_remaining  \n",
       "22901             0.0                     2202  \n",
       "22902             0.0                     2048  \n",
       "22903             1.0                     1957  \n",
       "22904             0.0                     1834  \n",
       "22905             1.0                     1767  "
      ]
     },
     "execution_count": 122,
     "metadata": {},
     "output_type": "execute_result"
    }
   ],
   "source": [
    "df_processed.head()"
   ]
  },
  {
   "cell_type": "code",
   "execution_count": 123,
   "metadata": {
    "collapsed": false
   },
   "outputs": [],
   "source": [
    "# Save to a new CSV\n",
    "submit_mask = df['shot_made_flag'].isnull()\n",
    "df_submit = df_processed[submit_mask]\n",
    "\n",
    "df_processed = df_processed.dropna().drop('shot_id', axis=1)\n",
    "\n",
    "df_processed.to_csv('../data/processed_data.csv')\n",
    "df_submit.to_csv('../data/submit_data.csv')"
   ]
  },
  {
   "cell_type": "code",
   "execution_count": 124,
   "metadata": {
    "collapsed": false
   },
   "outputs": [
    {
     "data": {
      "text/html": [
       "<div>\n",
       "<table border=\"1\" class=\"dataframe\">\n",
       "  <thead>\n",
       "    <tr style=\"text-align: right;\">\n",
       "      <th></th>\n",
       "      <th>shot_id</th>\n",
       "      <th>season</th>\n",
       "      <th>Opponent DRtg/A</th>\n",
       "      <th>shot_distance</th>\n",
       "      <th>left_side</th>\n",
       "      <th>middle</th>\n",
       "      <th>right_side</th>\n",
       "      <th>moving</th>\n",
       "      <th>playoffs</th>\n",
       "      <th>home</th>\n",
       "      <th>segababa</th>\n",
       "      <th>Dunk or Layup</th>\n",
       "      <th>shot_made_flag</th>\n",
       "      <th>total_seconds_remaining</th>\n",
       "    </tr>\n",
       "  </thead>\n",
       "  <tbody>\n",
       "    <tr>\n",
       "      <th>22906</th>\n",
       "      <td>22907</td>\n",
       "      <td>1</td>\n",
       "      <td>108.57</td>\n",
       "      <td>102.0</td>\n",
       "      <td>0</td>\n",
       "      <td>1</td>\n",
       "      <td>0</td>\n",
       "      <td>0</td>\n",
       "      <td>0</td>\n",
       "      <td>0</td>\n",
       "      <td>0</td>\n",
       "      <td>0</td>\n",
       "      <td>NaN</td>\n",
       "      <td>1878</td>\n",
       "    </tr>\n",
       "    <tr>\n",
       "      <th>22908</th>\n",
       "      <td>22909</td>\n",
       "      <td>1</td>\n",
       "      <td>108.57</td>\n",
       "      <td>0.0</td>\n",
       "      <td>0</td>\n",
       "      <td>1</td>\n",
       "      <td>0</td>\n",
       "      <td>0</td>\n",
       "      <td>0</td>\n",
       "      <td>0</td>\n",
       "      <td>0</td>\n",
       "      <td>1</td>\n",
       "      <td>NaN</td>\n",
       "      <td>925</td>\n",
       "    </tr>\n",
       "    <tr>\n",
       "      <th>22926</th>\n",
       "      <td>22927</td>\n",
       "      <td>1</td>\n",
       "      <td>109.44</td>\n",
       "      <td>256.0</td>\n",
       "      <td>0</td>\n",
       "      <td>0</td>\n",
       "      <td>1</td>\n",
       "      <td>0</td>\n",
       "      <td>0</td>\n",
       "      <td>0</td>\n",
       "      <td>0</td>\n",
       "      <td>0</td>\n",
       "      <td>NaN</td>\n",
       "      <td>1811</td>\n",
       "    </tr>\n",
       "    <tr>\n",
       "      <th>22925</th>\n",
       "      <td>22926</td>\n",
       "      <td>1</td>\n",
       "      <td>109.44</td>\n",
       "      <td>15.0</td>\n",
       "      <td>1</td>\n",
       "      <td>0</td>\n",
       "      <td>0</td>\n",
       "      <td>0</td>\n",
       "      <td>0</td>\n",
       "      <td>0</td>\n",
       "      <td>0</td>\n",
       "      <td>0</td>\n",
       "      <td>NaN</td>\n",
       "      <td>1860</td>\n",
       "    </tr>\n",
       "    <tr>\n",
       "      <th>22929</th>\n",
       "      <td>22930</td>\n",
       "      <td>1</td>\n",
       "      <td>109.44</td>\n",
       "      <td>250.0</td>\n",
       "      <td>0</td>\n",
       "      <td>1</td>\n",
       "      <td>0</td>\n",
       "      <td>0</td>\n",
       "      <td>0</td>\n",
       "      <td>0</td>\n",
       "      <td>0</td>\n",
       "      <td>0</td>\n",
       "      <td>NaN</td>\n",
       "      <td>1538</td>\n",
       "    </tr>\n",
       "  </tbody>\n",
       "</table>\n",
       "</div>"
      ],
      "text/plain": [
       "       shot_id  season  Opponent DRtg/A  shot_distance  left_side  middle  \\\n",
       "22906    22907       1           108.57          102.0          0       1   \n",
       "22908    22909       1           108.57            0.0          0       1   \n",
       "22926    22927       1           109.44          256.0          0       0   \n",
       "22925    22926       1           109.44           15.0          1       0   \n",
       "22929    22930       1           109.44          250.0          0       1   \n",
       "\n",
       "       right_side  moving  playoffs  home  segababa  Dunk or Layup  \\\n",
       "22906           0       0         0     0         0              0   \n",
       "22908           0       0         0     0         0              1   \n",
       "22926           1       0         0     0         0              0   \n",
       "22925           0       0         0     0         0              0   \n",
       "22929           0       0         0     0         0              0   \n",
       "\n",
       "       shot_made_flag  total_seconds_remaining  \n",
       "22906             NaN                     1878  \n",
       "22908             NaN                      925  \n",
       "22926             NaN                     1811  \n",
       "22925             NaN                     1860  \n",
       "22929             NaN                     1538  "
      ]
     },
     "execution_count": 124,
     "metadata": {},
     "output_type": "execute_result"
    }
   ],
   "source": [
    "df_submit.head()"
   ]
  },
  {
   "cell_type": "code",
   "execution_count": 125,
   "metadata": {
    "collapsed": false
   },
   "outputs": [
    {
     "data": {
      "text/html": [
       "<div>\n",
       "<table border=\"1\" class=\"dataframe\">\n",
       "  <thead>\n",
       "    <tr style=\"text-align: right;\">\n",
       "      <th></th>\n",
       "      <th>season</th>\n",
       "      <th>Opponent DRtg/A</th>\n",
       "      <th>shot_distance</th>\n",
       "      <th>left_side</th>\n",
       "      <th>middle</th>\n",
       "      <th>right_side</th>\n",
       "      <th>moving</th>\n",
       "      <th>playoffs</th>\n",
       "      <th>home</th>\n",
       "      <th>segababa</th>\n",
       "      <th>Dunk or Layup</th>\n",
       "      <th>shot_made_flag</th>\n",
       "      <th>total_seconds_remaining</th>\n",
       "    </tr>\n",
       "  </thead>\n",
       "  <tbody>\n",
       "    <tr>\n",
       "      <th>22901</th>\n",
       "      <td>1</td>\n",
       "      <td>108.06</td>\n",
       "      <td>256.0</td>\n",
       "      <td>0</td>\n",
       "      <td>0</td>\n",
       "      <td>1</td>\n",
       "      <td>0</td>\n",
       "      <td>0</td>\n",
       "      <td>1</td>\n",
       "      <td>0</td>\n",
       "      <td>0</td>\n",
       "      <td>0.0</td>\n",
       "      <td>2202</td>\n",
       "    </tr>\n",
       "    <tr>\n",
       "      <th>22902</th>\n",
       "      <td>1</td>\n",
       "      <td>101.68</td>\n",
       "      <td>228.0</td>\n",
       "      <td>0</td>\n",
       "      <td>0</td>\n",
       "      <td>1</td>\n",
       "      <td>0</td>\n",
       "      <td>0</td>\n",
       "      <td>0</td>\n",
       "      <td>0</td>\n",
       "      <td>0</td>\n",
       "      <td>0.0</td>\n",
       "      <td>2048</td>\n",
       "    </tr>\n",
       "    <tr>\n",
       "      <th>22903</th>\n",
       "      <td>1</td>\n",
       "      <td>109.65</td>\n",
       "      <td>323.0</td>\n",
       "      <td>0</td>\n",
       "      <td>0</td>\n",
       "      <td>1</td>\n",
       "      <td>0</td>\n",
       "      <td>0</td>\n",
       "      <td>0</td>\n",
       "      <td>1</td>\n",
       "      <td>0</td>\n",
       "      <td>1.0</td>\n",
       "      <td>1957</td>\n",
       "    </tr>\n",
       "    <tr>\n",
       "      <th>22904</th>\n",
       "      <td>1</td>\n",
       "      <td>109.65</td>\n",
       "      <td>0.0</td>\n",
       "      <td>0</td>\n",
       "      <td>1</td>\n",
       "      <td>0</td>\n",
       "      <td>0</td>\n",
       "      <td>0</td>\n",
       "      <td>0</td>\n",
       "      <td>1</td>\n",
       "      <td>0</td>\n",
       "      <td>0.0</td>\n",
       "      <td>1834</td>\n",
       "    </tr>\n",
       "    <tr>\n",
       "      <th>22905</th>\n",
       "      <td>1</td>\n",
       "      <td>109.65</td>\n",
       "      <td>148.0</td>\n",
       "      <td>0</td>\n",
       "      <td>1</td>\n",
       "      <td>0</td>\n",
       "      <td>0</td>\n",
       "      <td>0</td>\n",
       "      <td>0</td>\n",
       "      <td>1</td>\n",
       "      <td>0</td>\n",
       "      <td>1.0</td>\n",
       "      <td>1767</td>\n",
       "    </tr>\n",
       "  </tbody>\n",
       "</table>\n",
       "</div>"
      ],
      "text/plain": [
       "       season  Opponent DRtg/A  shot_distance  left_side  middle  right_side  \\\n",
       "22901       1           108.06          256.0          0       0           1   \n",
       "22902       1           101.68          228.0          0       0           1   \n",
       "22903       1           109.65          323.0          0       0           1   \n",
       "22904       1           109.65            0.0          0       1           0   \n",
       "22905       1           109.65          148.0          0       1           0   \n",
       "\n",
       "       moving  playoffs  home  segababa  Dunk or Layup  shot_made_flag  \\\n",
       "22901       0         0     1         0              0             0.0   \n",
       "22902       0         0     0         0              0             0.0   \n",
       "22903       0         0     0         1              0             1.0   \n",
       "22904       0         0     0         1              0             0.0   \n",
       "22905       0         0     0         1              0             1.0   \n",
       "\n",
       "       total_seconds_remaining  \n",
       "22901                     2202  \n",
       "22902                     2048  \n",
       "22903                     1957  \n",
       "22904                     1834  \n",
       "22905                     1767  "
      ]
     },
     "execution_count": 125,
     "metadata": {},
     "output_type": "execute_result"
    }
   ],
   "source": [
    "df_processed.head()"
   ]
  },
  {
   "cell_type": "markdown",
   "metadata": {},
   "source": [
    "## Importance of the features\n",
    "All of these features from above were extracted using domain knowledge. Let's see how important each of these features actually are.\n",
    "\n",
    "## Gini impurity\n",
    "\n",
    "Random Forests and Extremely Randomized Trees (ExtraTrees) both use bagging and random subspaces for the features. We'll train an ExtraTrees classifier to determine which features are most important.\n"
   ]
  },
  {
   "cell_type": "code",
   "execution_count": 126,
   "metadata": {
    "collapsed": false
   },
   "outputs": [
    {
     "data": {
      "text/plain": [
       "ExtraTreesClassifier(bootstrap=False, class_weight=None, criterion='gini',\n",
       "           max_depth=None, max_features='auto', max_leaf_nodes=None,\n",
       "           min_impurity_split=1e-07, min_samples_leaf=1,\n",
       "           min_samples_split=2, min_weight_fraction_leaf=0.0,\n",
       "           n_estimators=10, n_jobs=1, oob_score=False, random_state=None,\n",
       "           verbose=0, warm_start=False)"
      ]
     },
     "execution_count": 126,
     "metadata": {},
     "output_type": "execute_result"
    }
   ],
   "source": [
    "from sklearn.feature_selection import RFE\n",
    "from sklearn.ensemble import ExtraTreesClassifier\n",
    "\n",
    "\n",
    "X = df_processed.drop('shot_made_flag', axis=1)\n",
    "y = df_processed['shot_made_flag']\n",
    "\n",
    "clf = ExtraTreesClassifier()\n",
    "clf.fit(X,y)"
   ]
  },
  {
   "cell_type": "code",
   "execution_count": 127,
   "metadata": {
    "collapsed": false
   },
   "outputs": [
    {
     "data": {
      "text/plain": [
       "<matplotlib.text.Text at 0x205ca390>"
      ]
     },
     "execution_count": 127,
     "metadata": {},
     "output_type": "execute_result"
    },
    {
     "data": {
      "image/png": "[encoded data removed]",
      "text/plain": [
       "<matplotlib.figure.Figure at 0x205af8d0>"
      ]
     },
     "metadata": {},
     "output_type": "display_data"
    }
   ],
   "source": [
    "import matplotlib.pyplot as plt\n",
    "% matplotlib inline\n",
    "ind = np.arange(len(clf.feature_importances_))\n",
    "width = 0.35 # Width of bars\n",
    "\n",
    "fig, ax = plt.subplots()\n",
    "\n",
    "ax.bar(ind, clf.feature_importances_, color=\"blue\")\n",
    "ax.set_xticks(ind + width)\n",
    "ax.set_xticklabels((X.columns.values), rotation='vertical')\n",
    "ax.set_title('Importance of features')"
   ]
  },
  {
   "cell_type": "code",
   "execution_count": 128,
   "metadata": {
    "collapsed": false,
    "scrolled": true
   },
   "outputs": [
    {
     "name": "stdout",
     "output_type": "stream",
     "text": [
      "Ranking the importances:\n",
      "- total_seconds_remaining: 0.313233823942\n",
      "- shot_distance: 0.24030967659\n",
      "- Opponent DRtg/A: 0.214995914662\n",
      "- season: 0.125812664793\n",
      "- moving: 0.0433813195112\n",
      "- Dunk or Layup: 0.0160283131248\n",
      "- home: 0.0159769790473\n",
      "- segababa: 0.00983351697378\n",
      "- middle: 0.00877853028949\n",
      "- playoffs: 0.00776274465709\n",
      "- left_side: 0.00203715787743\n",
      "- right_side: 0.0018493585327\n"
     ]
    }
   ],
   "source": [
    "import operator\n",
    "feature_map = dict(zip(X.columns.values, clf.feature_importances_))\n",
    "sorted_feature_map = sorted(feature_map.items(), key=operator.itemgetter(1), reverse=True)\n",
    "print \"Ranking the importances:\"\n",
    "for t in sorted_feature_map:\n",
    "    print \"- {}: {}\".format(t[0], t[1])"
   ]
  },
  {
   "cell_type": "markdown",
   "metadata": {},
   "source": [
    "## Using gini impurity rankings on discrete vs continuous columns"
   ]
  },
  {
   "cell_type": "code",
   "execution_count": 129,
   "metadata": {
    "collapsed": false
   },
   "outputs": [
    {
     "data": {
      "text/plain": [
       "ExtraTreesClassifier(bootstrap=False, class_weight=None, criterion='gini',\n",
       "           max_depth=None, max_features='auto', max_leaf_nodes=None,\n",
       "           min_impurity_split=1e-07, min_samples_leaf=1,\n",
       "           min_samples_split=2, min_weight_fraction_leaf=0.0,\n",
       "           n_estimators=10, n_jobs=1, oob_score=False, random_state=None,\n",
       "           verbose=0, warm_start=False)"
      ]
     },
     "execution_count": 129,
     "metadata": {},
     "output_type": "execute_result"
    }
   ],
   "source": [
    "from sklearn.feature_selection import RFE\n",
    "from sklearn.ensemble import ExtraTreesClassifier\n",
    "\n",
    "continuous_labels = ['total_seconds_remaining', 'shot_distance', 'Opponent DRtg/A', 'season']\n",
    "\n",
    "df_processed = df_processed.dropna()\n",
    "X = df_processed.drop('shot_made_flag', axis=1)\n",
    "X_discrete = X.drop(continuous_labels, axis=1)\n",
    "X_continuous = X[continuous_labels]\n",
    "\n",
    "y = df_processed['shot_made_flag']\n",
    "\n",
    "clf_discrete = ExtraTreesClassifier()\n",
    "clf_discrete.fit(X_discrete,y)\n",
    "clf_continuous = ExtraTreesClassifier()\n",
    "clf_continuous.fit(X_continuous, y)"
   ]
  },
  {
   "cell_type": "code",
   "execution_count": 130,
   "metadata": {
    "collapsed": false
   },
   "outputs": [
    {
     "data": {
      "text/plain": [
       "<matplotlib.text.Text at 0x1f939978>"
      ]
     },
     "execution_count": 130,
     "metadata": {},
     "output_type": "execute_result"
    },
    {
     "data": {
      "image/png": "[encoded data removed]",
      "text/plain": [
       "<matplotlib.figure.Figure at 0x205b59b0>"
      ]
     },
     "metadata": {},
     "output_type": "display_data"
    }
   ],
   "source": [
    "import matplotlib.pyplot as plt\n",
    "% matplotlib inline\n",
    "ind = np.arange(len(clf_continuous.feature_importances_))\n",
    "width = 0.35 # Width of bars\n",
    "\n",
    "fig, ax = plt.subplots()\n",
    "\n",
    "ax.bar(ind, clf_continuous.feature_importances_, color=\"blue\")\n",
    "ax.set_xticks(ind + width)\n",
    "ax.set_xticklabels((X_continuous.columns.values), rotation='vertical')\n",
    "ax.set_title('Importance of features (continuous)')"
   ]
  },
  {
   "cell_type": "code",
   "execution_count": 131,
   "metadata": {
    "collapsed": false
   },
   "outputs": [
    {
     "name": "stdout",
     "output_type": "stream",
     "text": [
      "Ranking the importances (continuous):\n",
      "- total_seconds_remaining: 0.370433292981\n",
      "- shot_distance: 0.279188810167\n",
      "- Opponent DRtg/A: 0.23703169825\n",
      "- season: 0.113346198602\n"
     ]
    }
   ],
   "source": [
    "import operator\n",
    "feature_map = dict(zip(X_continuous.columns.values, clf_continuous.feature_importances_))\n",
    "sorted_feature_map = sorted(feature_map.items(), key=operator.itemgetter(1), reverse=True)\n",
    "print \"Ranking the importances (continuous):\"\n",
    "for t in sorted_feature_map:\n",
    "    print \"- {}: {}\".format(t[0], t[1])"
   ]
  },
  {
   "cell_type": "code",
   "execution_count": 132,
   "metadata": {
    "collapsed": false
   },
   "outputs": [
    {
     "data": {
      "text/plain": [
       "<matplotlib.text.Text at 0x31428a58>"
      ]
     },
     "execution_count": 132,
     "metadata": {},
     "output_type": "execute_result"
    },
    {
     "data": {
      "image/png": "[encoded data removed]",
      "text/plain": [
       "<matplotlib.figure.Figure at 0x2fad27f0>"
      ]
     },
     "metadata": {},
     "output_type": "display_data"
    }
   ],
   "source": [
    "import matplotlib.pyplot as plt\n",
    "% matplotlib inline\n",
    "ind = np.arange(len(clf_discrete.feature_importances_))\n",
    "width = 0.35 # Width of bars\n",
    "\n",
    "fig, ax = plt.subplots()\n",
    "\n",
    "ax.bar(ind, clf_discrete.feature_importances_, color=\"blue\")\n",
    "ax.set_xticks(ind + width)\n",
    "ax.set_xticklabels((X_discrete.columns.values), rotation='vertical')\n",
    "ax.set_title('Importance of features (discrete)')"
   ]
  },
  {
   "cell_type": "code",
   "execution_count": 133,
   "metadata": {
    "collapsed": false,
    "scrolled": true
   },
   "outputs": [
    {
     "name": "stdout",
     "output_type": "stream",
     "text": [
      "Ranking the importances (discrete):\n",
      "- moving: 0.618635528563\n",
      "- Dunk or Layup: 0.225245145852\n",
      "- middle: 0.0517943946267\n",
      "- right_side: 0.0408991356759\n",
      "- left_side: 0.031015265669\n",
      "- home: 0.0186361464805\n",
      "- playoffs: 0.00783225449183\n",
      "- segababa: 0.00594212864071\n"
     ]
    }
   ],
   "source": [
    "import operator\n",
    "feature_map = dict(zip(X_discrete.columns.values, clf_discrete.feature_importances_))\n",
    "sorted_feature_map = sorted(feature_map.items(), key=operator.itemgetter(1), reverse=True)\n",
    "print \"Ranking the importances (discrete):\"\n",
    "for t in sorted_feature_map:\n",
    "    print \"- {}: {}\".format(t[0], t[1])"
   ]
  },
  {
   "cell_type": "markdown",
   "metadata": {},
   "source": [
    "## Results\n",
    "Surprisingly, the total amount of seconds remaining had the most influence over whether or not the shot was made. TODO - Graph time remaining vs shooting % later and interpret.\n",
    "\n",
    "As we can see, the shot distance and opponent's defensive rating had the most significance which makes sense. The further away you are from a basket and the quality of the defense are physically the most influential parts of making a shot. \n",
    "\n",
    "Next, the season had a significant impact as well. This makes sense because as Kobe got older, his playstyle changed to accommodate his for his increasing/decreasing athleticism.\n",
    "\n",
    "We also saw impact from whether or not the shot was a dunk or a jump shot and if the shot was taken while he was still moving.\n",
    "\n",
    "Interestingly, most of the mental aspects have very little impact.\n",
    "\n",
    "Home games: This was the most influential out of all of the mental aspects. This makes sense - away games are on the road (meaning travel time), away from home crowds and away from the location where Kobe practiced most. I think it would be interesting if there was some sort of exploration for the effect of a crowd on a game. Is this narrative media-manufactured or is it actually true?\n",
    "\n",
    "Playoffs: This was surprising to me. I assumed that a playoff game would have a significant impact on a shot made, so does this mean that the effect of playoff defense is overstated?\n",
    "\n",
    "Side of the court: I thought this would have a more significant impact in that Kobe would rather shoot from the spots he's most comfortable with. If the side is changed, then I would have assumed that he was forced to that spot by the defense, and thus be shooting a shot he's less comfortable. However, Kobe was a monster in basketball, so he probably is comfortable taking any shot.\n",
    "\n",
    "SEGABABA: I assumed that the fatigue of having to play two games in two nights would heavily affect shooting performance. However, this does not seem to be the case as it is one of the least impactful features.\n",
    "\n",
    "Note that the ExtraTrees feature importance uses a gini importance. Gini importance is biased towards preferring variables with more categories (http://link.springer.com/article/10.1186%2F1471-2105-8-25). We can see that total_seconds_remaining has the most categories so that is probably why it has the most impact."
   ]
  },
  {
   "cell_type": "markdown",
   "metadata": {
    "collapsed": true
   },
   "source": [
    "## RFE\n",
    "\n",
    "Note that a lower ranking indicates a good feature  \n",
    "http://scikit-learn.org/stable/modules/generated/sklearn.feature_selection.RFECV.html  \n",
    "  \n",
    "It works by recursively removing attributes, then building a model on attributes that remain. It then uses the scoring to identify which attributes contribute most to predicting the target attribute. "
   ]
  },
  {
   "cell_type": "code",
   "execution_count": 140,
   "metadata": {
    "collapsed": false
   },
   "outputs": [],
   "source": [
    "from sklearn.ensemble import RandomForestClassifier\n",
    "from sklearn.feature_selection import RFECV\n",
    "\n",
    "rf = RandomForestClassifier()\n",
    "\n",
    "selector_rf = RFECV(rf, step=1, cv=5, scoring='neg_log_loss')\n",
    "selector_rf = selector_rf.fit(X, y)"
   ]
  },
  {
   "cell_type": "code",
   "execution_count": 141,
   "metadata": {
    "collapsed": false
   },
   "outputs": [
    {
     "name": "stdout",
     "output_type": "stream",
     "text": [
      "Ranking the importances (using Random Forest):\n",
      "- Opponent DRtg/A: 1\n",
      "- shot_distance: 1\n",
      "- total_seconds_remaining: 1\n",
      "- season: 2\n",
      "- moving: 3\n",
      "- Dunk or Layup: 4\n",
      "- segababa: 5\n",
      "- home: 6\n",
      "- middle: 7\n",
      "- playoffs: 8\n",
      "- left_side: 9\n",
      "- right_side: 10\n"
     ]
    }
   ],
   "source": [
    "import operator\n",
    "feature_map = dict(zip(X.columns.values, selector_rf.ranking_))\n",
    "sorted_feature_map = sorted(feature_map.items(), key=operator.itemgetter(1), reverse=False)\n",
    "print \"Ranking the importances (using Random Forest):\"\n",
    "for t in sorted_feature_map:\n",
    "    print \"- {}: {}\".format(t[0], t[1])"
   ]
  },
  {
   "cell_type": "code",
   "execution_count": 142,
   "metadata": {
    "collapsed": true
   },
   "outputs": [],
   "source": [
    "from sklearn.linear_model import LogisticRegression\n",
    "from sklearn.feature_selection import RFECV\n",
    "\n",
    "log_r = LogisticRegression()\n",
    "\n",
    "selector = RFECV(log_r, step=1, cv=5, scoring='neg_log_loss')\n",
    "selector = selector.fit(X, y)"
   ]
  },
  {
   "cell_type": "code",
   "execution_count": 143,
   "metadata": {
    "collapsed": false
   },
   "outputs": [
    {
     "name": "stdout",
     "output_type": "stream",
     "text": [
      "Ranking the importances (using Logistic Regression):\n",
      "- Opponent DRtg/A: 1\n",
      "- playoffs: 1\n",
      "- season: 1\n",
      "- left_side: 1\n",
      "- segababa: 1\n",
      "- Dunk or Layup: 1\n",
      "- middle: 1\n",
      "- shot_distance: 1\n",
      "- moving: 1\n",
      "- home: 1\n",
      "- total_seconds_remaining: 1\n",
      "- right_side: 1\n"
     ]
    }
   ],
   "source": [
    "import operator\n",
    "feature_map = dict(zip(X.columns.values, selector.ranking_))\n",
    "sorted_feature_map = sorted(feature_map.items(), key=operator.itemgetter(1), reverse=False)\n",
    "print \"Ranking the importances (using Logistic Regression):\"\n",
    "for t in sorted_feature_map:\n",
    "    print \"- {}: {}\".format(t[0], t[1])"
   ]
  },
  {
   "cell_type": "code",
   "execution_count": null,
   "metadata": {
    "collapsed": true
   },
   "outputs": [],
   "source": []
  }
 ],
 "metadata": {
  "anaconda-cloud": {},
  "kernelspec": {
   "display_name": "Python [Root]",
   "language": "python",
   "name": "Python [Root]"
  },
  "language_info": {
   "codemirror_mode": {
    "name": "ipython",
    "version": 2
   },
   "file_extension": ".py",
   "mimetype": "text/x-python",
   "name": "python",
   "nbconvert_exporter": "python",
   "pygments_lexer": "ipython2",
   "version": "2.7.12"
  }
 },
 "nbformat": 4,
 "nbformat_minor": 1
}
