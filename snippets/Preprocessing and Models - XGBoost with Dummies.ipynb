{
 "cells": [
  {
   "cell_type": "code",
   "execution_count": 1,
   "metadata": {
    "collapsed": false
   },
   "outputs": [
    {
     "name": "stdout",
     "output_type": "stream",
     "text": [
      "(25697, 25)\n",
      "Index([u'action_type', u'combined_shot_type', u'game_event_id', u'game_id',\n",
      "       u'lat', u'loc_x', u'loc_y', u'lon', u'minutes_remaining', u'period',\n",
      "       u'playoffs', u'season', u'seconds_remaining', u'shot_distance',\n",
      "       u'shot_made_flag', u'shot_type', u'shot_zone_area', u'shot_zone_basic',\n",
      "       u'shot_zone_range', u'team_id', u'team_name', u'game_date', u'matchup',\n",
      "       u'opponent', u'shot_id'],\n",
      "      dtype='object')\n"
     ]
    }
   ],
   "source": [
    "import pandas as pd\n",
    "import numpy as np\n",
    "from sklearn.model_selection import train_test_split\n",
    "\n",
    "df = pd.read_csv('../data/data.csv').dropna()\n",
    "\n",
    "print(df.shape)\n",
    "print(df.columns)"
   ]
  },
  {
   "cell_type": "code",
   "execution_count": 2,
   "metadata": {
    "collapsed": false
   },
   "outputs": [
    {
     "data": {
      "text/html": [
       "<div>\n",
       "<table border=\"1\" class=\"dataframe\">\n",
       "  <thead>\n",
       "    <tr style=\"text-align: right;\">\n",
       "      <th></th>\n",
       "      <th>action_type</th>\n",
       "      <th>combined_shot_type</th>\n",
       "      <th>game_event_id</th>\n",
       "      <th>game_id</th>\n",
       "      <th>lat</th>\n",
       "      <th>loc_x</th>\n",
       "      <th>loc_y</th>\n",
       "      <th>lon</th>\n",
       "      <th>minutes_remaining</th>\n",
       "      <th>period</th>\n",
       "      <th>...</th>\n",
       "      <th>shot_type</th>\n",
       "      <th>shot_zone_area</th>\n",
       "      <th>shot_zone_basic</th>\n",
       "      <th>shot_zone_range</th>\n",
       "      <th>team_id</th>\n",
       "      <th>team_name</th>\n",
       "      <th>game_date</th>\n",
       "      <th>matchup</th>\n",
       "      <th>opponent</th>\n",
       "      <th>shot_id</th>\n",
       "    </tr>\n",
       "  </thead>\n",
       "  <tbody>\n",
       "    <tr>\n",
       "      <th>1</th>\n",
       "      <td>Jump Shot</td>\n",
       "      <td>Jump Shot</td>\n",
       "      <td>12</td>\n",
       "      <td>20000012</td>\n",
       "      <td>34.0443</td>\n",
       "      <td>-157</td>\n",
       "      <td>0</td>\n",
       "      <td>-118.4268</td>\n",
       "      <td>10</td>\n",
       "      <td>1</td>\n",
       "      <td>...</td>\n",
       "      <td>2PT Field Goal</td>\n",
       "      <td>Left Side(L)</td>\n",
       "      <td>Mid-Range</td>\n",
       "      <td>8-16 ft.</td>\n",
       "      <td>1610612747</td>\n",
       "      <td>Los Angeles Lakers</td>\n",
       "      <td>2000-10-31</td>\n",
       "      <td>LAL @ POR</td>\n",
       "      <td>POR</td>\n",
       "      <td>2</td>\n",
       "    </tr>\n",
       "    <tr>\n",
       "      <th>2</th>\n",
       "      <td>Jump Shot</td>\n",
       "      <td>Jump Shot</td>\n",
       "      <td>35</td>\n",
       "      <td>20000012</td>\n",
       "      <td>33.9093</td>\n",
       "      <td>-101</td>\n",
       "      <td>135</td>\n",
       "      <td>-118.3708</td>\n",
       "      <td>7</td>\n",
       "      <td>1</td>\n",
       "      <td>...</td>\n",
       "      <td>2PT Field Goal</td>\n",
       "      <td>Left Side Center(LC)</td>\n",
       "      <td>Mid-Range</td>\n",
       "      <td>16-24 ft.</td>\n",
       "      <td>1610612747</td>\n",
       "      <td>Los Angeles Lakers</td>\n",
       "      <td>2000-10-31</td>\n",
       "      <td>LAL @ POR</td>\n",
       "      <td>POR</td>\n",
       "      <td>3</td>\n",
       "    </tr>\n",
       "    <tr>\n",
       "      <th>3</th>\n",
       "      <td>Jump Shot</td>\n",
       "      <td>Jump Shot</td>\n",
       "      <td>43</td>\n",
       "      <td>20000012</td>\n",
       "      <td>33.8693</td>\n",
       "      <td>138</td>\n",
       "      <td>175</td>\n",
       "      <td>-118.1318</td>\n",
       "      <td>6</td>\n",
       "      <td>1</td>\n",
       "      <td>...</td>\n",
       "      <td>2PT Field Goal</td>\n",
       "      <td>Right Side Center(RC)</td>\n",
       "      <td>Mid-Range</td>\n",
       "      <td>16-24 ft.</td>\n",
       "      <td>1610612747</td>\n",
       "      <td>Los Angeles Lakers</td>\n",
       "      <td>2000-10-31</td>\n",
       "      <td>LAL @ POR</td>\n",
       "      <td>POR</td>\n",
       "      <td>4</td>\n",
       "    </tr>\n",
       "    <tr>\n",
       "      <th>4</th>\n",
       "      <td>Driving Dunk Shot</td>\n",
       "      <td>Dunk</td>\n",
       "      <td>155</td>\n",
       "      <td>20000012</td>\n",
       "      <td>34.0443</td>\n",
       "      <td>0</td>\n",
       "      <td>0</td>\n",
       "      <td>-118.2698</td>\n",
       "      <td>6</td>\n",
       "      <td>2</td>\n",
       "      <td>...</td>\n",
       "      <td>2PT Field Goal</td>\n",
       "      <td>Center(C)</td>\n",
       "      <td>Restricted Area</td>\n",
       "      <td>Less Than 8 ft.</td>\n",
       "      <td>1610612747</td>\n",
       "      <td>Los Angeles Lakers</td>\n",
       "      <td>2000-10-31</td>\n",
       "      <td>LAL @ POR</td>\n",
       "      <td>POR</td>\n",
       "      <td>5</td>\n",
       "    </tr>\n",
       "    <tr>\n",
       "      <th>5</th>\n",
       "      <td>Jump Shot</td>\n",
       "      <td>Jump Shot</td>\n",
       "      <td>244</td>\n",
       "      <td>20000012</td>\n",
       "      <td>34.0553</td>\n",
       "      <td>-145</td>\n",
       "      <td>-11</td>\n",
       "      <td>-118.4148</td>\n",
       "      <td>9</td>\n",
       "      <td>3</td>\n",
       "      <td>...</td>\n",
       "      <td>2PT Field Goal</td>\n",
       "      <td>Left Side(L)</td>\n",
       "      <td>Mid-Range</td>\n",
       "      <td>8-16 ft.</td>\n",
       "      <td>1610612747</td>\n",
       "      <td>Los Angeles Lakers</td>\n",
       "      <td>2000-10-31</td>\n",
       "      <td>LAL @ POR</td>\n",
       "      <td>POR</td>\n",
       "      <td>6</td>\n",
       "    </tr>\n",
       "  </tbody>\n",
       "</table>\n",
       "<p>5 rows × 25 columns</p>\n",
       "</div>"
      ],
      "text/plain": [
       "         action_type combined_shot_type  game_event_id   game_id      lat  \\\n",
       "1          Jump Shot          Jump Shot             12  20000012  34.0443   \n",
       "2          Jump Shot          Jump Shot             35  20000012  33.9093   \n",
       "3          Jump Shot          Jump Shot             43  20000012  33.8693   \n",
       "4  Driving Dunk Shot               Dunk            155  20000012  34.0443   \n",
       "5          Jump Shot          Jump Shot            244  20000012  34.0553   \n",
       "\n",
       "   loc_x  loc_y       lon  minutes_remaining  period   ...          shot_type  \\\n",
       "1   -157      0 -118.4268                 10       1   ...     2PT Field Goal   \n",
       "2   -101    135 -118.3708                  7       1   ...     2PT Field Goal   \n",
       "3    138    175 -118.1318                  6       1   ...     2PT Field Goal   \n",
       "4      0      0 -118.2698                  6       2   ...     2PT Field Goal   \n",
       "5   -145    -11 -118.4148                  9       3   ...     2PT Field Goal   \n",
       "\n",
       "          shot_zone_area  shot_zone_basic  shot_zone_range     team_id  \\\n",
       "1           Left Side(L)        Mid-Range         8-16 ft.  1610612747   \n",
       "2   Left Side Center(LC)        Mid-Range        16-24 ft.  1610612747   \n",
       "3  Right Side Center(RC)        Mid-Range        16-24 ft.  1610612747   \n",
       "4              Center(C)  Restricted Area  Less Than 8 ft.  1610612747   \n",
       "5           Left Side(L)        Mid-Range         8-16 ft.  1610612747   \n",
       "\n",
       "            team_name   game_date    matchup opponent  shot_id  \n",
       "1  Los Angeles Lakers  2000-10-31  LAL @ POR      POR        2  \n",
       "2  Los Angeles Lakers  2000-10-31  LAL @ POR      POR        3  \n",
       "3  Los Angeles Lakers  2000-10-31  LAL @ POR      POR        4  \n",
       "4  Los Angeles Lakers  2000-10-31  LAL @ POR      POR        5  \n",
       "5  Los Angeles Lakers  2000-10-31  LAL @ POR      POR        6  \n",
       "\n",
       "[5 rows x 25 columns]"
      ]
     },
     "execution_count": 2,
     "metadata": {},
     "output_type": "execute_result"
    }
   ],
   "source": [
    "df.head()"
   ]
  },
  {
   "cell_type": "markdown",
   "metadata": {},
   "source": [
    "## Information about the data\n",
    "As we can see, there are 25,697 labelled shots and 25 columns (one column is what we're trying to predict, which is whether or not he made the shot). Here are brief descriptions of what each column means:\n",
    "\n",
    "- action_type:\n",
    "\n",
    "Values: Jump Shot, Driving Dunk, Layup Shot, Running Jump Shot, etc.\n",
    "\n",
    "This basically means the type of shot taken\n",
    "\n",
    "\n",
    "- combined_shot_type\n",
    "\n",
    "Values: Jump Shot, Dunk, Layup\n",
    "\n",
    "Same thing as action_type but more generalized. action_type will say \"Running Jump Shot\" while combined_shot_type will say \"Jump Shot,\" so action_type is more descriptive.\n",
    "\n",
    "- game_event_id, game_id, shot_id\n",
    "\n",
    "Identifiers\n",
    "\n",
    "- loc_x, loc_y\n",
    "\n",
    "(x,y) location of the position where the shot was taken. (0,0) refers to the location of the basket\n",
    "\n",
    "- lat, lon\n",
    "\n",
    "GPS coordinates of the stadium where the game was played\n",
    "\n",
    "- minutes_remaining\n",
    "\n",
    "Minutes remaining in the quarter\n",
    "\n",
    "- period\n",
    "\n",
    "The quarter\n",
    "\n",
    "- playoffs\n",
    "\n",
    "Flag for whether or not this was a playoff game\n",
    "\n",
    "- season\n",
    "\n",
    "The year of the game\n",
    "\n",
    "- seconds_remaining\n",
    "\n",
    "Seconds remaining in the minute\n",
    "\n",
    "- shot_distance\n",
    "\n",
    "Euclidean distance from the basket in feet\n",
    "\n",
    "- shot_type\n",
    "\n",
    "2 PT or 3 PT shot (this can also be determined by shot distance)\n",
    "\n",
    "- shot_zone_area\n",
    "\n",
    "Side of the court\n",
    "\n",
    "- shot_zone_basic\n",
    "\n",
    "Descriptive locations of where the shots are taken (Restricted, In the paint, Mid-Range, \n",
    "\n",
    "- shot_zone_range\n",
    "\n",
    "Range of where the shot was taken\n",
    "\n",
    "- team_id, team_name\n",
    "\n",
    "ID, name of the team (Kobe's team)\n",
    "\n",
    "- game_date\n",
    "\n",
    "Date of the game\n",
    "\n",
    "- matchup\n",
    "\n",
    "The away vs home team\n",
    "\n",
    "- opponent\n",
    "\n",
    "The name of the opponent team\n",
    "\n",
    "- shot_made_flag\n",
    "\n",
    "Flag for if the shot is made or not"
   ]
  },
  {
   "cell_type": "markdown",
   "metadata": {},
   "source": [
    "## Pre Processing - Get Dummies"
   ]
  },
  {
   "cell_type": "code",
   "execution_count": 3,
   "metadata": {
    "collapsed": false,
    "scrolled": true
   },
   "outputs": [
    {
     "name": "stdout",
     "output_type": "stream",
     "text": [
      "(25697, 1715)\n"
     ]
    }
   ],
   "source": [
    "drop_list = ['combined_shot_type', 'game_event_id', 'game_id', 'lat', 'lon', 'shot_type', 'shot_zone_area',\n",
    "            'shot_zone_basic', 'shot_zone_range', 'team_id', 'team_name', 'shot_id', 'opponent']\n",
    "\n",
    "def drop_columns(df):\n",
    "    return df.drop(drop_list, axis=1)\n",
    "\n",
    "df = drop_columns(df)\n",
    "df = pd.get_dummies(df)\n",
    "print(df.shape)\n",
    "\n",
    "y = df['shot_made_flag']\n",
    "X = df.drop('shot_made_flag', axis=1)\n",
    "\n",
    "X_train, X_test, y_train, y_test = train_test_split(X, y, test_size=0.33, random_state=42)"
   ]
  },
  {
   "cell_type": "code",
   "execution_count": null,
   "metadata": {
    "collapsed": false
   },
   "outputs": [
    {
     "name": "stdout",
     "output_type": "stream",
     "text": [
      "Done\n"
     ]
    }
   ],
   "source": [
    "import xgboost as xgb\n",
    "from sklearn.model_selection import GridSearchCV\n",
    "\n",
    "X_train_simple = X_train[['loc_x', 'loc_y']]\n",
    "X_test_simple = X_test[['loc_x', 'loc_y']]\n",
    "\n",
    "# Try using XGBoost\n",
    "cv_params = {'max_depth': [3,5,7], 'min_child_weight': [1,3,5]}\n",
    "ind_params = {'learning_rate': 0.1, 'n_estimators': 1000, 'seed':0, 'subsample': 0.8, 'colsample_bytree': 0.8, \n",
    "             'objective': 'binary:logistic'}\n",
    "\n",
    "clf_simple = GridSearchCV(\n",
    "    xgb.XGBClassifier(**ind_params),\n",
    "    cv_params,\n",
    "    scoring = 'accuracy', cv=3, n_jobs=-1\n",
    ")\n",
    "\n",
    "\n",
    "clf_simple.fit(X_train_simple, y_train)\n",
    "\n",
    "predictions_simple = clf_simple.predict(X_test_simple)\n",
    "\n",
    "print \"Done\" # Takes awhile to run..."
   ]
  },
  {
   "cell_type": "code",
   "execution_count": 5,
   "metadata": {
    "collapsed": false
   },
   "outputs": [
    {
     "name": "stdout",
     "output_type": "stream",
     "text": [
      "{'std_train_score': array([ 0.0029669 ,  0.00320376,  0.00298467,  0.00231833,  0.00247814,\n",
      "        0.00173389,  0.00404398,  0.0024756 ,  0.00177908]), 'rank_test_score': array([2, 1, 3, 8, 5, 4, 9, 7, 6]), 'mean_score_time': array([ 0.08400003,  0.0893333 ,  0.09499995,  0.14633338,  0.22066681,\n",
      "        0.18266662,  0.21033343,  0.21033335,  0.19999997]), 'param_max_depth': masked_array(data = [3 3 3 5 5 5 7 7 7],\n",
      "             mask = [False False False False False False False False False],\n",
      "       fill_value = ?)\n",
      ", 'std_test_score': array([ 0.00175272,  0.0024609 ,  0.00144506,  0.00218803,  0.00424183,\n",
      "        0.00389584,  0.00341969,  0.00387335,  0.00296613]), 'split1_train_score': array([ 0.63988847,  0.63962708,  0.63710029,  0.64877581,  0.64668467,\n",
      "        0.6456391 ,  0.65086695,  0.64877581,  0.6481659 ]), 'split0_test_score': array([ 0.59156647,  0.59383168,  0.58999826,  0.57762676,  0.57832375,\n",
      "        0.57797526,  0.57623279,  0.57640704,  0.57658129]), 'mean_test_score': array([ 0.59171701,  0.59241403,  0.59101998,  0.57899628,  0.58021608,\n",
      "        0.58207481,  0.57742797,  0.57940288,  0.57963522]), 'split2_train_score': array([ 0.63565081,  0.63225301,  0.6299878 ,  0.6434919 ,  0.64070396,\n",
      "        0.64166231,  0.64096532,  0.64288204,  0.64401464]), 'split0_train_score': array([ 0.63265662,  0.63361506,  0.63500915,  0.64433214,  0.64459353,\n",
      "        0.64494206,  0.64616189,  0.64459353,  0.64494206]), 'params': ({'max_depth': 3, 'min_child_weight': 1}, {'max_depth': 3, 'min_child_weight': 3}, {'max_depth': 3, 'min_child_weight': 5}, {'max_depth': 5, 'min_child_weight': 1}, {'max_depth': 5, 'min_child_weight': 3}, {'max_depth': 5, 'min_child_weight': 5}, {'max_depth': 7, 'min_child_weight': 1}, {'max_depth': 7, 'min_child_weight': 3}, {'max_depth': 7, 'min_child_weight': 5}), 'std_fit_time': array([ 2.17627306,  0.50133247,  1.77701002,  1.00467066,  1.00145327,\n",
      "        0.84860053,  1.19412431,  0.9598495 ,  1.50918345]), 'std_score_time': array([ 0.00141417,  0.0061282 ,  0.01697057,  0.0141971 ,  0.04246047,\n",
      "        0.02425323,  0.00579279,  0.02472973,  0.01224744]), 'split2_test_score': array([ 0.59393517,  0.594458  ,  0.59306379,  0.58208435,  0.58609272,\n",
      "        0.58731265,  0.58208435,  0.58487278,  0.58365284]), 'mean_train_score': array([ 0.6360653 ,  0.63516505,  0.63403241,  0.64553328,  0.64399405,\n",
      "        0.64408116,  0.64599806,  0.64541713,  0.64570753]), 'mean_fit_time': array([ 19.2846667 ,  17.24433343,  15.432     ,  17.89966663,\n",
      "        14.94199999,  12.45533331,  17.32499997,  17.03633332,  10.06100011]), 'param_min_child_weight': masked_array(data = [1 3 5 1 3 5 1 3 5],\n",
      "             mask = [False False False False False False False False False],\n",
      "       fill_value = ?)\n",
      ", 'split1_test_score': array([ 0.58964976,  0.58895278,  0.58999826,  0.57727827,  0.57623279,\n",
      "        0.58093745,  0.57396759,  0.57692978,  0.57867224])}\n"
     ]
    }
   ],
   "source": [
    "# print clf_simple.cv_results_\n",
    "print clf_simple.cv_results_"
   ]
  },
  {
   "cell_type": "code",
   "execution_count": 7,
   "metadata": {
    "collapsed": false
   },
   "outputs": [
    {
     "name": "stdout",
     "output_type": "stream",
     "text": [
      "0.586959085014\n"
     ]
    }
   ],
   "source": [
    "print clf_simple.score(X_test_simple, y_test)"
   ]
  },
  {
   "cell_type": "code",
   "execution_count": null,
   "metadata": {
    "collapsed": false
   },
   "outputs": [],
   "source": [
    "import xgboost as xgb\n",
    "from sklearn.model_selection import GridSearchCV\n",
    "\n",
    "cv_params = {'max_depth': [3,5,7], 'min_child_weight': [1,3,5]}\n",
    "ind_params = {'learning_rate': 0.1, 'n_estimators': 1000, 'seed':0, 'subsample': 0.8, 'colsample_bytree': 0.8, \n",
    "             'objective': 'binary:logistic'}\n",
    "\n",
    "clf = GridSearchCV(\n",
    "    xgb.XGBClassifier(**ind_params),\n",
    "    cv_params,\n",
    "    scoring = 'accuracy', cv=3, n_jobs=-1\n",
    ")\n",
    "\n",
    "\n",
    "clf.fit(X_train, y_train)\n",
    "\n",
    "print \"Done\" # Takes awhile to run..."
   ]
  },
  {
   "cell_type": "code",
   "execution_count": null,
   "metadata": {
    "collapsed": false,
    "scrolled": false
   },
   "outputs": [],
   "source": [
    "print clf.cv_results_"
   ]
  },
  {
   "cell_type": "code",
   "execution_count": null,
   "metadata": {
    "collapsed": false
   },
   "outputs": [],
   "source": [
    "print clf.score(X_test, y_test)"
   ]
  },
  {
   "cell_type": "code",
   "execution_count": 5,
   "metadata": {
    "collapsed": false
   },
   "outputs": [
    {
     "name": "stdout",
     "output_type": "stream",
     "text": [
      "3403\n",
      "8481\n"
     ]
    }
   ],
   "source": [
    "misses_simple = np.where(y_test != predictions_simple)\n",
    "print len(misses_simple[0])\n",
    "print len(y_test)"
   ]
  },
  {
   "cell_type": "code",
   "execution_count": null,
   "metadata": {
    "collapsed": true
   },
   "outputs": [],
   "source": []
  }
 ],
 "metadata": {
  "anaconda-cloud": {},
  "kernelspec": {
   "display_name": "Python [Root]",
   "language": "python",
   "name": "Python [Root]"
  },
  "language_info": {
   "codemirror_mode": {
    "name": "ipython",
    "version": 2
   },
   "file_extension": ".py",
   "mimetype": "text/x-python",
   "name": "python",
   "nbconvert_exporter": "python",
   "pygments_lexer": "ipython2",
   "version": "2.7.12"
  }
 },
 "nbformat": 4,
 "nbformat_minor": 1
}
