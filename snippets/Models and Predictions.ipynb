{
 "cells": [
  {
   "cell_type": "code",
   "execution_count": 1,
   "metadata": {
    "collapsed": false
   },
   "outputs": [
    {
     "name": "stdout",
     "output_type": "stream",
     "text": [
      "(25697, 13)\n",
      "Index([u'season', u'Opponent DRtg/A', u'shot_distance', u'left_side',\n",
      "       u'middle', u'right_side', u'moving', u'playoffs', u'home', u'segababa',\n",
      "       u'Dunk or Layup', u'shot_made_flag', u'total_seconds_remaining'],\n",
      "      dtype='object')\n"
     ]
    },
    {
     "data": {
      "text/html": [
       "<div>\n",
       "<table border=\"1\" class=\"dataframe\">\n",
       "  <thead>\n",
       "    <tr style=\"text-align: right;\">\n",
       "      <th></th>\n",
       "      <th>season</th>\n",
       "      <th>Opponent DRtg/A</th>\n",
       "      <th>shot_distance</th>\n",
       "      <th>left_side</th>\n",
       "      <th>middle</th>\n",
       "      <th>right_side</th>\n",
       "      <th>moving</th>\n",
       "      <th>playoffs</th>\n",
       "      <th>home</th>\n",
       "      <th>segababa</th>\n",
       "      <th>Dunk or Layup</th>\n",
       "      <th>shot_made_flag</th>\n",
       "      <th>total_seconds_remaining</th>\n",
       "    </tr>\n",
       "  </thead>\n",
       "  <tbody>\n",
       "    <tr>\n",
       "      <th>0</th>\n",
       "      <td>1</td>\n",
       "      <td>108.06</td>\n",
       "      <td>256.0</td>\n",
       "      <td>0</td>\n",
       "      <td>0</td>\n",
       "      <td>1</td>\n",
       "      <td>0</td>\n",
       "      <td>0</td>\n",
       "      <td>1</td>\n",
       "      <td>0</td>\n",
       "      <td>0</td>\n",
       "      <td>0.0</td>\n",
       "      <td>2202</td>\n",
       "    </tr>\n",
       "    <tr>\n",
       "      <th>1</th>\n",
       "      <td>1</td>\n",
       "      <td>101.68</td>\n",
       "      <td>228.0</td>\n",
       "      <td>0</td>\n",
       "      <td>0</td>\n",
       "      <td>1</td>\n",
       "      <td>0</td>\n",
       "      <td>0</td>\n",
       "      <td>0</td>\n",
       "      <td>0</td>\n",
       "      <td>0</td>\n",
       "      <td>0.0</td>\n",
       "      <td>2048</td>\n",
       "    </tr>\n",
       "    <tr>\n",
       "      <th>2</th>\n",
       "      <td>1</td>\n",
       "      <td>109.65</td>\n",
       "      <td>323.0</td>\n",
       "      <td>0</td>\n",
       "      <td>0</td>\n",
       "      <td>1</td>\n",
       "      <td>0</td>\n",
       "      <td>0</td>\n",
       "      <td>0</td>\n",
       "      <td>1</td>\n",
       "      <td>0</td>\n",
       "      <td>1.0</td>\n",
       "      <td>1957</td>\n",
       "    </tr>\n",
       "    <tr>\n",
       "      <th>3</th>\n",
       "      <td>1</td>\n",
       "      <td>109.65</td>\n",
       "      <td>0.0</td>\n",
       "      <td>0</td>\n",
       "      <td>1</td>\n",
       "      <td>0</td>\n",
       "      <td>0</td>\n",
       "      <td>0</td>\n",
       "      <td>0</td>\n",
       "      <td>1</td>\n",
       "      <td>0</td>\n",
       "      <td>0.0</td>\n",
       "      <td>1834</td>\n",
       "    </tr>\n",
       "    <tr>\n",
       "      <th>4</th>\n",
       "      <td>1</td>\n",
       "      <td>109.65</td>\n",
       "      <td>148.0</td>\n",
       "      <td>0</td>\n",
       "      <td>1</td>\n",
       "      <td>0</td>\n",
       "      <td>0</td>\n",
       "      <td>0</td>\n",
       "      <td>0</td>\n",
       "      <td>1</td>\n",
       "      <td>0</td>\n",
       "      <td>1.0</td>\n",
       "      <td>1767</td>\n",
       "    </tr>\n",
       "  </tbody>\n",
       "</table>\n",
       "</div>"
      ],
      "text/plain": [
       "   season  Opponent DRtg/A  shot_distance  left_side  middle  right_side  \\\n",
       "0       1           108.06          256.0          0       0           1   \n",
       "1       1           101.68          228.0          0       0           1   \n",
       "2       1           109.65          323.0          0       0           1   \n",
       "3       1           109.65            0.0          0       1           0   \n",
       "4       1           109.65          148.0          0       1           0   \n",
       "\n",
       "   moving  playoffs  home  segababa  Dunk or Layup  shot_made_flag  \\\n",
       "0       0         0     1         0              0             0.0   \n",
       "1       0         0     0         0              0             0.0   \n",
       "2       0         0     0         1              0             1.0   \n",
       "3       0         0     0         1              0             0.0   \n",
       "4       0         0     0         1              0             1.0   \n",
       "\n",
       "   total_seconds_remaining  \n",
       "0                     2202  \n",
       "1                     2048  \n",
       "2                     1957  \n",
       "3                     1834  \n",
       "4                     1767  "
      ]
     },
     "execution_count": 1,
     "metadata": {},
     "output_type": "execute_result"
    }
   ],
   "source": [
    "import pandas as pd\n",
    "import numpy as np\n",
    "from sklearn.model_selection import train_test_split\n",
    "\n",
    "# Not sure where the unnamed column came from but just drop it\n",
    "df = pd.read_csv('../data/processed_data.csv').drop(u'Unnamed: 0', axis=1) \n",
    "nan_indices = pd.isnull(df).any(1).nonzero()[0]\n",
    "df = df.dropna()\n",
    "print(df.shape)\n",
    "print(df.columns)\n",
    "df.head()"
   ]
  },
  {
   "cell_type": "code",
   "execution_count": 11,
   "metadata": {
    "collapsed": false,
    "scrolled": true
   },
   "outputs": [
    {
     "name": "stdout",
     "output_type": "stream",
     "text": [
      "(5000, 14)\n"
     ]
    },
    {
     "data": {
      "text/html": [
       "<div>\n",
       "<table border=\"1\" class=\"dataframe\">\n",
       "  <thead>\n",
       "    <tr style=\"text-align: right;\">\n",
       "      <th></th>\n",
       "      <th>shot_id</th>\n",
       "      <th>season</th>\n",
       "      <th>Opponent DRtg/A</th>\n",
       "      <th>shot_distance</th>\n",
       "      <th>left_side</th>\n",
       "      <th>middle</th>\n",
       "      <th>right_side</th>\n",
       "      <th>moving</th>\n",
       "      <th>playoffs</th>\n",
       "      <th>home</th>\n",
       "      <th>segababa</th>\n",
       "      <th>Dunk or Layup</th>\n",
       "      <th>shot_made_flag</th>\n",
       "      <th>total_seconds_remaining</th>\n",
       "    </tr>\n",
       "  </thead>\n",
       "  <tbody>\n",
       "    <tr>\n",
       "      <th>0</th>\n",
       "      <td>22907</td>\n",
       "      <td>1</td>\n",
       "      <td>108.57</td>\n",
       "      <td>102.0</td>\n",
       "      <td>0</td>\n",
       "      <td>1</td>\n",
       "      <td>0</td>\n",
       "      <td>0</td>\n",
       "      <td>0</td>\n",
       "      <td>0</td>\n",
       "      <td>0</td>\n",
       "      <td>0</td>\n",
       "      <td>NaN</td>\n",
       "      <td>1878</td>\n",
       "    </tr>\n",
       "    <tr>\n",
       "      <th>1</th>\n",
       "      <td>22909</td>\n",
       "      <td>1</td>\n",
       "      <td>108.57</td>\n",
       "      <td>0.0</td>\n",
       "      <td>0</td>\n",
       "      <td>1</td>\n",
       "      <td>0</td>\n",
       "      <td>0</td>\n",
       "      <td>0</td>\n",
       "      <td>0</td>\n",
       "      <td>0</td>\n",
       "      <td>1</td>\n",
       "      <td>NaN</td>\n",
       "      <td>925</td>\n",
       "    </tr>\n",
       "    <tr>\n",
       "      <th>2</th>\n",
       "      <td>22927</td>\n",
       "      <td>1</td>\n",
       "      <td>109.44</td>\n",
       "      <td>256.0</td>\n",
       "      <td>0</td>\n",
       "      <td>0</td>\n",
       "      <td>1</td>\n",
       "      <td>0</td>\n",
       "      <td>0</td>\n",
       "      <td>0</td>\n",
       "      <td>0</td>\n",
       "      <td>0</td>\n",
       "      <td>NaN</td>\n",
       "      <td>1811</td>\n",
       "    </tr>\n",
       "    <tr>\n",
       "      <th>3</th>\n",
       "      <td>22926</td>\n",
       "      <td>1</td>\n",
       "      <td>109.44</td>\n",
       "      <td>15.0</td>\n",
       "      <td>1</td>\n",
       "      <td>0</td>\n",
       "      <td>0</td>\n",
       "      <td>0</td>\n",
       "      <td>0</td>\n",
       "      <td>0</td>\n",
       "      <td>0</td>\n",
       "      <td>0</td>\n",
       "      <td>NaN</td>\n",
       "      <td>1860</td>\n",
       "    </tr>\n",
       "    <tr>\n",
       "      <th>4</th>\n",
       "      <td>22930</td>\n",
       "      <td>1</td>\n",
       "      <td>109.44</td>\n",
       "      <td>250.0</td>\n",
       "      <td>0</td>\n",
       "      <td>1</td>\n",
       "      <td>0</td>\n",
       "      <td>0</td>\n",
       "      <td>0</td>\n",
       "      <td>0</td>\n",
       "      <td>0</td>\n",
       "      <td>0</td>\n",
       "      <td>NaN</td>\n",
       "      <td>1538</td>\n",
       "    </tr>\n",
       "  </tbody>\n",
       "</table>\n",
       "</div>"
      ],
      "text/plain": [
       "   shot_id  season  Opponent DRtg/A  shot_distance  left_side  middle  \\\n",
       "0    22907       1           108.57          102.0          0       1   \n",
       "1    22909       1           108.57            0.0          0       1   \n",
       "2    22927       1           109.44          256.0          0       0   \n",
       "3    22926       1           109.44           15.0          1       0   \n",
       "4    22930       1           109.44          250.0          0       1   \n",
       "\n",
       "   right_side  moving  playoffs  home  segababa  Dunk or Layup  \\\n",
       "0           0       0         0     0         0              0   \n",
       "1           0       0         0     0         0              1   \n",
       "2           1       0         0     0         0              0   \n",
       "3           0       0         0     0         0              0   \n",
       "4           0       0         0     0         0              0   \n",
       "\n",
       "   shot_made_flag  total_seconds_remaining  \n",
       "0             NaN                     1878  \n",
       "1             NaN                      925  \n",
       "2             NaN                     1811  \n",
       "3             NaN                     1860  \n",
       "4             NaN                     1538  "
      ]
     },
     "execution_count": 11,
     "metadata": {},
     "output_type": "execute_result"
    }
   ],
   "source": [
    "df_submit = pd.read_csv('../data/submit_data.csv').drop(u'Unnamed: 0', axis=1)\n",
    "print df_submit.shape\n",
    "df_submit.head()"
   ]
  },
  {
   "cell_type": "code",
   "execution_count": 3,
   "metadata": {
    "collapsed": false
   },
   "outputs": [],
   "source": [
    "y = df['shot_made_flag']\n",
    "X = df.drop('shot_made_flag', axis=1)\n",
    "\n",
    "X_train, X_test, y_train, y_test = train_test_split(X, y, test_size=0.33, random_state=42)"
   ]
  },
  {
   "cell_type": "markdown",
   "metadata": {},
   "source": [
    "## XGBoost"
   ]
  },
  {
   "cell_type": "code",
   "execution_count": 4,
   "metadata": {
    "collapsed": false
   },
   "outputs": [
    {
     "name": "stdout",
     "output_type": "stream",
     "text": [
      "Done\n"
     ]
    }
   ],
   "source": [
    "import xgboost as xgb\n",
    "from sklearn.model_selection import GridSearchCV\n",
    "\n",
    "cv_params = {'max_depth': [3,5,7], 'min_child_weight': [1,3,5]}\n",
    "ind_params = {'learning_rate': 0.1, 'n_estimators': 1000, 'seed':0, 'subsample': 0.8, 'colsample_bytree': 0.8, \n",
    "             'objective': 'binary:logistic'}\n",
    "\n",
    "clf = GridSearchCV(\n",
    "    xgb.XGBClassifier(**ind_params),\n",
    "    cv_params,\n",
    "    scoring = 'neg_log_loss', \n",
    "    cv=3, n_jobs=-1\n",
    ")\n",
    "\n",
    "\n",
    "clf.fit(X_train, y_train)\n",
    "\n",
    "print \"Done\" # Takes awhile to run...\n"
   ]
  },
  {
   "cell_type": "code",
   "execution_count": 5,
   "metadata": {
    "collapsed": false,
    "scrolled": true
   },
   "outputs": [
    {
     "name": "stdout",
     "output_type": "stream",
     "text": [
      "{'std_train_score': array([ 0.00199417,  0.00238134,  0.00231706,  0.00258923,  0.00263199,\n",
      "        0.00049706,  0.00069928,  0.00107259,  0.00108461]), 'rank_test_score': array([3, 1, 2, 6, 5, 4, 9, 8, 7]), 'mean_score_time': array([ 0.17533334,  0.18666657,  0.14399997,  0.2603333 ,  0.17866659,\n",
      "        0.24299995,  0.41000001,  0.3913335 ,  0.24733329]), 'param_max_depth': masked_array(data = [3 3 3 5 5 5 7 7 7],\n",
      "             mask = [False False False False False False False False False],\n",
      "       fill_value = ?)\n",
      ", 'std_test_score': array([ 0.00394576,  0.0042392 ,  0.00476503,  0.00602323,  0.00725413,\n",
      "        0.00593561,  0.01022372,  0.00821962,  0.00507168]), 'split1_train_score': array([-0.54558466, -0.55257965, -0.55803456, -0.36252589, -0.39651873,\n",
      "       -0.4185962 , -0.17724569, -0.2388517 , -0.28167255]), 'split0_test_score': array([-0.67724567, -0.67567974, -0.67702904, -0.73557658, -0.73223314,\n",
      "       -0.72319202, -0.83005716, -0.81047395, -0.7858409 ]), 'mean_test_score': array([-0.67169274, -0.66974511, -0.67030155, -0.72721803, -0.72198826,\n",
      "       -0.71490943, -0.81700395, -0.79916184, -0.7794311 ]), 'split2_train_score': array([-0.54212253, -0.54934943, -0.55399471, -0.36050669, -0.39226   ,\n",
      "       -0.4174285 , -0.17659896, -0.23922499, -0.2793205 ]), 'split0_train_score': array([-0.5408694 , -0.54675827, -0.5525622 , -0.3563095 , -0.39019764,\n",
      "       -0.41771372, -0.17554873, -0.23678612, -0.28156637]), 'params': ({'max_depth': 3, 'min_child_weight': 1}, {'max_depth': 3, 'min_child_weight': 3}, {'max_depth': 3, 'min_child_weight': 5}, {'max_depth': 5, 'min_child_weight': 1}, {'max_depth': 5, 'min_child_weight': 3}, {'max_depth': 5, 'min_child_weight': 5}, {'max_depth': 7, 'min_child_weight': 1}, {'max_depth': 7, 'min_child_weight': 3}, {'max_depth': 7, 'min_child_weight': 5}), 'std_fit_time': array([ 1.42243624,  2.38045601,  3.18073908,  0.29703578,  6.59067432,\n",
      "        4.9124186 ,  1.35794178,  0.19959023,  3.95840383]), 'std_score_time': array([ 0.01977095,  0.04076214,  0.02299285,  0.03996953,  0.01681936,\n",
      "        0.05678612,  0.09839039,  0.10947547,  0.02379536]), 'split2_test_score': array([-0.66938354, -0.66604727, -0.66661713, -0.72445217, -0.71729751,\n",
      "       -0.71194076, -0.81585613, -0.79581414, -0.77901057]), 'mean_train_score': array([-0.54285886, -0.54956245, -0.55486382, -0.3597807 , -0.39299212,\n",
      "       -0.41791281, -0.17646446, -0.2382876 , -0.28085314]), 'mean_fit_time': array([ 23.38899994,  27.74966677,  28.40300012,  44.33866676,\n",
      "        32.58633335,  33.13633339,  50.14800008,  38.84166654,  28.54733332]), 'param_min_child_weight': masked_array(data = [1 3 5 1 3 5 1 3 5],\n",
      "             mask = [False False False False False False False False False],\n",
      "       fill_value = ?)\n",
      ", 'split1_test_score': array([-0.66844708, -0.66750626, -0.66725613, -0.72162241, -0.71643055,\n",
      "       -0.70959262, -0.805094  , -0.7911935 , -0.77343961])}\n"
     ]
    }
   ],
   "source": [
    "print clf.cv_results_"
   ]
  },
  {
   "cell_type": "code",
   "execution_count": 6,
   "metadata": {
    "collapsed": false
   },
   "outputs": [
    {
     "name": "stderr",
     "output_type": "stream",
     "text": [
      "C:\\Anaconda2\\lib\\site-packages\\sklearn\\metrics\\scorer.py:127: DeprecationWarning: Scoring method log_loss was renamed to neg_log_loss in version 0.18 and will be removed in 0.20.\n",
      "  sample_weight=sample_weight)\n"
     ]
    },
    {
     "name": "stdout",
     "output_type": "stream",
     "text": [
      "-0.660103292689\n"
     ]
    }
   ],
   "source": [
    "print clf.score(X_test, y_test)"
   ]
  },
  {
   "cell_type": "markdown",
   "metadata": {},
   "source": [
    "## Create a submission"
   ]
  },
  {
   "cell_type": "code",
   "execution_count": 25,
   "metadata": {
    "collapsed": false
   },
   "outputs": [
    {
     "data": {
      "text/html": [
       "<div>\n",
       "<table border=\"1\" class=\"dataframe\">\n",
       "  <thead>\n",
       "    <tr style=\"text-align: right;\">\n",
       "      <th></th>\n",
       "      <th>shot_id</th>\n",
       "      <th>shot_made_flag</th>\n",
       "    </tr>\n",
       "  </thead>\n",
       "  <tbody>\n",
       "    <tr>\n",
       "      <th>694</th>\n",
       "      <td>1</td>\n",
       "      <td>0.0</td>\n",
       "    </tr>\n",
       "    <tr>\n",
       "      <th>695</th>\n",
       "      <td>8</td>\n",
       "      <td>0.0</td>\n",
       "    </tr>\n",
       "    <tr>\n",
       "      <th>697</th>\n",
       "      <td>17</td>\n",
       "      <td>1.0</td>\n",
       "    </tr>\n",
       "    <tr>\n",
       "      <th>696</th>\n",
       "      <td>20</td>\n",
       "      <td>1.0</td>\n",
       "    </tr>\n",
       "    <tr>\n",
       "      <th>705</th>\n",
       "      <td>33</td>\n",
       "      <td>0.0</td>\n",
       "    </tr>\n",
       "  </tbody>\n",
       "</table>\n",
       "</div>"
      ],
      "text/plain": [
       "     shot_id  shot_made_flag\n",
       "694        1             0.0\n",
       "695        8             0.0\n",
       "697       17             1.0\n",
       "696       20             1.0\n",
       "705       33             0.0"
      ]
     },
     "execution_count": 25,
     "metadata": {},
     "output_type": "execute_result"
    }
   ],
   "source": [
    "X_submit = df_submit.drop(['shot_id', 'shot_made_flag'], axis=1)\n",
    "predictions = clf.predict(X_submit)\n",
    "submission = pd.DataFrame()\n",
    "submission[\"shot_id\"] = df_submit['shot_id']\n",
    "submission[\"shot_made_flag\"] = predictions\n",
    "submission = submission.sort_values(['shot_id'], ascending=True)\n",
    "submission.head()"
   ]
  },
  {
   "cell_type": "code",
   "execution_count": 26,
   "metadata": {
    "collapsed": false
   },
   "outputs": [
    {
     "data": {
      "text/plain": [
       "(5000, 2)"
      ]
     },
     "execution_count": 26,
     "metadata": {},
     "output_type": "execute_result"
    }
   ],
   "source": [
    "submission.shape"
   ]
  },
  {
   "cell_type": "code",
   "execution_count": 27,
   "metadata": {
    "collapsed": false
   },
   "outputs": [],
   "source": [
    "submission.to_csv(\"../data/submission_XGBoost.csv\",index=False)"
   ]
  },
  {
   "cell_type": "code",
   "execution_count": null,
   "metadata": {
    "collapsed": true
   },
   "outputs": [],
   "source": []
  }
 ],
 "metadata": {
  "anaconda-cloud": {},
  "kernelspec": {
   "display_name": "Python [Root]",
   "language": "python",
   "name": "Python [Root]"
  },
  "language_info": {
   "codemirror_mode": {
    "name": "ipython",
    "version": 2
   },
   "file_extension": ".py",
   "mimetype": "text/x-python",
   "name": "python",
   "nbconvert_exporter": "python",
   "pygments_lexer": "ipython2",
   "version": "2.7.12"
  }
 },
 "nbformat": 4,
 "nbformat_minor": 1
}
