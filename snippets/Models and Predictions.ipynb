{
 "cells": [
  {
   "cell_type": "code",
   "execution_count": 51,
   "metadata": {
    "collapsed": false
   },
   "outputs": [
    {
     "name": "stdout",
     "output_type": "stream",
     "text": [
      "(25697, 13)\n",
      "Index([u'season', u'Opponent DRtg/A', u'shot_distance', u'left_side',\n",
      "       u'middle', u'right_side', u'moving', u'playoffs', u'home', u'segababa',\n",
      "       u'Dunk or Layup', u'shot_made_flag', u'total_seconds_remaining'],\n",
      "      dtype='object')\n"
     ]
    },
    {
     "data": {
      "text/html": [
       "<div>\n",
       "<table border=\"1\" class=\"dataframe\">\n",
       "  <thead>\n",
       "    <tr style=\"text-align: right;\">\n",
       "      <th></th>\n",
       "      <th>season</th>\n",
       "      <th>Opponent DRtg/A</th>\n",
       "      <th>shot_distance</th>\n",
       "      <th>left_side</th>\n",
       "      <th>middle</th>\n",
       "      <th>right_side</th>\n",
       "      <th>moving</th>\n",
       "      <th>playoffs</th>\n",
       "      <th>home</th>\n",
       "      <th>segababa</th>\n",
       "      <th>Dunk or Layup</th>\n",
       "      <th>shot_made_flag</th>\n",
       "      <th>total_seconds_remaining</th>\n",
       "    </tr>\n",
       "  </thead>\n",
       "  <tbody>\n",
       "    <tr>\n",
       "      <th>0</th>\n",
       "      <td>1</td>\n",
       "      <td>108.06</td>\n",
       "      <td>256.0</td>\n",
       "      <td>0</td>\n",
       "      <td>0</td>\n",
       "      <td>1</td>\n",
       "      <td>0</td>\n",
       "      <td>0</td>\n",
       "      <td>1</td>\n",
       "      <td>0</td>\n",
       "      <td>0</td>\n",
       "      <td>0.0</td>\n",
       "      <td>2202</td>\n",
       "    </tr>\n",
       "    <tr>\n",
       "      <th>1</th>\n",
       "      <td>1</td>\n",
       "      <td>101.68</td>\n",
       "      <td>228.0</td>\n",
       "      <td>0</td>\n",
       "      <td>0</td>\n",
       "      <td>1</td>\n",
       "      <td>0</td>\n",
       "      <td>0</td>\n",
       "      <td>0</td>\n",
       "      <td>0</td>\n",
       "      <td>0</td>\n",
       "      <td>0.0</td>\n",
       "      <td>2048</td>\n",
       "    </tr>\n",
       "    <tr>\n",
       "      <th>2</th>\n",
       "      <td>1</td>\n",
       "      <td>109.65</td>\n",
       "      <td>323.0</td>\n",
       "      <td>0</td>\n",
       "      <td>0</td>\n",
       "      <td>1</td>\n",
       "      <td>0</td>\n",
       "      <td>0</td>\n",
       "      <td>0</td>\n",
       "      <td>1</td>\n",
       "      <td>0</td>\n",
       "      <td>1.0</td>\n",
       "      <td>1957</td>\n",
       "    </tr>\n",
       "    <tr>\n",
       "      <th>3</th>\n",
       "      <td>1</td>\n",
       "      <td>109.65</td>\n",
       "      <td>0.0</td>\n",
       "      <td>0</td>\n",
       "      <td>1</td>\n",
       "      <td>0</td>\n",
       "      <td>0</td>\n",
       "      <td>0</td>\n",
       "      <td>0</td>\n",
       "      <td>1</td>\n",
       "      <td>0</td>\n",
       "      <td>0.0</td>\n",
       "      <td>1834</td>\n",
       "    </tr>\n",
       "    <tr>\n",
       "      <th>4</th>\n",
       "      <td>1</td>\n",
       "      <td>109.65</td>\n",
       "      <td>148.0</td>\n",
       "      <td>0</td>\n",
       "      <td>1</td>\n",
       "      <td>0</td>\n",
       "      <td>0</td>\n",
       "      <td>0</td>\n",
       "      <td>0</td>\n",
       "      <td>1</td>\n",
       "      <td>0</td>\n",
       "      <td>1.0</td>\n",
       "      <td>1767</td>\n",
       "    </tr>\n",
       "  </tbody>\n",
       "</table>\n",
       "</div>"
      ],
      "text/plain": [
       "   season  Opponent DRtg/A  shot_distance  left_side  middle  right_side  \\\n",
       "0       1           108.06          256.0          0       0           1   \n",
       "1       1           101.68          228.0          0       0           1   \n",
       "2       1           109.65          323.0          0       0           1   \n",
       "3       1           109.65            0.0          0       1           0   \n",
       "4       1           109.65          148.0          0       1           0   \n",
       "\n",
       "   moving  playoffs  home  segababa  Dunk or Layup  shot_made_flag  \\\n",
       "0       0         0     1         0              0             0.0   \n",
       "1       0         0     0         0              0             0.0   \n",
       "2       0         0     0         1              0             1.0   \n",
       "3       0         0     0         1              0             0.0   \n",
       "4       0         0     0         1              0             1.0   \n",
       "\n",
       "   total_seconds_remaining  \n",
       "0                     2202  \n",
       "1                     2048  \n",
       "2                     1957  \n",
       "3                     1834  \n",
       "4                     1767  "
      ]
     },
     "execution_count": 51,
     "metadata": {},
     "output_type": "execute_result"
    }
   ],
   "source": [
    "import pandas as pd\n",
    "import numpy as np\n",
    "from sklearn.model_selection import train_test_split\n",
    "\n",
    "# Not sure where the unnamed column came from but just drop it\n",
    "df = pd.read_csv('../data/processed_data.csv').drop(u'Unnamed: 0', axis=1) \n",
    "nan_indices = pd.isnull(df).any(1).nonzero()[0]\n",
    "df_test = df.iloc[nan_indices]\n",
    "df = df.dropna()\n",
    "print(df.shape)\n",
    "print(df.columns)\n",
    "df.head()"
   ]
  },
  {
   "cell_type": "code",
   "execution_count": 52,
   "metadata": {
    "collapsed": false
   },
   "outputs": [
    {
     "name": "stdout",
     "output_type": "stream",
     "text": [
      "(5000, 13)\n"
     ]
    },
    {
     "data": {
      "text/html": [
       "<div>\n",
       "<table border=\"1\" class=\"dataframe\">\n",
       "  <thead>\n",
       "    <tr style=\"text-align: right;\">\n",
       "      <th></th>\n",
       "      <th>season</th>\n",
       "      <th>Opponent DRtg/A</th>\n",
       "      <th>shot_distance</th>\n",
       "      <th>left_side</th>\n",
       "      <th>middle</th>\n",
       "      <th>right_side</th>\n",
       "      <th>moving</th>\n",
       "      <th>playoffs</th>\n",
       "      <th>home</th>\n",
       "      <th>segababa</th>\n",
       "      <th>Dunk or Layup</th>\n",
       "      <th>shot_made_flag</th>\n",
       "      <th>total_seconds_remaining</th>\n",
       "    </tr>\n",
       "  </thead>\n",
       "  <tbody>\n",
       "    <tr>\n",
       "      <th>5</th>\n",
       "      <td>1</td>\n",
       "      <td>108.57</td>\n",
       "      <td>102.0</td>\n",
       "      <td>0</td>\n",
       "      <td>1</td>\n",
       "      <td>0</td>\n",
       "      <td>0</td>\n",
       "      <td>0</td>\n",
       "      <td>0</td>\n",
       "      <td>0</td>\n",
       "      <td>0</td>\n",
       "      <td>NaN</td>\n",
       "      <td>1878</td>\n",
       "    </tr>\n",
       "    <tr>\n",
       "      <th>7</th>\n",
       "      <td>1</td>\n",
       "      <td>108.57</td>\n",
       "      <td>0.0</td>\n",
       "      <td>0</td>\n",
       "      <td>1</td>\n",
       "      <td>0</td>\n",
       "      <td>0</td>\n",
       "      <td>0</td>\n",
       "      <td>0</td>\n",
       "      <td>0</td>\n",
       "      <td>1</td>\n",
       "      <td>NaN</td>\n",
       "      <td>925</td>\n",
       "    </tr>\n",
       "    <tr>\n",
       "      <th>28</th>\n",
       "      <td>1</td>\n",
       "      <td>109.44</td>\n",
       "      <td>256.0</td>\n",
       "      <td>0</td>\n",
       "      <td>0</td>\n",
       "      <td>1</td>\n",
       "      <td>0</td>\n",
       "      <td>0</td>\n",
       "      <td>0</td>\n",
       "      <td>0</td>\n",
       "      <td>0</td>\n",
       "      <td>NaN</td>\n",
       "      <td>1811</td>\n",
       "    </tr>\n",
       "    <tr>\n",
       "      <th>29</th>\n",
       "      <td>1</td>\n",
       "      <td>109.44</td>\n",
       "      <td>15.0</td>\n",
       "      <td>1</td>\n",
       "      <td>0</td>\n",
       "      <td>0</td>\n",
       "      <td>0</td>\n",
       "      <td>0</td>\n",
       "      <td>0</td>\n",
       "      <td>0</td>\n",
       "      <td>0</td>\n",
       "      <td>NaN</td>\n",
       "      <td>1860</td>\n",
       "    </tr>\n",
       "    <tr>\n",
       "      <th>30</th>\n",
       "      <td>1</td>\n",
       "      <td>109.44</td>\n",
       "      <td>250.0</td>\n",
       "      <td>0</td>\n",
       "      <td>1</td>\n",
       "      <td>0</td>\n",
       "      <td>0</td>\n",
       "      <td>0</td>\n",
       "      <td>0</td>\n",
       "      <td>0</td>\n",
       "      <td>0</td>\n",
       "      <td>NaN</td>\n",
       "      <td>1538</td>\n",
       "    </tr>\n",
       "  </tbody>\n",
       "</table>\n",
       "</div>"
      ],
      "text/plain": [
       "    season  Opponent DRtg/A  shot_distance  left_side  middle  right_side  \\\n",
       "5        1           108.57          102.0          0       1           0   \n",
       "7        1           108.57            0.0          0       1           0   \n",
       "28       1           109.44          256.0          0       0           1   \n",
       "29       1           109.44           15.0          1       0           0   \n",
       "30       1           109.44          250.0          0       1           0   \n",
       "\n",
       "    moving  playoffs  home  segababa  Dunk or Layup  shot_made_flag  \\\n",
       "5        0         0     0         0              0             NaN   \n",
       "7        0         0     0         0              1             NaN   \n",
       "28       0         0     0         0              0             NaN   \n",
       "29       0         0     0         0              0             NaN   \n",
       "30       0         0     0         0              0             NaN   \n",
       "\n",
       "    total_seconds_remaining  \n",
       "5                      1878  \n",
       "7                       925  \n",
       "28                     1811  \n",
       "29                     1860  \n",
       "30                     1538  "
      ]
     },
     "execution_count": 52,
     "metadata": {},
     "output_type": "execute_result"
    }
   ],
   "source": [
    "print (df_test.shape)\n",
    "df_test.head()"
   ]
  },
  {
   "cell_type": "code",
   "execution_count": 53,
   "metadata": {
    "collapsed": false
   },
   "outputs": [],
   "source": [
    "y = df['shot_made_flag']\n",
    "X = df.drop('shot_made_flag', axis=1)\n",
    "\n",
    "X_train, X_test, y_train, y_test = train_test_split(X, y, test_size=0.33, random_state=42)"
   ]
  },
  {
   "cell_type": "markdown",
   "metadata": {},
   "source": [
    "## XGBoost"
   ]
  },
  {
   "cell_type": "code",
   "execution_count": 54,
   "metadata": {
    "collapsed": false
   },
   "outputs": [
    {
     "name": "stdout",
     "output_type": "stream",
     "text": [
      "Done\n"
     ]
    }
   ],
   "source": [
    "import xgboost as xgb\n",
    "from sklearn.model_selection import GridSearchCV\n",
    "\n",
    "cv_params = {'max_depth': [3,5,7], 'min_child_weight': [1,3,5]}\n",
    "ind_params = {'learning_rate': 0.1, 'n_estimators': 1000, 'seed':0, 'subsample': 0.8, 'colsample_bytree': 0.8, \n",
    "             'objective': 'binary:logistic'}\n",
    "\n",
    "clf = GridSearchCV(\n",
    "    xgb.XGBClassifier(**ind_params),\n",
    "    cv_params,\n",
    "    scoring = 'roc_auc', \n",
    "    cv=3, n_jobs=-1\n",
    ")\n",
    "\n",
    "\n",
    "clf.fit(X_train, y_train)\n",
    "\n",
    "print \"Done\" # Takes awhile to run...\n"
   ]
  },
  {
   "cell_type": "code",
   "execution_count": 57,
   "metadata": {
    "collapsed": false,
    "scrolled": true
   },
   "outputs": [
    {
     "name": "stdout",
     "output_type": "stream",
     "text": [
      "{'std_train_score': array([  2.39661575e-03,   2.49559953e-03,   2.65139887e-03,\n",
      "         5.15427059e-04,   1.03227103e-03,   1.73685822e-03,\n",
      "         2.30255684e-05,   1.59537277e-04,   4.15303558e-04]), 'rank_test_score': array([3, 1, 2, 6, 5, 4, 7, 9, 8]), 'mean_score_time': array([ 0.05399998,  0.06699999,  0.06233335,  0.11199999,  0.0916667 ,\n",
      "        0.10666664,  0.12100005,  0.11533324,  0.10466671]), 'param_max_depth': masked_array(data = [3 3 3 5 5 5 7 7 7],\n",
      "             mask = [False False False False False False False False False],\n",
      "       fill_value = ?)\n",
      ", 'std_test_score': array([ 0.0055517 ,  0.00590843,  0.00664525,  0.00516236,  0.00589692,\n",
      "        0.00507251,  0.00178153,  0.00246877,  0.00127594]), 'split1_train_score': array([ 0.82064181,  0.80997208,  0.8024155 ,  0.96960261,  0.95040367,\n",
      "        0.9343317 ,  0.99981443,  0.99692743,  0.99014466]), 'split0_test_score': array([ 0.60833727,  0.6103696 ,  0.60761276,  0.5924181 ,  0.59192513,\n",
      "        0.59631028,  0.59204376,  0.59061467,  0.59353328]), 'mean_test_score': array([ 0.61555463,  0.61790248,  0.61653865,  0.59960322,  0.59974018,\n",
      "        0.60264598,  0.59411737,  0.59357023,  0.59408942]), 'split2_train_score': array([ 0.82634751,  0.81595835,  0.80890416,  0.9708016 ,  0.95290792,\n",
      "        0.93674339,  0.99977005,  0.99653759,  0.99095976]), 'split0_train_score': array([ 0.82229853,  0.81403737,  0.80541982,  0.9705446 ,  0.95135301,\n",
      "        0.93250227,  0.99976209,  0.99670894,  0.99002509]), 'params': ({'max_depth': 3, 'min_child_weight': 1}, {'max_depth': 3, 'min_child_weight': 3}, {'max_depth': 3, 'min_child_weight': 5}, {'max_depth': 5, 'min_child_weight': 1}, {'max_depth': 5, 'min_child_weight': 3}, {'max_depth': 5, 'min_child_weight': 5}, {'max_depth': 7, 'min_child_weight': 1}, {'max_depth': 7, 'min_child_weight': 3}, {'max_depth': 7, 'min_child_weight': 5}), 'std_fit_time': array([ 0.74757127,  0.16882146,  1.07091378,  0.25795738,  0.40561155,\n",
      "        0.35366306,  0.10357929,  0.05845991,  3.27153483]), 'std_score_time': array([ 0.00141422,  0.00748326,  0.00694423,  0.01471961,  0.0075865 ,\n",
      "        0.00684761,  0.00787395,  0.00478429,  0.00740868]), 'split2_test_score': array([ 0.6218388 ,  0.62479952,  0.62354583,  0.60431153,  0.60616679,\n",
      "        0.60872702,  0.5939156 ,  0.59665747,  0.59585428]), 'mean_train_score': array([ 0.82309595,  0.8133226 ,  0.80557983,  0.97031627,  0.95155487,\n",
      "        0.93452579,  0.99978219,  0.99672465,  0.9903765 ]), 'mean_fit_time': array([  7.02633333,   7.4570001 ,   8.23166664,  15.31899993,\n",
      "        12.82300003,  11.60666672,  16.83900007,  16.35966674,  11.65866669]), 'param_min_child_weight': masked_array(data = [1 3 5 1 3 5 1 3 5],\n",
      "             mask = [False False False False False False False False False],\n",
      "       fill_value = ?)\n",
      ", 'split1_test_score': array([ 0.61649032,  0.61854094,  0.61846049,  0.60208253,  0.60113134,\n",
      "        0.60290283,  0.59639347,  0.59343958,  0.59288088])}\n"
     ]
    }
   ],
   "source": [
    "print clf.cv_results_"
   ]
  },
  {
   "cell_type": "code",
   "execution_count": 58,
   "metadata": {
    "collapsed": false
   },
   "outputs": [
    {
     "name": "stdout",
     "output_type": "stream",
     "text": [
      "0.628303948302\n"
     ]
    }
   ],
   "source": [
    "print clf.score(X_test, y_test)"
   ]
  },
  {
   "cell_type": "code",
   "execution_count": null,
   "metadata": {
    "collapsed": true
   },
   "outputs": [],
   "source": []
  }
 ],
 "metadata": {
  "anaconda-cloud": {},
  "kernelspec": {
   "display_name": "Python [conda root]",
   "language": "python",
   "name": "conda-root-py"
  },
  "language_info": {
   "codemirror_mode": {
    "name": "ipython",
    "version": 2
   },
   "file_extension": ".py",
   "mimetype": "text/x-python",
   "name": "python",
   "nbconvert_exporter": "python",
   "pygments_lexer": "ipython2",
   "version": "2.7.12"
  }
 },
 "nbformat": 4,
 "nbformat_minor": 1
}
