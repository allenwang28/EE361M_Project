{
 "cells": [
  {
   "cell_type": "code",
   "execution_count": 20,
   "metadata": {
    "collapsed": false,
    "scrolled": false
   },
   "outputs": [
    {
     "name": "stdout",
     "output_type": "stream",
     "text": [
      "(30697, 25)\n",
      "Index([u'action_type', u'combined_shot_type', u'game_event_id', u'game_id',\n",
      "       u'lat', u'loc_x', u'loc_y', u'lon', u'minutes_remaining', u'period',\n",
      "       u'playoffs', u'season', u'seconds_remaining', u'shot_distance',\n",
      "       u'shot_made_flag', u'shot_type', u'shot_zone_area', u'shot_zone_basic',\n",
      "       u'shot_zone_range', u'team_id', u'team_name', u'game_date', u'matchup',\n",
      "       u'opponent', u'shot_id'],\n",
      "      dtype='object')\n"
     ]
    }
   ],
   "source": [
    "import pandas as pd\n",
    "import numpy as np\n",
    "import pickle\n",
    "from sklearn.model_selection import train_test_split\n",
    "\n",
    "df = pd.read_csv('../data/data.csv')\n",
    "\n",
    "defensive_stats = []\n",
    "with open('../data/defensive_ratings_adjusted.pkl' ,'rb') as pkl_file:\n",
    "    defensive_stats = pickle.load(pkl_file)\n",
    "\n",
    "print(df.shape)\n",
    "print(df.columns)"
   ]
  },
  {
   "cell_type": "markdown",
   "metadata": {},
   "source": [
    "## Drop some unimportant columns"
   ]
  },
  {
   "cell_type": "code",
   "execution_count": 21,
   "metadata": {
    "collapsed": true
   },
   "outputs": [],
   "source": [
    "drop = ['game_event_id', 'game_id', 'lat', 'lon', 'team_name', 'team_id']\n",
    "df = df.drop(drop, axis=1)"
   ]
  },
  {
   "cell_type": "code",
   "execution_count": 22,
   "metadata": {
    "collapsed": false
   },
   "outputs": [
    {
     "data": {
      "text/html": [
       "<div>\n",
       "<table border=\"1\" class=\"dataframe\">\n",
       "  <thead>\n",
       "    <tr style=\"text-align: right;\">\n",
       "      <th></th>\n",
       "      <th>action_type</th>\n",
       "      <th>combined_shot_type</th>\n",
       "      <th>loc_x</th>\n",
       "      <th>loc_y</th>\n",
       "      <th>minutes_remaining</th>\n",
       "      <th>period</th>\n",
       "      <th>playoffs</th>\n",
       "      <th>season</th>\n",
       "      <th>seconds_remaining</th>\n",
       "      <th>shot_distance</th>\n",
       "      <th>shot_made_flag</th>\n",
       "      <th>shot_type</th>\n",
       "      <th>shot_zone_area</th>\n",
       "      <th>shot_zone_basic</th>\n",
       "      <th>shot_zone_range</th>\n",
       "      <th>game_date</th>\n",
       "      <th>matchup</th>\n",
       "      <th>opponent</th>\n",
       "      <th>shot_id</th>\n",
       "    </tr>\n",
       "  </thead>\n",
       "  <tbody>\n",
       "    <tr>\n",
       "      <th>0</th>\n",
       "      <td>Jump Shot</td>\n",
       "      <td>Jump Shot</td>\n",
       "      <td>167</td>\n",
       "      <td>72</td>\n",
       "      <td>10</td>\n",
       "      <td>1</td>\n",
       "      <td>0</td>\n",
       "      <td>2000-01</td>\n",
       "      <td>27</td>\n",
       "      <td>18</td>\n",
       "      <td>NaN</td>\n",
       "      <td>2PT Field Goal</td>\n",
       "      <td>Right Side(R)</td>\n",
       "      <td>Mid-Range</td>\n",
       "      <td>16-24 ft.</td>\n",
       "      <td>2000-10-31</td>\n",
       "      <td>LAL @ POR</td>\n",
       "      <td>POR</td>\n",
       "      <td>1</td>\n",
       "    </tr>\n",
       "    <tr>\n",
       "      <th>1</th>\n",
       "      <td>Jump Shot</td>\n",
       "      <td>Jump Shot</td>\n",
       "      <td>-157</td>\n",
       "      <td>0</td>\n",
       "      <td>10</td>\n",
       "      <td>1</td>\n",
       "      <td>0</td>\n",
       "      <td>2000-01</td>\n",
       "      <td>22</td>\n",
       "      <td>15</td>\n",
       "      <td>0.0</td>\n",
       "      <td>2PT Field Goal</td>\n",
       "      <td>Left Side(L)</td>\n",
       "      <td>Mid-Range</td>\n",
       "      <td>8-16 ft.</td>\n",
       "      <td>2000-10-31</td>\n",
       "      <td>LAL @ POR</td>\n",
       "      <td>POR</td>\n",
       "      <td>2</td>\n",
       "    </tr>\n",
       "    <tr>\n",
       "      <th>2</th>\n",
       "      <td>Jump Shot</td>\n",
       "      <td>Jump Shot</td>\n",
       "      <td>-101</td>\n",
       "      <td>135</td>\n",
       "      <td>7</td>\n",
       "      <td>1</td>\n",
       "      <td>0</td>\n",
       "      <td>2000-01</td>\n",
       "      <td>45</td>\n",
       "      <td>16</td>\n",
       "      <td>1.0</td>\n",
       "      <td>2PT Field Goal</td>\n",
       "      <td>Left Side Center(LC)</td>\n",
       "      <td>Mid-Range</td>\n",
       "      <td>16-24 ft.</td>\n",
       "      <td>2000-10-31</td>\n",
       "      <td>LAL @ POR</td>\n",
       "      <td>POR</td>\n",
       "      <td>3</td>\n",
       "    </tr>\n",
       "    <tr>\n",
       "      <th>3</th>\n",
       "      <td>Jump Shot</td>\n",
       "      <td>Jump Shot</td>\n",
       "      <td>138</td>\n",
       "      <td>175</td>\n",
       "      <td>6</td>\n",
       "      <td>1</td>\n",
       "      <td>0</td>\n",
       "      <td>2000-01</td>\n",
       "      <td>52</td>\n",
       "      <td>22</td>\n",
       "      <td>0.0</td>\n",
       "      <td>2PT Field Goal</td>\n",
       "      <td>Right Side Center(RC)</td>\n",
       "      <td>Mid-Range</td>\n",
       "      <td>16-24 ft.</td>\n",
       "      <td>2000-10-31</td>\n",
       "      <td>LAL @ POR</td>\n",
       "      <td>POR</td>\n",
       "      <td>4</td>\n",
       "    </tr>\n",
       "    <tr>\n",
       "      <th>4</th>\n",
       "      <td>Driving Dunk Shot</td>\n",
       "      <td>Dunk</td>\n",
       "      <td>0</td>\n",
       "      <td>0</td>\n",
       "      <td>6</td>\n",
       "      <td>2</td>\n",
       "      <td>0</td>\n",
       "      <td>2000-01</td>\n",
       "      <td>19</td>\n",
       "      <td>0</td>\n",
       "      <td>1.0</td>\n",
       "      <td>2PT Field Goal</td>\n",
       "      <td>Center(C)</td>\n",
       "      <td>Restricted Area</td>\n",
       "      <td>Less Than 8 ft.</td>\n",
       "      <td>2000-10-31</td>\n",
       "      <td>LAL @ POR</td>\n",
       "      <td>POR</td>\n",
       "      <td>5</td>\n",
       "    </tr>\n",
       "  </tbody>\n",
       "</table>\n",
       "</div>"
      ],
      "text/plain": [
       "         action_type combined_shot_type  loc_x  loc_y  minutes_remaining  \\\n",
       "0          Jump Shot          Jump Shot    167     72                 10   \n",
       "1          Jump Shot          Jump Shot   -157      0                 10   \n",
       "2          Jump Shot          Jump Shot   -101    135                  7   \n",
       "3          Jump Shot          Jump Shot    138    175                  6   \n",
       "4  Driving Dunk Shot               Dunk      0      0                  6   \n",
       "\n",
       "   period  playoffs   season  seconds_remaining  shot_distance  \\\n",
       "0       1         0  2000-01                 27             18   \n",
       "1       1         0  2000-01                 22             15   \n",
       "2       1         0  2000-01                 45             16   \n",
       "3       1         0  2000-01                 52             22   \n",
       "4       2         0  2000-01                 19              0   \n",
       "\n",
       "   shot_made_flag       shot_type         shot_zone_area  shot_zone_basic  \\\n",
       "0             NaN  2PT Field Goal          Right Side(R)        Mid-Range   \n",
       "1             0.0  2PT Field Goal           Left Side(L)        Mid-Range   \n",
       "2             1.0  2PT Field Goal   Left Side Center(LC)        Mid-Range   \n",
       "3             0.0  2PT Field Goal  Right Side Center(RC)        Mid-Range   \n",
       "4             1.0  2PT Field Goal              Center(C)  Restricted Area   \n",
       "\n",
       "   shot_zone_range   game_date    matchup opponent  shot_id  \n",
       "0        16-24 ft.  2000-10-31  LAL @ POR      POR        1  \n",
       "1         8-16 ft.  2000-10-31  LAL @ POR      POR        2  \n",
       "2        16-24 ft.  2000-10-31  LAL @ POR      POR        3  \n",
       "3        16-24 ft.  2000-10-31  LAL @ POR      POR        4  \n",
       "4  Less Than 8 ft.  2000-10-31  LAL @ POR      POR        5  "
      ]
     },
     "execution_count": 22,
     "metadata": {},
     "output_type": "execute_result"
    }
   ],
   "source": [
    "df.head()"
   ]
  },
  {
   "cell_type": "markdown",
   "metadata": {},
   "source": [
    "## Convert categorical columns into dummies"
   ]
  },
  {
   "cell_type": "code",
   "execution_count": 23,
   "metadata": {
    "collapsed": true
   },
   "outputs": [],
   "source": [
    "def extract_dummies(df, *categories):\n",
    "    for category in categories:\n",
    "        dummies = pd.get_dummies(df[category])\n",
    "        dummies = dummies.add_prefix(\"{}#\".format(category))\n",
    "        df.drop(category, axis=1, inplace=True)\n",
    "        df = df.join(dummies)\n",
    "    return df"
   ]
  },
  {
   "cell_type": "markdown",
   "metadata": {},
   "source": [
    "## Extract the season number"
   ]
  },
  {
   "cell_type": "code",
   "execution_count": 24,
   "metadata": {
    "collapsed": false
   },
   "outputs": [],
   "source": [
    "def get_season_number(dt):\n",
    "        start_year = 1996\n",
    "        # Kobe's rookie season was 1996-1997\n",
    "        # Seasons start in October, end by July of the next year\n",
    "        if dt.month < 8:\n",
    "            return dt.year - start_year\n",
    "        else:\n",
    "            return dt.year - start_year + 1\n",
    "\n",
    "def extract_season_info(df):\n",
    "    df['game_date'] = pd.to_datetime(df['game_date'])\n",
    "    df = df.sort_values(['game_date'])\n",
    "    df['year'] = df['game_date'].dt.year\n",
    "    df['month'] = df['game_date'].dt.month\n",
    "    df['day'] = df['game_date'].dt.day\n",
    "    # Next, let's extract the season number \n",
    "    df['season'] = df['game_date'].apply(get_season_number)\n",
    "    df = extract_dummies(df, 'year', 'month', 'day')\n",
    "    return df\n",
    "\n",
    "# Note that a lot of things after this will require the season number so I'm doing it here\n",
    "df = extract_season_info(df)"
   ]
  },
  {
   "cell_type": "code",
   "execution_count": 25,
   "metadata": {
    "collapsed": false
   },
   "outputs": [
    {
     "data": {
      "text/html": [
       "<div>\n",
       "<table border=\"1\" class=\"dataframe\">\n",
       "  <thead>\n",
       "    <tr style=\"text-align: right;\">\n",
       "      <th></th>\n",
       "      <th>action_type</th>\n",
       "      <th>combined_shot_type</th>\n",
       "      <th>loc_x</th>\n",
       "      <th>loc_y</th>\n",
       "      <th>minutes_remaining</th>\n",
       "      <th>period</th>\n",
       "      <th>playoffs</th>\n",
       "      <th>season</th>\n",
       "      <th>seconds_remaining</th>\n",
       "      <th>shot_distance</th>\n",
       "      <th>...</th>\n",
       "      <th>day#22</th>\n",
       "      <th>day#23</th>\n",
       "      <th>day#24</th>\n",
       "      <th>day#25</th>\n",
       "      <th>day#26</th>\n",
       "      <th>day#27</th>\n",
       "      <th>day#28</th>\n",
       "      <th>day#29</th>\n",
       "      <th>day#30</th>\n",
       "      <th>day#31</th>\n",
       "    </tr>\n",
       "  </thead>\n",
       "  <tbody>\n",
       "    <tr>\n",
       "      <th>22901</th>\n",
       "      <td>Jump Shot</td>\n",
       "      <td>Jump Shot</td>\n",
       "      <td>-140</td>\n",
       "      <td>116</td>\n",
       "      <td>0</td>\n",
       "      <td>1</td>\n",
       "      <td>0</td>\n",
       "      <td>1</td>\n",
       "      <td>42</td>\n",
       "      <td>18</td>\n",
       "      <td>...</td>\n",
       "      <td>0.0</td>\n",
       "      <td>0.0</td>\n",
       "      <td>0.0</td>\n",
       "      <td>0.0</td>\n",
       "      <td>0.0</td>\n",
       "      <td>0.0</td>\n",
       "      <td>0.0</td>\n",
       "      <td>0.0</td>\n",
       "      <td>0.0</td>\n",
       "      <td>0.0</td>\n",
       "    </tr>\n",
       "    <tr>\n",
       "      <th>22902</th>\n",
       "      <td>Jump Shot</td>\n",
       "      <td>Jump Shot</td>\n",
       "      <td>-131</td>\n",
       "      <td>97</td>\n",
       "      <td>10</td>\n",
       "      <td>2</td>\n",
       "      <td>0</td>\n",
       "      <td>1</td>\n",
       "      <td>8</td>\n",
       "      <td>16</td>\n",
       "      <td>...</td>\n",
       "      <td>0.0</td>\n",
       "      <td>0.0</td>\n",
       "      <td>0.0</td>\n",
       "      <td>0.0</td>\n",
       "      <td>0.0</td>\n",
       "      <td>0.0</td>\n",
       "      <td>0.0</td>\n",
       "      <td>0.0</td>\n",
       "      <td>0.0</td>\n",
       "      <td>0.0</td>\n",
       "    </tr>\n",
       "    <tr>\n",
       "      <th>22903</th>\n",
       "      <td>Jump Shot</td>\n",
       "      <td>Jump Shot</td>\n",
       "      <td>-142</td>\n",
       "      <td>181</td>\n",
       "      <td>8</td>\n",
       "      <td>2</td>\n",
       "      <td>0</td>\n",
       "      <td>1</td>\n",
       "      <td>37</td>\n",
       "      <td>23</td>\n",
       "      <td>...</td>\n",
       "      <td>0.0</td>\n",
       "      <td>0.0</td>\n",
       "      <td>0.0</td>\n",
       "      <td>0.0</td>\n",
       "      <td>0.0</td>\n",
       "      <td>0.0</td>\n",
       "      <td>0.0</td>\n",
       "      <td>0.0</td>\n",
       "      <td>0.0</td>\n",
       "      <td>0.0</td>\n",
       "    </tr>\n",
       "    <tr>\n",
       "      <th>22904</th>\n",
       "      <td>Jump Shot</td>\n",
       "      <td>Jump Shot</td>\n",
       "      <td>0</td>\n",
       "      <td>0</td>\n",
       "      <td>6</td>\n",
       "      <td>2</td>\n",
       "      <td>0</td>\n",
       "      <td>1</td>\n",
       "      <td>34</td>\n",
       "      <td>0</td>\n",
       "      <td>...</td>\n",
       "      <td>0.0</td>\n",
       "      <td>0.0</td>\n",
       "      <td>0.0</td>\n",
       "      <td>0.0</td>\n",
       "      <td>0.0</td>\n",
       "      <td>0.0</td>\n",
       "      <td>0.0</td>\n",
       "      <td>0.0</td>\n",
       "      <td>0.0</td>\n",
       "      <td>0.0</td>\n",
       "    </tr>\n",
       "    <tr>\n",
       "      <th>22905</th>\n",
       "      <td>Jump Shot</td>\n",
       "      <td>Jump Shot</td>\n",
       "      <td>-10</td>\n",
       "      <td>138</td>\n",
       "      <td>5</td>\n",
       "      <td>2</td>\n",
       "      <td>0</td>\n",
       "      <td>1</td>\n",
       "      <td>27</td>\n",
       "      <td>13</td>\n",
       "      <td>...</td>\n",
       "      <td>0.0</td>\n",
       "      <td>0.0</td>\n",
       "      <td>0.0</td>\n",
       "      <td>0.0</td>\n",
       "      <td>0.0</td>\n",
       "      <td>0.0</td>\n",
       "      <td>0.0</td>\n",
       "      <td>0.0</td>\n",
       "      <td>0.0</td>\n",
       "      <td>0.0</td>\n",
       "    </tr>\n",
       "  </tbody>\n",
       "</table>\n",
       "<p>5 rows × 80 columns</p>\n",
       "</div>"
      ],
      "text/plain": [
       "      action_type combined_shot_type  loc_x  loc_y  minutes_remaining  period  \\\n",
       "22901   Jump Shot          Jump Shot   -140    116                  0       1   \n",
       "22902   Jump Shot          Jump Shot   -131     97                 10       2   \n",
       "22903   Jump Shot          Jump Shot   -142    181                  8       2   \n",
       "22904   Jump Shot          Jump Shot      0      0                  6       2   \n",
       "22905   Jump Shot          Jump Shot    -10    138                  5       2   \n",
       "\n",
       "       playoffs  season  seconds_remaining  shot_distance   ...    day#22  \\\n",
       "22901         0       1                 42             18   ...       0.0   \n",
       "22902         0       1                  8             16   ...       0.0   \n",
       "22903         0       1                 37             23   ...       0.0   \n",
       "22904         0       1                 34              0   ...       0.0   \n",
       "22905         0       1                 27             13   ...       0.0   \n",
       "\n",
       "      day#23 day#24 day#25 day#26 day#27 day#28 day#29  day#30  day#31  \n",
       "22901    0.0    0.0    0.0    0.0    0.0    0.0    0.0     0.0     0.0  \n",
       "22902    0.0    0.0    0.0    0.0    0.0    0.0    0.0     0.0     0.0  \n",
       "22903    0.0    0.0    0.0    0.0    0.0    0.0    0.0     0.0     0.0  \n",
       "22904    0.0    0.0    0.0    0.0    0.0    0.0    0.0     0.0     0.0  \n",
       "22905    0.0    0.0    0.0    0.0    0.0    0.0    0.0     0.0     0.0  \n",
       "\n",
       "[5 rows x 80 columns]"
      ]
     },
     "execution_count": 25,
     "metadata": {},
     "output_type": "execute_result"
    }
   ],
   "source": [
    "df.head()"
   ]
  },
  {
   "cell_type": "markdown",
   "metadata": {},
   "source": [
    "## Extract Opponent Team's Defensive Rating"
   ]
  },
  {
   "cell_type": "code",
   "execution_count": 26,
   "metadata": {
    "collapsed": false,
    "scrolled": false
   },
   "outputs": [],
   "source": [
    "def get_defensive_rating(x):\n",
    "    try:\n",
    "        return defensive_stats[x[0]-1][x[1]]\n",
    "    except:\n",
    "        return defensive_stats[x[0]-1]['NOH'] # This is really hacky but New Orleans was having an identity crisis... \n",
    "    \n",
    "def extract_defensive_ratings(df):\n",
    "    df['Opponent DRtg/A'] = df[['season', 'opponent']].apply(get_defensive_rating, axis=1)\n",
    "    return df"
   ]
  },
  {
   "cell_type": "markdown",
   "metadata": {},
   "source": [
    "## Extract Shot Information\n",
    "Here we'll get the Euclidean distance of the shot as well as the side of the court he shot from"
   ]
  },
  {
   "cell_type": "code",
   "execution_count": 27,
   "metadata": {
    "collapsed": false
   },
   "outputs": [],
   "source": [
    "def extract_shot_binned(df):\n",
    "    df['loc_x'] = pd.cut(df['loc_x'], 25)\n",
    "    df['loc_y'] = pd.cut(df['loc_y'], 25)\n",
    "    df = extract_dummies(df, 'loc_x', 'loc_y')\n",
    "    return df"
   ]
  },
  {
   "cell_type": "code",
   "execution_count": 28,
   "metadata": {
    "collapsed": true
   },
   "outputs": [],
   "source": [
    "def get_shot_moving(action_type):\n",
    "    if 'Driving' in action_type:\n",
    "        return 1\n",
    "    if 'Running' in action_type:\n",
    "        return 1\n",
    "    return 0\n",
    "\n",
    "def extract_shot_moving(df):\n",
    "    df['moving'] = df['action_type'].apply(get_shot_moving)\n",
    "    return df"
   ]
  },
  {
   "cell_type": "code",
   "execution_count": 29,
   "metadata": {
    "collapsed": true
   },
   "outputs": [],
   "source": [
    "# Use this one to extract all shot information\n",
    "def extract_shot_info(df):\n",
    "    drop = ['shot_type', 'shot_zone_basic', 'shot_zone_area']\n",
    "    # df = extract_shot_binned(df)\n",
    "    df = extract_shot_moving(df)\n",
    "    df.drop(drop, axis=1, inplace=True)\n",
    "    df = extract_dummies(df, 'combined_shot_type', 'shot_zone_range')\n",
    "    return df"
   ]
  },
  {
   "cell_type": "markdown",
   "metadata": {},
   "source": [
    "## Extract Home/Away and if this is the second game of a back to back"
   ]
  },
  {
   "cell_type": "code",
   "execution_count": 30,
   "metadata": {
    "collapsed": false
   },
   "outputs": [],
   "source": [
    "# Whether or not this was a home game\n",
    "def home_game(matchup):\n",
    "    if '@' in matchup:\n",
    "        return 0\n",
    "    else:\n",
    "        return 1\n",
    "\n",
    "def extract_home_games(df):\n",
    "    df['home'] = df['matchup'].apply(home_game)\n",
    "    df.drop('matchup', axis=1, inplace=True)\n",
    "    return df"
   ]
  },
  {
   "cell_type": "code",
   "execution_count": 31,
   "metadata": {
    "collapsed": true
   },
   "outputs": [],
   "source": [
    "def get_segababa(game_date, all_game_dates):\n",
    "    this_game_index = all_game_dates.index(game_date)\n",
    "    if this_game_index == 0: # First game of the season\n",
    "        return 0\n",
    "    previous_game_date = all_game_dates[this_game_index - 1]\n",
    "    delta = game_date - previous_game_date\n",
    "    if delta.days == 1:\n",
    "        return 1\n",
    "    else:\n",
    "        return 0\n",
    "\n",
    "def extract_segababa(df):\n",
    "    all_game_dates = sorted(list(set(df['game_date'])))\n",
    "    df['segababa'] = df['game_date'].apply(get_segababa, args=(all_game_dates,))\n",
    "    df.drop('game_date', axis=1, inplace=True)\n",
    "    return df"
   ]
  },
  {
   "cell_type": "markdown",
   "metadata": {},
   "source": [
    "## Extract if this was a shot in the last 5 seconds of the period"
   ]
  },
  {
   "cell_type": "code",
   "execution_count": 32,
   "metadata": {
    "collapsed": true
   },
   "outputs": [],
   "source": [
    "# This function is used for determine how much time is left in the game (in minutes)\n",
    "def extract_seconds_remaining(df):\n",
    "    df['seconds_left_in_period'] = 60 * df['minutes_remaining'] + df['seconds_remaining']\n",
    "    df['last_5_seconds'] = df['seconds_left_in_period'] < 5\n",
    "    df.drop('seconds_left_in_period', axis=1, inplace=True)\n",
    "    df.drop('minutes_remaining', axis=1, inplace=True)\n",
    "    df.drop('seconds_remaining', axis=1, inplace=True)\n",
    "    return df"
   ]
  },
  {
   "cell_type": "markdown",
   "metadata": {},
   "source": [
    "## Combine all of our extractions"
   ]
  },
  {
   "cell_type": "code",
   "execution_count": 33,
   "metadata": {
    "collapsed": false
   },
   "outputs": [],
   "source": [
    "# Keep the shot_id for the test stuff\n",
    "def process_data(df):\n",
    "    # df = extract_season_info(df) - DON'T INCLUDE THIS, IT SHOULD ALREADY BE DONE\n",
    "    df = extract_defensive_ratings(df)\n",
    "    df = extract_shot_info(df)\n",
    "    df = extract_home_games(df)\n",
    "    df = extract_segababa(df)\n",
    "    df = extract_seconds_remaining(df)\n",
    "    df = extract_dummies(df, 'opponent', 'action_type')\n",
    "    return df\n",
    "    \n",
    "df_processed = process_data(df)"
   ]
  },
  {
   "cell_type": "code",
   "execution_count": 34,
   "metadata": {
    "collapsed": false
   },
   "outputs": [],
   "source": [
    "submit_mask = df['shot_made_flag'].isnull()\n",
    "df_submit = df_processed[submit_mask]\n",
    "\n",
    "df_processed = df_processed.dropna().drop('shot_id', axis=1)"
   ]
  },
  {
   "cell_type": "markdown",
   "metadata": {},
   "source": [
    "## Choose the best 20 features"
   ]
  },
  {
   "cell_type": "code",
   "execution_count": 35,
   "metadata": {
    "collapsed": true
   },
   "outputs": [],
   "source": [
    "X = df_processed.drop('shot_made_flag', axis=1)\n",
    "y = df_processed['shot_made_flag']"
   ]
  },
  {
   "cell_type": "code",
   "execution_count": 36,
   "metadata": {
    "collapsed": false
   },
   "outputs": [
    {
     "data": {
      "text/html": [
       "<div>\n",
       "<table border=\"1\" class=\"dataframe\">\n",
       "  <thead>\n",
       "    <tr style=\"text-align: right;\">\n",
       "      <th></th>\n",
       "      <th>loc_x</th>\n",
       "      <th>loc_y</th>\n",
       "      <th>period</th>\n",
       "      <th>playoffs</th>\n",
       "      <th>season</th>\n",
       "      <th>shot_distance</th>\n",
       "      <th>year#1996</th>\n",
       "      <th>year#1997</th>\n",
       "      <th>year#1998</th>\n",
       "      <th>year#1999</th>\n",
       "      <th>...</th>\n",
       "      <th>action_type#Slam Dunk Shot</th>\n",
       "      <th>action_type#Step Back Jump shot</th>\n",
       "      <th>action_type#Tip Layup Shot</th>\n",
       "      <th>action_type#Tip Shot</th>\n",
       "      <th>action_type#Turnaround Bank shot</th>\n",
       "      <th>action_type#Turnaround Fadeaway Bank Jump Shot</th>\n",
       "      <th>action_type#Turnaround Fadeaway shot</th>\n",
       "      <th>action_type#Turnaround Finger Roll Shot</th>\n",
       "      <th>action_type#Turnaround Hook Shot</th>\n",
       "      <th>action_type#Turnaround Jump Shot</th>\n",
       "    </tr>\n",
       "  </thead>\n",
       "  <tbody>\n",
       "    <tr>\n",
       "      <th>22901</th>\n",
       "      <td>-140</td>\n",
       "      <td>116</td>\n",
       "      <td>1</td>\n",
       "      <td>0</td>\n",
       "      <td>1</td>\n",
       "      <td>18</td>\n",
       "      <td>1.0</td>\n",
       "      <td>0.0</td>\n",
       "      <td>0.0</td>\n",
       "      <td>0.0</td>\n",
       "      <td>...</td>\n",
       "      <td>0.0</td>\n",
       "      <td>0.0</td>\n",
       "      <td>0.0</td>\n",
       "      <td>0.0</td>\n",
       "      <td>0.0</td>\n",
       "      <td>0.0</td>\n",
       "      <td>0.0</td>\n",
       "      <td>0.0</td>\n",
       "      <td>0.0</td>\n",
       "      <td>0.0</td>\n",
       "    </tr>\n",
       "    <tr>\n",
       "      <th>22902</th>\n",
       "      <td>-131</td>\n",
       "      <td>97</td>\n",
       "      <td>2</td>\n",
       "      <td>0</td>\n",
       "      <td>1</td>\n",
       "      <td>16</td>\n",
       "      <td>1.0</td>\n",
       "      <td>0.0</td>\n",
       "      <td>0.0</td>\n",
       "      <td>0.0</td>\n",
       "      <td>...</td>\n",
       "      <td>0.0</td>\n",
       "      <td>0.0</td>\n",
       "      <td>0.0</td>\n",
       "      <td>0.0</td>\n",
       "      <td>0.0</td>\n",
       "      <td>0.0</td>\n",
       "      <td>0.0</td>\n",
       "      <td>0.0</td>\n",
       "      <td>0.0</td>\n",
       "      <td>0.0</td>\n",
       "    </tr>\n",
       "    <tr>\n",
       "      <th>22903</th>\n",
       "      <td>-142</td>\n",
       "      <td>181</td>\n",
       "      <td>2</td>\n",
       "      <td>0</td>\n",
       "      <td>1</td>\n",
       "      <td>23</td>\n",
       "      <td>1.0</td>\n",
       "      <td>0.0</td>\n",
       "      <td>0.0</td>\n",
       "      <td>0.0</td>\n",
       "      <td>...</td>\n",
       "      <td>0.0</td>\n",
       "      <td>0.0</td>\n",
       "      <td>0.0</td>\n",
       "      <td>0.0</td>\n",
       "      <td>0.0</td>\n",
       "      <td>0.0</td>\n",
       "      <td>0.0</td>\n",
       "      <td>0.0</td>\n",
       "      <td>0.0</td>\n",
       "      <td>0.0</td>\n",
       "    </tr>\n",
       "    <tr>\n",
       "      <th>22904</th>\n",
       "      <td>0</td>\n",
       "      <td>0</td>\n",
       "      <td>2</td>\n",
       "      <td>0</td>\n",
       "      <td>1</td>\n",
       "      <td>0</td>\n",
       "      <td>1.0</td>\n",
       "      <td>0.0</td>\n",
       "      <td>0.0</td>\n",
       "      <td>0.0</td>\n",
       "      <td>...</td>\n",
       "      <td>0.0</td>\n",
       "      <td>0.0</td>\n",
       "      <td>0.0</td>\n",
       "      <td>0.0</td>\n",
       "      <td>0.0</td>\n",
       "      <td>0.0</td>\n",
       "      <td>0.0</td>\n",
       "      <td>0.0</td>\n",
       "      <td>0.0</td>\n",
       "      <td>0.0</td>\n",
       "    </tr>\n",
       "    <tr>\n",
       "      <th>22905</th>\n",
       "      <td>-10</td>\n",
       "      <td>138</td>\n",
       "      <td>2</td>\n",
       "      <td>0</td>\n",
       "      <td>1</td>\n",
       "      <td>13</td>\n",
       "      <td>1.0</td>\n",
       "      <td>0.0</td>\n",
       "      <td>0.0</td>\n",
       "      <td>0.0</td>\n",
       "      <td>...</td>\n",
       "      <td>0.0</td>\n",
       "      <td>0.0</td>\n",
       "      <td>0.0</td>\n",
       "      <td>0.0</td>\n",
       "      <td>0.0</td>\n",
       "      <td>0.0</td>\n",
       "      <td>0.0</td>\n",
       "      <td>0.0</td>\n",
       "      <td>0.0</td>\n",
       "      <td>0.0</td>\n",
       "    </tr>\n",
       "  </tbody>\n",
       "</table>\n",
       "<p>5 rows × 173 columns</p>\n",
       "</div>"
      ],
      "text/plain": [
       "       loc_x  loc_y  period  playoffs  season  shot_distance  year#1996  \\\n",
       "22901   -140    116       1         0       1             18        1.0   \n",
       "22902   -131     97       2         0       1             16        1.0   \n",
       "22903   -142    181       2         0       1             23        1.0   \n",
       "22904      0      0       2         0       1              0        1.0   \n",
       "22905    -10    138       2         0       1             13        1.0   \n",
       "\n",
       "       year#1997  year#1998  year#1999                ...                 \\\n",
       "22901        0.0        0.0        0.0                ...                  \n",
       "22902        0.0        0.0        0.0                ...                  \n",
       "22903        0.0        0.0        0.0                ...                  \n",
       "22904        0.0        0.0        0.0                ...                  \n",
       "22905        0.0        0.0        0.0                ...                  \n",
       "\n",
       "       action_type#Slam Dunk Shot  action_type#Step Back Jump shot  \\\n",
       "22901                         0.0                              0.0   \n",
       "22902                         0.0                              0.0   \n",
       "22903                         0.0                              0.0   \n",
       "22904                         0.0                              0.0   \n",
       "22905                         0.0                              0.0   \n",
       "\n",
       "       action_type#Tip Layup Shot  action_type#Tip Shot  \\\n",
       "22901                         0.0                   0.0   \n",
       "22902                         0.0                   0.0   \n",
       "22903                         0.0                   0.0   \n",
       "22904                         0.0                   0.0   \n",
       "22905                         0.0                   0.0   \n",
       "\n",
       "       action_type#Turnaround Bank shot  \\\n",
       "22901                               0.0   \n",
       "22902                               0.0   \n",
       "22903                               0.0   \n",
       "22904                               0.0   \n",
       "22905                               0.0   \n",
       "\n",
       "       action_type#Turnaround Fadeaway Bank Jump Shot  \\\n",
       "22901                                             0.0   \n",
       "22902                                             0.0   \n",
       "22903                                             0.0   \n",
       "22904                                             0.0   \n",
       "22905                                             0.0   \n",
       "\n",
       "       action_type#Turnaround Fadeaway shot  \\\n",
       "22901                                   0.0   \n",
       "22902                                   0.0   \n",
       "22903                                   0.0   \n",
       "22904                                   0.0   \n",
       "22905                                   0.0   \n",
       "\n",
       "       action_type#Turnaround Finger Roll Shot  \\\n",
       "22901                                      0.0   \n",
       "22902                                      0.0   \n",
       "22903                                      0.0   \n",
       "22904                                      0.0   \n",
       "22905                                      0.0   \n",
       "\n",
       "       action_type#Turnaround Hook Shot  action_type#Turnaround Jump Shot  \n",
       "22901                               0.0                               0.0  \n",
       "22902                               0.0                               0.0  \n",
       "22903                               0.0                               0.0  \n",
       "22904                               0.0                               0.0  \n",
       "22905                               0.0                               0.0  \n",
       "\n",
       "[5 rows x 173 columns]"
      ]
     },
     "execution_count": 36,
     "metadata": {},
     "output_type": "execute_result"
    }
   ],
   "source": [
    "X.head()"
   ]
  },
  {
   "cell_type": "code",
   "execution_count": 38,
   "metadata": {
    "collapsed": false
   },
   "outputs": [
    {
     "data": {
      "text/plain": [
       "Index([u'loc_x', u'loc_y', u'period', u'playoffs', u'season', u'shot_distance',\n",
       "       u'year#2016', u'month#1', u'month#2', u'month#3', u'month#10',\n",
       "       u'month#11', u'day#31', u'Opponent DRtg/A',\n",
       "       u'combined_shot_type#Hook Shot', u'combined_shot_type#Jump Shot',\n",
       "       u'combined_shot_type#Tip Shot', u'shot_zone_range#16-24 ft.',\n",
       "       u'shot_zone_range#24+ ft.', u'shot_zone_range#Back Court Shot',\n",
       "       u'shot_zone_range#Less Than 8 ft.', u'home',\n",
       "       u'action_type#Jump Hook Shot'],\n",
       "      dtype='object')"
      ]
     },
     "execution_count": 38,
     "metadata": {},
     "output_type": "execute_result"
    }
   ],
   "source": [
    "from sklearn.feature_selection import VarianceThreshold\n",
    "\n",
    "threshold = 0.90\n",
    "vt = VarianceThreshold().fit(X)\n",
    "\n",
    "# Find feature names\n",
    "feat_var_threshold = df_processed.columns[vt.variances_ > threshold * (1-threshold)]\n",
    "feat_var_threshold"
   ]
  },
  {
   "cell_type": "markdown",
   "metadata": {},
   "source": [
    "## Best features according to the Random Forest Classifier"
   ]
  },
  {
   "cell_type": "code",
   "execution_count": 39,
   "metadata": {
    "collapsed": false
   },
   "outputs": [
    {
     "data": {
      "text/plain": [
       "Index([u'loc_y', u'loc_x', u'shot_distance', u'period', u'Opponent DRtg/A',\n",
       "       u'action_type#Jump Shot', u'season', u'combined_shot_type#Dunk',\n",
       "       u'home', u'moving', u'action_type#Layup Shot', u'segababa', u'month#1',\n",
       "       u'month#12', u'month#3', u'action_type#Driving Layup Shot',\n",
       "       u'shot_zone_range#16-24 ft.', u'month#4', u'month#2',\n",
       "       u'shot_zone_range#8-16 ft.'],\n",
       "      dtype='object')"
      ]
     },
     "execution_count": 39,
     "metadata": {},
     "output_type": "execute_result"
    }
   ],
   "source": [
    "from sklearn.ensemble import RandomForestClassifier\n",
    "\n",
    "rfc = RandomForestClassifier()\n",
    "rfc.fit(X,y)\n",
    "\n",
    "feature_imp = pd.DataFrame(rfc.feature_importances_, index=X.columns, columns=[\"importance\"])\n",
    "feat_imp_20 = feature_imp.sort_values(\"importance\", ascending=False).head(20).index\n",
    "feat_imp_20"
   ]
  },
  {
   "cell_type": "markdown",
   "metadata": {},
   "source": [
    "## Using Univariate Classifier"
   ]
  },
  {
   "cell_type": "code",
   "execution_count": 40,
   "metadata": {
    "collapsed": false
   },
   "outputs": [
    {
     "data": {
      "text/plain": [
       "array(['moving', 'combined_shot_type#Dunk', 'action_type#Jump Shot',\n",
       "       'action_type#Driving Layup Shot', 'shot_zone_range#Less Than 8 ft.',\n",
       "       'action_type#Slam Dunk Shot', 'action_type#Driving Dunk Shot',\n",
       "       'action_type#Running Jump Shot', 'shot_zone_range#24+ ft.',\n",
       "       'combined_shot_type#Layup', 'combined_shot_type#Jump Shot',\n",
       "       'last_5_seconds', 'action_type#Jump Bank Shot',\n",
       "       'action_type#Pullup Jump shot', 'action_type#Dunk Shot',\n",
       "       'action_type#Alley Oop Dunk Shot', 'shot_distance',\n",
       "       'action_type#Turnaround Jump Shot',\n",
       "       'action_type#Fadeaway Jump Shot', 'combined_shot_type#Bank Shot'], dtype=object)"
      ]
     },
     "execution_count": 40,
     "metadata": {},
     "output_type": "execute_result"
    }
   ],
   "source": [
    "from sklearn.preprocessing import MinMaxScaler\n",
    "from sklearn.feature_selection import SelectKBest, chi2\n",
    "\n",
    "\n",
    "X_minmax = MinMaxScaler(feature_range=(0,1)).fit_transform(X)\n",
    "X_scored = SelectKBest(score_func=chi2, k='all').fit(X_minmax, y)\n",
    "feature_scoring = pd.DataFrame({\n",
    "        'feature': X.columns,\n",
    "        'score': X_scored.scores_\n",
    "    })\n",
    "\n",
    "feat_scored_20 = feature_scoring.sort_values('score', ascending=False).head(20)['feature'].values\n",
    "feat_scored_20"
   ]
  },
  {
   "cell_type": "markdown",
   "metadata": {},
   "source": [
    "## Using RFE"
   ]
  },
  {
   "cell_type": "code",
   "execution_count": 41,
   "metadata": {
    "collapsed": false
   },
   "outputs": [
    {
     "data": {
      "text/plain": [
       "array(['combined_shot_type#Bank Shot', 'combined_shot_type#Dunk',\n",
       "       'combined_shot_type#Tip Shot', 'shot_zone_range#Back Court Shot',\n",
       "       'last_5_seconds', 'action_type#Driving Dunk Shot',\n",
       "       'action_type#Driving Finger Roll Layup Shot',\n",
       "       'action_type#Driving Finger Roll Shot',\n",
       "       'action_type#Driving Jump shot', 'action_type#Dunk Shot',\n",
       "       'action_type#Fadeaway Bank shot',\n",
       "       'action_type#Finger Roll Layup Shot', 'action_type#Hook Shot',\n",
       "       'action_type#Jump Shot', 'action_type#Layup Shot',\n",
       "       'action_type#Pullup Bank shot',\n",
       "       'action_type#Putback Slam Dunk Shot',\n",
       "       'action_type#Running Finger Roll Shot',\n",
       "       'action_type#Running Hook Shot', 'action_type#Slam Dunk Shot'], dtype=object)"
      ]
     },
     "execution_count": 41,
     "metadata": {},
     "output_type": "execute_result"
    }
   ],
   "source": [
    "from sklearn.feature_selection import RFE\n",
    "from sklearn.linear_model import LogisticRegression\n",
    "\n",
    "rfe = RFE(LogisticRegression(), 20)\n",
    "rfe.fit(X, y)\n",
    "\n",
    "feature_rfe_scoring = pd.DataFrame({\n",
    "        'feature': X.columns,\n",
    "        'score': rfe.ranking_\n",
    "    })\n",
    "\n",
    "feat_rfe_20 = feature_rfe_scoring[feature_rfe_scoring['score'] == 1]['feature'].values\n",
    "feat_rfe_20"
   ]
  },
  {
   "cell_type": "markdown",
   "metadata": {},
   "source": [
    "## Final feature selection"
   ]
  },
  {
   "cell_type": "code",
   "execution_count": 102,
   "metadata": {
    "collapsed": false
   },
   "outputs": [
    {
     "name": "stdout",
     "output_type": "stream",
     "text": [
      "Final features set:\n",
      "\n",
      "\t-Opponent DRtg/A\n",
      "\t-action_type#Alley Oop Dunk Shot\n",
      "\t-action_type#Driving Dunk Shot\n",
      "\t-action_type#Driving Finger Roll Layup Shot\n",
      "\t-action_type#Driving Finger Roll Shot\n",
      "\t-action_type#Driving Jump shot\n",
      "\t-action_type#Driving Layup Shot\n",
      "\t-action_type#Dunk Shot\n",
      "\t-action_type#Fadeaway Bank shot\n",
      "\t-action_type#Hook Shot\n",
      "\t-action_type#Jump Bank Shot\n",
      "\t-action_type#Jump Hook Shot\n",
      "\t-action_type#Jump Shot\n",
      "\t-action_type#Layup Shot\n",
      "\t-action_type#Pullup Jump shot\n",
      "\t-action_type#Putback Slam Dunk Shot\n",
      "\t-action_type#Running Finger Roll Shot\n",
      "\t-action_type#Running Hook Shot\n",
      "\t-action_type#Running Jump Shot\n",
      "\t-action_type#Slam Dunk Shot\n",
      "\t-combined_shot_type#Dunk\n",
      "\t-combined_shot_type#Hook Shot\n",
      "\t-combined_shot_type#Jump Shot\n",
      "\t-combined_shot_type#Layup\n",
      "\t-combined_shot_type#Tip Shot\n",
      "\t-day#31\n",
      "\t-home\n",
      "\t-last_5_seconds\n",
      "\t-loc_x#(-10.96, 8.96]\n",
      "\t-loc_x#(-30.88, -10.96]\n",
      "\t-loc_x#(128.48, 148.4]\n",
      "\t-loc_y#(-10.6, 22.8]\n",
      "\t-loc_y#(-44.835, -10.6]\n",
      "\t-loc_y#(123, 156.4]\n",
      "\t-loc_y#(223.2, 256.6]\n",
      "\t-loc_y#(290, 323.4]\n",
      "\t-loc_y#(356.8, 390.2]\n",
      "\t-loc_y#(390.2, 423.6]\n",
      "\t-loc_y#(757.6, 791]\n",
      "\t-loc_y#(89.6, 123]\n",
      "\t-month#1\n",
      "\t-month#10\n",
      "\t-month#11\n",
      "\t-month#12\n",
      "\t-month#2\n",
      "\t-month#3\n",
      "\t-month#4\n",
      "\t-moving\n",
      "\t-period\n",
      "\t-playoffs\n",
      "\t-season\n",
      "\t-segababa\n",
      "\t-shot_distance\n",
      "\t-shot_zone_range#16-24 ft.\n",
      "\t-shot_zone_range#24+ ft.\n",
      "\t-shot_zone_range#Back Court Shot\n",
      "\t-shot_zone_range#Less Than 8 ft.\n",
      "\t-year#2016\n"
     ]
    }
   ],
   "source": [
    "features = np.hstack([\n",
    "        feat_var_threshold, \n",
    "        feat_imp_20,\n",
    "        feat_scored_20,\n",
    "        feat_rfe_20\n",
    "    ])\n",
    "\n",
    "features = np.unique(features)\n",
    "print('Final features set:\\n')\n",
    "for f in features:\n",
    "    print(\"\\t-{}\".format(f))"
   ]
  },
  {
   "cell_type": "code",
   "execution_count": 103,
   "metadata": {
    "collapsed": false
   },
   "outputs": [],
   "source": [
    "train_labels = np.hstack([features, 'shot_made_flag'])\n",
    "test_labels = np.hstack([features, 'shot_id'])\n",
    "\n",
    "df_processed = df_processed[train_labels]\n",
    "df_submit = df_submit[test_labels]"
   ]
  },
  {
   "cell_type": "code",
   "execution_count": 105,
   "metadata": {
    "collapsed": true
   },
   "outputs": [],
   "source": [
    "df_processed.to_csv('../data/processed_data.csv')\n",
    "df_submit.to_csv('../data/submit_data.csv')"
   ]
  }
 ],
 "metadata": {
  "anaconda-cloud": {},
  "kernelspec": {
   "display_name": "Python [conda root]",
   "language": "python",
   "name": "conda-root-py"
  },
  "language_info": {
   "codemirror_mode": {
    "name": "ipython",
    "version": 2
   },
   "file_extension": ".py",
   "mimetype": "text/x-python",
   "name": "python",
   "nbconvert_exporter": "python",
   "pygments_lexer": "ipython2",
   "version": "2.7.12"
  }
 },
 "nbformat": 4,
 "nbformat_minor": 1
}
